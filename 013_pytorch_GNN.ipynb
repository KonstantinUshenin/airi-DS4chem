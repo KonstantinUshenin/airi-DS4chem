{
 "cells": [
  {
   "cell_type": "code",
   "execution_count": 1,
   "id": "3113c912-7f37-4a91-81d6-631318890ed7",
   "metadata": {},
   "outputs": [],
   "source": [
    "import torch\n",
    "import torch.nn as nn\n",
    "import torch.nn.functional as F"
   ]
  },
  {
   "cell_type": "markdown",
   "id": "9b70416d-346b-4947-a21e-aef950c14c06",
   "metadata": {},
   "source": [
    "# GCN"
   ]
  },
  {
   "cell_type": "code",
   "execution_count": 4,
   "id": "86242c29-b899-4a59-9680-e11065a5a5bf",
   "metadata": {},
   "outputs": [],
   "source": [
    "# Example graph\n",
    "# Edge list format: [source, destination]\n",
    "edge_index = torch.tensor([\n",
    "    [0, 1, 1, 2, 2, 3],  # source\n",
    "    [1, 0, 2, 1, 3, 2]   # destination\n",
    "], dtype=torch.long)\n",
    "\n",
    "# Node features: 4 nodes × 3 features\n",
    "x = torch.tensor([\n",
    "    [1, 0, 2],\n",
    "    [0, 1, 0],\n",
    "    [1, 1, 0],\n",
    "    [0, 0, 1]\n",
    "], dtype=torch.float32)\n",
    "\n",
    "y = torch.tensor([0, 1, 1, 0])  # node labels"
   ]
  },
  {
   "cell_type": "code",
   "execution_count": 5,
   "id": "e64449a0-2aec-4f41-a349-f2a87fffec79",
   "metadata": {},
   "outputs": [],
   "source": [
    "# --- Define GCN Layer using edge list ---\n",
    "class GCNLayer(nn.Module):\n",
    "    def __init__(self, in_features, out_features):\n",
    "        super().__init__()\n",
    "        self.W = nn.Parameter(torch.randn(in_features, out_features) * 0.01)\n",
    "\n",
    "    def forward(self, x, edge_index):\n",
    "        \"\"\"\n",
    "        x: [N, in_features]\n",
    "        edge_index: [2, E] tensor where each column is (src, dst)\n",
    "        \"\"\"\n",
    "        num_nodes = x.size(0)\n",
    "        src, dst = edge_index\n",
    "\n",
    "        # Step 1: Add self-loops\n",
    "        self_loops = torch.arange(num_nodes)\n",
    "        self_loops = self_loops.unsqueeze(0).repeat(2, 1)\n",
    "        edge_index = torch.cat([edge_index, self_loops], dim=1)\n",
    "        src, dst = edge_index\n",
    "\n",
    "        # Step 2: Compute degree\n",
    "        deg = torch.bincount(dst, minlength=num_nodes).float()\n",
    "        deg_inv_sqrt = torch.pow(deg, -0.5)\n",
    "        deg_inv_sqrt[deg_inv_sqrt == float(\"inf\")] = 0\n",
    "\n",
    "        # Step 3: Linear transformation\n",
    "        x = x @ self.W\n",
    "\n",
    "        # Step 4: Message passing (normalized aggregation)\n",
    "        messages = deg_inv_sqrt[dst].unsqueeze(1) * x[src]\n",
    "        out = torch.zeros_like(x)\n",
    "        out.index_add_(0, dst, messages * deg_inv_sqrt[dst].unsqueeze(1))\n",
    "\n",
    "        # Step 5: Activation\n",
    "        return F.relu(out)"
   ]
  },
  {
   "cell_type": "code",
   "execution_count": 6,
   "id": "2ad26352-acda-4f82-8526-b53852efdb48",
   "metadata": {},
   "outputs": [],
   "source": [
    "class GCN(nn.Module):\n",
    "    def __init__(self, in_features, hidden, out_features):\n",
    "        super().__init__()\n",
    "        self.conv1 = GCNLayer(in_features, hidden)\n",
    "        self.conv2 = GCNLayer(hidden, out_features)\n",
    "\n",
    "    def forward(self, x, edge_index):\n",
    "        x = self.conv1(x, edge_index)\n",
    "        x = self.conv2(x, edge_index)\n",
    "        return x\n"
   ]
  },
  {
   "cell_type": "code",
   "execution_count": 7,
   "id": "6035b212-c76e-4ef4-9548-11edbd4d5dd9",
   "metadata": {},
   "outputs": [
    {
     "name": "stdout",
     "output_type": "stream",
     "text": [
      "Epoch 000: Loss=0.6931, Acc=0.5000\n",
      "Epoch 020: Loss=0.6926, Acc=0.5000\n",
      "Epoch 040: Loss=0.6910, Acc=0.5000\n",
      "Epoch 060: Loss=0.6892, Acc=0.5000\n",
      "Epoch 080: Loss=0.6865, Acc=0.5000\n",
      "Epoch 100: Loss=0.6844, Acc=0.5000\n",
      "Epoch 120: Loss=0.6836, Acc=0.5000\n",
      "Epoch 140: Loss=0.6835, Acc=0.5000\n",
      "Epoch 160: Loss=0.6835, Acc=0.5000\n",
      "Epoch 180: Loss=0.6835, Acc=0.5000\n"
     ]
    }
   ],
   "source": [
    "model = GCN(in_features=3, hidden=4, out_features=2)\n",
    "optimizer = torch.optim.Adam(model.parameters(), lr=0.01)\n",
    "loss_fn = nn.CrossEntropyLoss()\n",
    "\n",
    "for epoch in range(200):\n",
    "    optimizer.zero_grad()\n",
    "    out = model(x, edge_index)\n",
    "    loss = loss_fn(out, y)\n",
    "    loss.backward()\n",
    "    optimizer.step()\n",
    "\n",
    "    if epoch % 20 == 0:\n",
    "        pred = out.argmax(dim=1)\n",
    "        acc = (pred == y).float().mean()\n",
    "        print(f\"Epoch {epoch:03d}: Loss={loss.item():.4f}, Acc={acc.item():.4f}\")\n"
   ]
  },
  {
   "cell_type": "markdown",
   "id": "9b970ccd-06aa-4934-9b77-2b7212c2f9ee",
   "metadata": {},
   "source": [
    "# MPNN"
   ]
  },
  {
   "cell_type": "code",
   "execution_count": 10,
   "id": "6d075ba8-7a8f-490a-80b8-c9807f9b171b",
   "metadata": {},
   "outputs": [],
   "source": [
    "edge_index = torch.tensor([\n",
    "    [0, 1, 1, 2, 2, 3],  # src\n",
    "    [1, 0, 2, 1, 3, 2]   # dst\n",
    "], dtype=torch.long)\n",
    "\n",
    "x = torch.tensor([\n",
    "    [1.0, 0.0, 2.0],\n",
    "    [0.0, 1.0, 0.0],\n",
    "    [1.0, 1.0, 0.0],\n",
    "    [0.0, 0.0, 1.0],\n",
    "])\n",
    "\n",
    "y = torch.tensor([0, 1, 1, 0])\n"
   ]
  },
  {
   "cell_type": "code",
   "execution_count": 11,
   "id": "f2c6b00a-a543-493c-a248-660e7f7f4f03",
   "metadata": {},
   "outputs": [],
   "source": [
    "# --- Define MPNN layer ---\n",
    "class MPNNLayer(nn.Module):\n",
    "    def __init__(self, in_features, out_features):\n",
    "        super().__init__()\n",
    "        # Learnable message function\n",
    "        self.msg_fn = nn.Sequential(\n",
    "            nn.Linear(2 * in_features, out_features),\n",
    "            nn.ReLU()\n",
    "        )\n",
    "        # Update function\n",
    "        self.update_fn = nn.Sequential(\n",
    "            nn.Linear(in_features + out_features, out_features),\n",
    "            nn.ReLU()\n",
    "        )\n",
    "\n",
    "    def forward(self, x, edge_index):\n",
    "        \"\"\"\n",
    "        x: [N, F_in]\n",
    "        edge_index: [2, E]\n",
    "        \"\"\"\n",
    "        src, dst = edge_index\n",
    "        num_nodes = x.size(0)\n",
    "\n",
    "        # Step 1: Compute messages for all edges\n",
    "        # Concatenate source and destination node features\n",
    "        messages = self.msg_fn(torch.cat([x[src], x[dst]], dim=1))  # [E, out_features]\n",
    "\n",
    "        # Step 2: Aggregate messages by destination node (sum)\n",
    "        aggr_msg = torch.zeros(num_nodes, messages.size(1), device=x.device)\n",
    "        aggr_msg.index_add_(0, dst, messages)\n",
    "\n",
    "        # Step 3: Update node features using previous state + aggregated message\n",
    "        new_x = self.update_fn(torch.cat([x, aggr_msg], dim=1))\n",
    "        return new_x\n"
   ]
  },
  {
   "cell_type": "code",
   "execution_count": 12,
   "id": "6ad595c3-12df-4b22-8bce-bfb46612558b",
   "metadata": {},
   "outputs": [],
   "source": [
    "class MPNN(nn.Module):\n",
    "    def __init__(self, in_features, hidden, out_features):\n",
    "        super().__init__()\n",
    "        self.mp1 = MPNNLayer(in_features, hidden)\n",
    "        self.mp2 = MPNNLayer(hidden, hidden)\n",
    "        self.out = nn.Linear(hidden, out_features)\n",
    "\n",
    "    def forward(self, x, edge_index):\n",
    "        x = self.mp1(x, edge_index)\n",
    "        x = self.mp2(x, edge_index)\n",
    "        x = self.out(x)\n",
    "        return x"
   ]
  },
  {
   "cell_type": "code",
   "execution_count": 13,
   "id": "1c78b209-ce4e-417d-9893-6863303cf205",
   "metadata": {},
   "outputs": [
    {
     "name": "stdout",
     "output_type": "stream",
     "text": [
      "Epoch 000: Loss=0.7062, Acc=0.5000\n",
      "Epoch 020: Loss=0.0021, Acc=1.0000\n",
      "Epoch 040: Loss=0.0000, Acc=1.0000\n",
      "Epoch 060: Loss=0.0000, Acc=1.0000\n",
      "Epoch 080: Loss=0.0000, Acc=1.0000\n",
      "Epoch 100: Loss=0.0000, Acc=1.0000\n",
      "Epoch 120: Loss=0.0000, Acc=1.0000\n",
      "Epoch 140: Loss=0.0000, Acc=1.0000\n",
      "Epoch 160: Loss=0.0000, Acc=1.0000\n",
      "Epoch 180: Loss=0.0000, Acc=1.0000\n"
     ]
    }
   ],
   "source": [
    "model = MPNN(in_features=3, hidden=8, out_features=2)\n",
    "optimizer = torch.optim.Adam(model.parameters(), lr=0.01)\n",
    "loss_fn = nn.CrossEntropyLoss()\n",
    "\n",
    "for epoch in range(200):\n",
    "    optimizer.zero_grad()\n",
    "    out = model(x, edge_index)\n",
    "    loss = loss_fn(out, y)\n",
    "    loss.backward()\n",
    "    optimizer.step()\n",
    "\n",
    "    if epoch % 20 == 0:\n",
    "        pred = out.argmax(dim=1)\n",
    "        acc = (pred == y).float().mean()\n",
    "        print(f\"Epoch {epoch:03d}: Loss={loss.item():.4f}, Acc={acc.item():.4f}\")\n"
   ]
  },
  {
   "cell_type": "code",
   "execution_count": 14,
   "id": "c91054e7-c8eb-424e-8336-fa26f5de5307",
   "metadata": {},
   "outputs": [
    {
     "name": "stdout",
     "output_type": "stream",
     "text": [
      "Predicted labels: [0, 1, 1, 0]\n",
      "True labels:      [0, 1, 1, 0]\n"
     ]
    }
   ],
   "source": [
    "with torch.no_grad():\n",
    "    preds = model(x, edge_index).argmax(dim=1)\n",
    "print(\"Predicted labels:\", preds.tolist())\n",
    "print(\"True labels:     \", y.tolist())"
   ]
  },
  {
   "cell_type": "code",
   "execution_count": null,
   "id": "93ab8946-6350-4879-b15b-9284f8e45a9e",
   "metadata": {},
   "outputs": [],
   "source": []
  },
  {
   "cell_type": "code",
   "execution_count": null,
   "id": "b52adcc9-e99d-47db-a3b5-f539579ed50a",
   "metadata": {},
   "outputs": [],
   "source": []
  },
  {
   "cell_type": "code",
   "execution_count": null,
   "id": "e9f2639d-352a-48cd-bc1c-cad7ea13f38f",
   "metadata": {},
   "outputs": [],
   "source": []
  },
  {
   "cell_type": "code",
   "execution_count": null,
   "id": "b7fd4730-076a-4392-a8fd-69870fc5b496",
   "metadata": {},
   "outputs": [],
   "source": []
  }
 ],
 "metadata": {
  "kernelspec": {
   "display_name": "Python 3.11 (llm)",
   "language": "python",
   "name": "llm"
  },
  "language_info": {
   "codemirror_mode": {
    "name": "ipython",
    "version": 3
   },
   "file_extension": ".py",
   "mimetype": "text/x-python",
   "name": "python",
   "nbconvert_exporter": "python",
   "pygments_lexer": "ipython3",
   "version": "3.11.12"
  }
 },
 "nbformat": 4,
 "nbformat_minor": 5
}
