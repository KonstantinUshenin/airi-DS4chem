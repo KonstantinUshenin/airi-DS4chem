{
 "cells": [
  {
   "cell_type": "code",
   "execution_count": 1,
   "id": "296d5c8a-40a7-42fb-9a0e-7d8a578197b5",
   "metadata": {},
   "outputs": [],
   "source": [
    "import pandas as pd"
   ]
  },
  {
   "cell_type": "markdown",
   "id": "c0f86d18-cbd9-4782-b54a-f73ba7656107",
   "metadata": {},
   "source": [
    "## Series\n",
    "- \"Массив\" данных\n",
    "- Дополнительно имеет индект и молекулярный вес"
   ]
  },
  {
   "cell_type": "code",
   "execution_count": 123,
   "id": "df7c44db-232b-4f11-a3f3-27e75193f837",
   "metadata": {},
   "outputs": [
    {
     "data": {
      "text/plain": [
       "0    46.07\n",
       "1    16.04\n",
       "2    78.11\n",
       "3    58.08\n",
       "dtype: float64"
      ]
     },
     "execution_count": 123,
     "metadata": {},
     "output_type": "execute_result"
    }
   ],
   "source": [
    "mw = pd.Series([46.07, 16.04, 78.11, 58.08])\n",
    "mw"
   ]
  },
  {
   "cell_type": "code",
   "execution_count": 124,
   "id": "aa1130df-96d1-418c-aa93-c888b4092135",
   "metadata": {},
   "outputs": [
    {
     "data": {
      "text/plain": [
       "46.07"
      ]
     },
     "execution_count": 124,
     "metadata": {},
     "output_type": "execute_result"
    }
   ],
   "source": [
    "mw[0]"
   ]
  },
  {
   "cell_type": "code",
   "execution_count": 125,
   "id": "67988ddf-ee27-4641-8d8d-b624ed75c9ed",
   "metadata": {},
   "outputs": [
    {
     "data": {
      "text/plain": [
       "46.07"
      ]
     },
     "execution_count": 125,
     "metadata": {},
     "output_type": "execute_result"
    }
   ],
   "source": [
    "mw.iloc[0]"
   ]
  },
  {
   "cell_type": "code",
   "execution_count": 126,
   "id": "9f56ee0c-091f-4fd8-98e5-77149575e1b4",
   "metadata": {},
   "outputs": [
    {
     "data": {
      "text/plain": [
       "Ethanol    46.07\n",
       "Methane    16.04\n",
       "Benzene    78.11\n",
       "Acetone    58.08\n",
       "Name: MolecularWeight, dtype: float64"
      ]
     },
     "execution_count": 126,
     "metadata": {},
     "output_type": "execute_result"
    }
   ],
   "source": [
    "mw = pd.Series(\n",
    "    [46.07, 16.04, 78.11, 58.08],\n",
    "    index=[\"Ethanol\", \"Methane\", \"Benzene\", \"Acetone\"],\n",
    "    name=\"MolecularWeight\"\n",
    ")\n",
    "mw"
   ]
  },
  {
   "cell_type": "code",
   "execution_count": 127,
   "id": "3056c21a-5b32-4e2e-afcf-11290cf33c40",
   "metadata": {},
   "outputs": [
    {
     "data": {
      "text/plain": [
       "46.07"
      ]
     },
     "execution_count": 127,
     "metadata": {},
     "output_type": "execute_result"
    }
   ],
   "source": [
    "mw.iloc[0]"
   ]
  },
  {
   "cell_type": "code",
   "execution_count": 128,
   "id": "2768c958-e08f-4dec-92a0-dc7fe70a2843",
   "metadata": {},
   "outputs": [
    {
     "data": {
      "text/plain": [
       "78.11"
      ]
     },
     "execution_count": 128,
     "metadata": {},
     "output_type": "execute_result"
    }
   ],
   "source": [
    "mw[\"Benzene\"]"
   ]
  },
  {
   "cell_type": "code",
   "execution_count": 129,
   "id": "d66d437e-58e5-4ffa-a2ff-882218fb27e9",
   "metadata": {},
   "outputs": [],
   "source": [
    "## Векторизованные операции"
   ]
  },
  {
   "cell_type": "code",
   "execution_count": 130,
   "id": "e114bea4-8f55-4dad-92d0-625009553be7",
   "metadata": {},
   "outputs": [
    {
     "data": {
      "text/plain": [
       "Ethanol    2122.4449\n",
       "Methane     257.2816\n",
       "Benzene    6101.1721\n",
       "Acetone    3373.2864\n",
       "Name: MolecularWeight, dtype: float64"
      ]
     },
     "execution_count": 130,
     "metadata": {},
     "output_type": "execute_result"
    }
   ],
   "source": [
    "mw**2"
   ]
  },
  {
   "cell_type": "code",
   "execution_count": 131,
   "id": "ef9e007b-6ed2-4684-941a-74cdbcae1e33",
   "metadata": {},
   "outputs": [
    {
     "data": {
      "text/plain": [
       "Ethanol    2122.4449\n",
       "Methane     257.2816\n",
       "Benzene    6101.1721\n",
       "Acetone    3373.2864\n",
       "Name: MolecularWeight, dtype: float64"
      ]
     },
     "execution_count": 131,
     "metadata": {},
     "output_type": "execute_result"
    }
   ],
   "source": [
    "def my_sq(x):\n",
    "    return x**2\n",
    "\n",
    "mw.apply(lambda x: x**2)"
   ]
  },
  {
   "cell_type": "code",
   "execution_count": 132,
   "id": "6ff6c052-6c5a-4135-8732-bcfd69e728aa",
   "metadata": {},
   "outputs": [
    {
     "data": {
      "text/plain": [
       "Ethanol    2122.4449\n",
       "Methane     257.2816\n",
       "Benzene    6101.1721\n",
       "Acetone    3373.2864\n",
       "Name: MolecularWeight, dtype: float64"
      ]
     },
     "execution_count": 132,
     "metadata": {},
     "output_type": "execute_result"
    }
   ],
   "source": [
    "mw.apply(lambda x: x**2)"
   ]
  },
  {
   "cell_type": "code",
   "execution_count": 133,
   "id": "e5cc6b76-ca31-49b2-b048-3f6d3da02467",
   "metadata": {},
   "outputs": [
    {
     "name": "stdout",
     "output_type": "stream",
     "text": [
      "Mean MW: 49.575\n",
      "Min MW: 16.04\n",
      "Max MW: 78.11\n"
     ]
    }
   ],
   "source": [
    "print(\"Mean MW:\", mw.mean())\n",
    "print(\"Min MW:\", mw.min())\n",
    "print(\"Max MW:\", mw.max())"
   ]
  },
  {
   "cell_type": "code",
   "execution_count": 134,
   "id": "05c8deb3-5691-4d4b-aa5a-4f06a38cbf12",
   "metadata": {},
   "outputs": [
    {
     "name": "stdout",
     "output_type": "stream",
     "text": [
      "Sorted:\n",
      " Methane    16.04\n",
      "Ethanol    46.07\n",
      "Acetone    58.08\n",
      "Benzene    78.11\n",
      "Name: MolecularWeight, dtype: float64\n"
     ]
    }
   ],
   "source": [
    "print(\"Sorted:\\n\", mw.sort_values())"
   ]
  },
  {
   "cell_type": "code",
   "execution_count": 135,
   "id": "37c87708-6260-4b7a-82da-eb05880e0b86",
   "metadata": {},
   "outputs": [
    {
     "data": {
      "text/plain": [
       "Ethanol    46.07\n",
       "Methane    16.04\n",
       "Benzene    78.11\n",
       "Acetone    58.08\n",
       "Name: MolecularWeight, dtype: float64"
      ]
     },
     "execution_count": 135,
     "metadata": {},
     "output_type": "execute_result"
    }
   ],
   "source": [
    "mw.T # Одиночные серии не транспонируются"
   ]
  },
  {
   "cell_type": "code",
   "execution_count": 136,
   "id": "3a5f5b36-edc6-48d4-96b6-bf369af54a0a",
   "metadata": {},
   "outputs": [
    {
     "data": {
      "text/plain": [
       "Ethanol    46.07\n",
       "Methane    16.04\n",
       "Benzene    78.11\n",
       "Acetone    58.08\n",
       "Name: MolecularWeight, dtype: float64"
      ]
     },
     "execution_count": 136,
     "metadata": {},
     "output_type": "execute_result"
    }
   ],
   "source": [
    "mw"
   ]
  },
  {
   "cell_type": "code",
   "execution_count": 137,
   "id": "c7d6d874-1de3-4e9b-af43-381772890847",
   "metadata": {},
   "outputs": [
    {
     "data": {
      "text/plain": [
       "array([46.07, 16.04, 78.11, 58.08])"
      ]
     },
     "execution_count": 137,
     "metadata": {},
     "output_type": "execute_result"
    }
   ],
   "source": [
    "mw.T.values"
   ]
  },
  {
   "cell_type": "code",
   "execution_count": 138,
   "id": "662a04d0-7ab6-49f3-a643-d8dc6b003ec5",
   "metadata": {},
   "outputs": [
    {
     "data": {
      "text/plain": [
       "array([46.07, 16.04, 78.11, 58.08])"
      ]
     },
     "execution_count": 138,
     "metadata": {},
     "output_type": "execute_result"
    }
   ],
   "source": [
    "mw.values"
   ]
  },
  {
   "cell_type": "code",
   "execution_count": 139,
   "id": "85c91e0e-47cc-47a2-ace0-4050aef534fc",
   "metadata": {},
   "outputs": [],
   "source": [
    "## Фильтрация"
   ]
  },
  {
   "cell_type": "code",
   "execution_count": 140,
   "id": "93438f57-9037-4d46-baf8-1a629ce81f15",
   "metadata": {},
   "outputs": [
    {
     "data": {
      "text/plain": [
       "Ethanol     True\n",
       "Methane    False\n",
       "Benzene     True\n",
       "Acetone     True\n",
       "Name: MolecularWeight, dtype: bool"
      ]
     },
     "execution_count": 140,
     "metadata": {},
     "output_type": "execute_result"
    }
   ],
   "source": [
    "mw > 20"
   ]
  },
  {
   "cell_type": "code",
   "execution_count": 141,
   "id": "f3913089-c7c7-4acb-8017-91fb60c3904a",
   "metadata": {},
   "outputs": [
    {
     "data": {
      "text/plain": [
       "Ethanol    46.07\n",
       "Benzene    78.11\n",
       "Acetone    58.08\n",
       "Name: MolecularWeight, dtype: float64"
      ]
     },
     "execution_count": 141,
     "metadata": {},
     "output_type": "execute_result"
    }
   ],
   "source": [
    "mw[mw > 20]"
   ]
  },
  {
   "cell_type": "code",
   "execution_count": 142,
   "id": "130889de-9f2a-4518-85b2-29a6c1a582d8",
   "metadata": {},
   "outputs": [
    {
     "data": {
      "text/plain": [
       "Ethanol    46.07\n",
       "Name: MolecularWeight, dtype: float64"
      ]
     },
     "execution_count": 142,
     "metadata": {},
     "output_type": "execute_result"
    }
   ],
   "source": [
    "mw[(20 < mw) & (mw < 50)]"
   ]
  },
  {
   "cell_type": "code",
   "execution_count": 143,
   "id": "def075df-ab45-4319-9bcd-0de668888b6b",
   "metadata": {},
   "outputs": [
    {
     "ename": "ValueError",
     "evalue": "The truth value of a Series is ambiguous. Use a.empty, a.bool(), a.item(), a.any() or a.all().",
     "output_type": "error",
     "traceback": [
      "\u001b[0;31m---------------------------------------------------------------------------\u001b[0m",
      "\u001b[0;31mValueError\u001b[0m                                Traceback (most recent call last)",
      "\u001b[0;32m/tmp/ipykernel_152598/2660706071.py\u001b[0m in \u001b[0;36m?\u001b[0;34m()\u001b[0m\n\u001b[0;32m----> 1\u001b[0;31m \u001b[0mmw\u001b[0m\u001b[0;34m[\u001b[0m\u001b[0;34m(\u001b[0m\u001b[0;36m20\u001b[0m \u001b[0;34m<\u001b[0m \u001b[0mmw\u001b[0m\u001b[0;34m)\u001b[0m \u001b[0;32mand\u001b[0m \u001b[0;34m(\u001b[0m\u001b[0mmw\u001b[0m \u001b[0;34m<\u001b[0m \u001b[0;36m50\u001b[0m\u001b[0;34m)\u001b[0m\u001b[0;34m]\u001b[0m \u001b[0;31m# НЕ БУДЕТ РАБОТАТЬ!\u001b[0m\u001b[0;34m\u001b[0m\u001b[0;34m\u001b[0m\u001b[0m\n\u001b[0m",
      "\u001b[0;32m~/anaconda3/envs/p4env/lib/python3.10/site-packages/pandas/core/generic.py\u001b[0m in \u001b[0;36m?\u001b[0;34m(self)\u001b[0m\n\u001b[1;32m   1575\u001b[0m     \u001b[0;34m@\u001b[0m\u001b[0mfinal\u001b[0m\u001b[0;34m\u001b[0m\u001b[0;34m\u001b[0m\u001b[0m\n\u001b[1;32m   1576\u001b[0m     \u001b[0;32mdef\u001b[0m \u001b[0m__nonzero__\u001b[0m\u001b[0;34m(\u001b[0m\u001b[0mself\u001b[0m\u001b[0;34m)\u001b[0m \u001b[0;34m->\u001b[0m \u001b[0mNoReturn\u001b[0m\u001b[0;34m:\u001b[0m\u001b[0;34m\u001b[0m\u001b[0;34m\u001b[0m\u001b[0m\n\u001b[0;32m-> 1577\u001b[0;31m         raise ValueError(\n\u001b[0m\u001b[1;32m   1578\u001b[0m             \u001b[0;34mf\"The truth value of a {type(self).__name__} is ambiguous. \"\u001b[0m\u001b[0;34m\u001b[0m\u001b[0;34m\u001b[0m\u001b[0m\n\u001b[1;32m   1579\u001b[0m             \u001b[0;34m\"Use a.empty, a.bool(), a.item(), a.any() or a.all().\"\u001b[0m\u001b[0;34m\u001b[0m\u001b[0;34m\u001b[0m\u001b[0m\n\u001b[1;32m   1580\u001b[0m         )\n",
      "\u001b[0;31mValueError\u001b[0m: The truth value of a Series is ambiguous. Use a.empty, a.bool(), a.item(), a.any() or a.all()."
     ]
    }
   ],
   "source": [
    "mw[(20 < mw) and (mw < 50)] # НЕ БУДЕТ РАБОТАТЬ!"
   ]
  },
  {
   "cell_type": "markdown",
   "id": "f3a05354-7ce4-448c-8323-4bc7494fbeff",
   "metadata": {},
   "source": [
    "## DataFrame создание"
   ]
  },
  {
   "cell_type": "code",
   "execution_count": 144,
   "id": "3104b727-8a07-41b1-bad4-d6a5d630d4b4",
   "metadata": {},
   "outputs": [
    {
     "name": "stdout",
     "output_type": "stream",
     "text": [
      "  Molecule  MolecularWeight  LogP\n",
      "0  Ethanol            46.07 -0.31\n",
      "1  Methane            16.04  1.09\n",
      "2  Benzene            78.11  2.13\n",
      "3  Acetone            58.08 -0.24\n"
     ]
    }
   ],
   "source": [
    "import pandas as pd\n",
    "\n",
    "data = {\n",
    "    \"Molecule\": [\"Ethanol\", \"Methane\", \"Benzene\", \"Acetone\"],\n",
    "    \"MolecularWeight\": [46.07, 16.04, 78.11, 58.08],\n",
    "    \"LogP\": [-0.31, 1.09, 2.13, -0.24],\n",
    "}\n",
    "\n",
    "df = pd.DataFrame(data)\n",
    "print(df)\n"
   ]
  },
  {
   "cell_type": "code",
   "execution_count": 145,
   "id": "b0fb5898-cd0d-4e01-a1bb-052486bc54ab",
   "metadata": {},
   "outputs": [
    {
     "name": "stdout",
     "output_type": "stream",
     "text": [
      "  Molecule  MolecularWeight  LogP\n",
      "0  Ethanol            46.07 -0.31\n",
      "1  Methane            16.04  1.09\n",
      "2  Benzene            78.11  2.13\n",
      "3  Acetone            58.08 -0.24\n"
     ]
    }
   ],
   "source": [
    "records = [\n",
    "    {\"Molecule\": \"Ethanol\", \"MolecularWeight\": 46.07, \"LogP\": -0.31},\n",
    "    {\"Molecule\": \"Methane\", \"MolecularWeight\": 16.04, \"LogP\": 1.09},\n",
    "    {\"Molecule\": \"Benzene\", \"MolecularWeight\": 78.11, \"LogP\": 2.13},\n",
    "    {\"Molecule\": \"Acetone\", \"MolecularWeight\": 58.08, \"LogP\": -0.24},\n",
    "]\n",
    "\n",
    "df = pd.DataFrame(records)\n",
    "print(df)\n"
   ]
  },
  {
   "cell_type": "code",
   "execution_count": 55,
   "id": "c7d62d7b-a48d-482d-84dd-5c73767f7a7d",
   "metadata": {},
   "outputs": [
    {
     "name": "stdout",
     "output_type": "stream",
     "text": [
      "         MolecularWeight  LogP\n",
      "Ethanol            46.07 -0.31\n",
      "Methane            16.04  1.09\n",
      "Benzene            78.11  2.13\n",
      "Acetone            58.08 -0.24\n"
     ]
    }
   ],
   "source": [
    "mw = pd.Series([46.07, 16.04, 78.11, 58.08],\n",
    "               index=[\"Ethanol\", \"Methane\", \"Benzene\", \"Acetone\"])\n",
    "logp = pd.Series([-0.31, 1.09, 2.13, -0.24],\n",
    "                 index=[\"Ethanol\", \"Methane\", \"Benzene\", \"Acetone\"])\n",
    "\n",
    "df = pd.DataFrame({\"MolecularWeight\": mw, \"LogP\": logp})\n",
    "print(df)\n"
   ]
  },
  {
   "cell_type": "code",
   "execution_count": 58,
   "id": "3bf8cbc3-7521-416b-825e-bec1e6926e12",
   "metadata": {},
   "outputs": [
    {
     "name": "stdout",
     "output_type": "stream",
     "text": [
      "  Molecule  MolecularWeight  LogP\n",
      "0  Ethanol            46.07 -0.31\n",
      "1  Methane            16.04  1.09\n",
      "2  Benzene            78.11  2.13\n",
      "3  Acetone            58.08 -0.24\n"
     ]
    }
   ],
   "source": [
    "data = [\n",
    "    [\"Ethanol\", 46.07, -0.31],\n",
    "    [\"Methane\", 16.04, 1.09],\n",
    "    [\"Benzene\", 78.11, 2.13],\n",
    "    [\"Acetone\", 58.08, -0.24],\n",
    "]\n",
    "\n",
    "df = pd.DataFrame(data, columns=[\"Molecule\", \"MolecularWeight\", \"LogP\"])\n",
    "print(df)"
   ]
  },
  {
   "cell_type": "code",
   "execution_count": 63,
   "id": "3e530417-d64e-4fbd-8705-fe20e001ede5",
   "metadata": {},
   "outputs": [
    {
     "name": "stdout",
     "output_type": "stream",
     "text": [
      "         MolecularWeight  LogP\n",
      "Ethanol            46.07 -0.31\n",
      "Methane            16.04  1.09\n",
      "Benzene            78.11  2.13\n",
      "Acetone            58.08 -0.24\n"
     ]
    }
   ],
   "source": [
    "import numpy as np\n",
    "\n",
    "arr = np.array([\n",
    "    [46.07, -0.31],\n",
    "    [16.04, 1.09],\n",
    "    [78.11, 2.13],\n",
    "    [58.08, -0.24],\n",
    "])\n",
    "\n",
    "df = pd.DataFrame(arr, columns=[\"MolecularWeight\", \"LogP\"],\n",
    "                  index=[\"Ethanol\", \"Methane\", \"Benzene\", \"Acetone\"])\n",
    "print(df)\n"
   ]
  },
  {
   "cell_type": "code",
   "execution_count": null,
   "id": "9b5df98f-e204-487e-a2ef-76021b715ecd",
   "metadata": {},
   "outputs": [],
   "source": []
  },
  {
   "cell_type": "code",
   "execution_count": 61,
   "id": "27d54631-bf7a-4725-9e58-15e2857359b1",
   "metadata": {},
   "outputs": [
    {
     "name": "stdout",
     "output_type": "stream",
     "text": [
      "  Molecule  MolecularWeight  LogP\n",
      "0  Ethanol            46.07 -0.31\n",
      "1  Methane            16.04  1.09\n",
      "2  Benzene            78.11  2.13\n",
      "3  Acetone            58.08 -0.24\n"
     ]
    }
   ],
   "source": [
    "# Save\n",
    "#df.to_csv(\"molecules.csv\", index=False)\n",
    "\n",
    "# Load\n",
    "df2 = pd.read_csv(\"molecules.csv\")\n",
    "print(df2.head())\n"
   ]
  },
  {
   "cell_type": "code",
   "execution_count": 62,
   "id": "b3e6054b-4962-4af3-93b6-8799132f9ecc",
   "metadata": {},
   "outputs": [
    {
     "name": "stdout",
     "output_type": "stream",
     "text": [
      "  Molecule    SMILES   MolWt\n",
      "0  Ethanol       CCO  46.069\n",
      "1  Methane         C  16.043\n",
      "2  Benzene  c1ccccc1  78.114\n",
      "3  Acetone   CC(=O)C  58.080\n"
     ]
    }
   ],
   "source": [
    "from rdkit import Chem\n",
    "from rdkit.Chem import Descriptors\n",
    "\n",
    "smiles = [\"CCO\", \"C\", \"c1ccccc1\", \"CC(=O)C\"]\n",
    "names = [\"Ethanol\", \"Methane\", \"Benzene\", \"Acetone\"]\n",
    "\n",
    "df = pd.DataFrame({\n",
    "    \"Molecule\": names,\n",
    "    \"SMILES\": smiles,\n",
    "})\n",
    "df[\"MolWt\"] = df[\"SMILES\"].apply(lambda s: Descriptors.MolWt(Chem.MolFromSmiles(s)))\n",
    "print(df)\n"
   ]
  },
  {
   "cell_type": "code",
   "execution_count": 64,
   "id": "22fea9f4-f904-4b5e-9e05-b7ad8bfd35cb",
   "metadata": {},
   "outputs": [],
   "source": [
    "# DataFrame очистка данных"
   ]
  },
  {
   "cell_type": "code",
   "execution_count": 86,
   "id": "a9c539ca-0736-4c54-9775-9d1b2b1c1ffb",
   "metadata": {},
   "outputs": [
    {
     "name": "stdout",
     "output_type": "stream",
     "text": [
      "  Molecule MolecularWeight  LogP\n",
      "0  Ethanol           46.07 -0.31\n",
      "1  Methane           16.04  1.09\n",
      "2  Benzene            None  2.13\n",
      "3  Acetone           58.08   NaN\n",
      "4     None          180.15  4.50\n",
      "5   Hexane              ??  3.57\n"
     ]
    }
   ],
   "source": [
    "import pandas as pd\n",
    "\n",
    "data = {\n",
    "    \"Molecule\": [\"Ethanol\", \"Methane\", \"Benzene\", \"Acetone\", None, \"Hexane\"],\n",
    "    \"MolecularWeight\": [46.07, 16.04, None, 58.08, 180.15, \"??\"],\n",
    "    \"LogP\": [-0.31, 1.09, 2.13, None, 4.50, 3.57]\n",
    "}\n",
    "\n",
    "df = pd.DataFrame(data)\n",
    "print(df)\n"
   ]
  },
  {
   "cell_type": "code",
   "execution_count": 87,
   "id": "6489de7e-ad55-4880-8aed-0fad748b638a",
   "metadata": {},
   "outputs": [
    {
     "data": {
      "text/plain": [
       "Molecule            object\n",
       "MolecularWeight     object\n",
       "LogP               float64\n",
       "dtype: object"
      ]
     },
     "execution_count": 87,
     "metadata": {},
     "output_type": "execute_result"
    }
   ],
   "source": [
    "df.dtypes"
   ]
  },
  {
   "cell_type": "code",
   "execution_count": 88,
   "id": "f58f7d57-a532-45d5-acfc-eee4be5c4784",
   "metadata": {},
   "outputs": [
    {
     "name": "stdout",
     "output_type": "stream",
     "text": [
      "<class 'pandas.core.frame.DataFrame'>\n",
      "RangeIndex: 6 entries, 0 to 5\n",
      "Data columns (total 3 columns):\n",
      " #   Column           Non-Null Count  Dtype  \n",
      "---  ------           --------------  -----  \n",
      " 0   Molecule         5 non-null      object \n",
      " 1   MolecularWeight  5 non-null      object \n",
      " 2   LogP             5 non-null      float64\n",
      "dtypes: float64(1), object(2)\n",
      "memory usage: 272.0+ bytes\n"
     ]
    }
   ],
   "source": [
    "df.info()"
   ]
  },
  {
   "cell_type": "code",
   "execution_count": 89,
   "id": "24528e89-79b2-443c-b521-59c1ca02046a",
   "metadata": {},
   "outputs": [
    {
     "data": {
      "text/plain": [
       "Molecule           1\n",
       "MolecularWeight    1\n",
       "LogP               1\n",
       "dtype: int64"
      ]
     },
     "execution_count": 89,
     "metadata": {},
     "output_type": "execute_result"
    }
   ],
   "source": [
    "df.isnull().sum()"
   ]
  },
  {
   "cell_type": "code",
   "execution_count": 90,
   "id": "ae8f00e0-c3a9-4e10-ad65-05508c11e194",
   "metadata": {},
   "outputs": [
    {
     "data": {
      "text/html": [
       "<div>\n",
       "<style scoped>\n",
       "    .dataframe tbody tr th:only-of-type {\n",
       "        vertical-align: middle;\n",
       "    }\n",
       "\n",
       "    .dataframe tbody tr th {\n",
       "        vertical-align: top;\n",
       "    }\n",
       "\n",
       "    .dataframe thead th {\n",
       "        text-align: right;\n",
       "    }\n",
       "</style>\n",
       "<table border=\"1\" class=\"dataframe\">\n",
       "  <thead>\n",
       "    <tr style=\"text-align: right;\">\n",
       "      <th></th>\n",
       "      <th>Molecule</th>\n",
       "      <th>MolecularWeight</th>\n",
       "      <th>LogP</th>\n",
       "    </tr>\n",
       "  </thead>\n",
       "  <tbody>\n",
       "    <tr>\n",
       "      <th>0</th>\n",
       "      <td>Ethanol</td>\n",
       "      <td>46.07</td>\n",
       "      <td>-0.31</td>\n",
       "    </tr>\n",
       "    <tr>\n",
       "      <th>1</th>\n",
       "      <td>Methane</td>\n",
       "      <td>16.04</td>\n",
       "      <td>1.09</td>\n",
       "    </tr>\n",
       "    <tr>\n",
       "      <th>5</th>\n",
       "      <td>Hexane</td>\n",
       "      <td>??</td>\n",
       "      <td>3.57</td>\n",
       "    </tr>\n",
       "  </tbody>\n",
       "</table>\n",
       "</div>"
      ],
      "text/plain": [
       "  Molecule MolecularWeight  LogP\n",
       "0  Ethanol           46.07 -0.31\n",
       "1  Methane           16.04  1.09\n",
       "5   Hexane              ??  3.57"
      ]
     },
     "execution_count": 90,
     "metadata": {},
     "output_type": "execute_result"
    }
   ],
   "source": [
    "df = df.dropna()\n",
    "df"
   ]
  },
  {
   "cell_type": "code",
   "execution_count": 91,
   "id": "3d642374-38f0-48c9-932e-24f18773be08",
   "metadata": {},
   "outputs": [
    {
     "data": {
      "text/html": [
       "<div>\n",
       "<style scoped>\n",
       "    .dataframe tbody tr th:only-of-type {\n",
       "        vertical-align: middle;\n",
       "    }\n",
       "\n",
       "    .dataframe tbody tr th {\n",
       "        vertical-align: top;\n",
       "    }\n",
       "\n",
       "    .dataframe thead th {\n",
       "        text-align: right;\n",
       "    }\n",
       "</style>\n",
       "<table border=\"1\" class=\"dataframe\">\n",
       "  <thead>\n",
       "    <tr style=\"text-align: right;\">\n",
       "      <th></th>\n",
       "      <th>Molecule</th>\n",
       "      <th>MolecularWeight</th>\n",
       "      <th>LogP</th>\n",
       "    </tr>\n",
       "  </thead>\n",
       "  <tbody>\n",
       "    <tr>\n",
       "      <th>0</th>\n",
       "      <td>Ethanol</td>\n",
       "      <td>46.07</td>\n",
       "      <td>-0.31</td>\n",
       "    </tr>\n",
       "    <tr>\n",
       "      <th>1</th>\n",
       "      <td>Methane</td>\n",
       "      <td>16.04</td>\n",
       "      <td>1.09</td>\n",
       "    </tr>\n",
       "    <tr>\n",
       "      <th>5</th>\n",
       "      <td>Hexane</td>\n",
       "      <td>NaN</td>\n",
       "      <td>3.57</td>\n",
       "    </tr>\n",
       "  </tbody>\n",
       "</table>\n",
       "</div>"
      ],
      "text/plain": [
       "  Molecule  MolecularWeight  LogP\n",
       "0  Ethanol            46.07 -0.31\n",
       "1  Methane            16.04  1.09\n",
       "5   Hexane              NaN  3.57"
      ]
     },
     "execution_count": 91,
     "metadata": {},
     "output_type": "execute_result"
    }
   ],
   "source": [
    "df[\"MolecularWeight\"] = pd.to_numeric(df[\"MolecularWeight\"], errors=\"coerce\")\n",
    "df"
   ]
  },
  {
   "cell_type": "code",
   "execution_count": 92,
   "id": "b2af4327-b2c7-4f62-a9c7-496f526b1aa8",
   "metadata": {},
   "outputs": [
    {
     "data": {
      "text/html": [
       "<div>\n",
       "<style scoped>\n",
       "    .dataframe tbody tr th:only-of-type {\n",
       "        vertical-align: middle;\n",
       "    }\n",
       "\n",
       "    .dataframe tbody tr th {\n",
       "        vertical-align: top;\n",
       "    }\n",
       "\n",
       "    .dataframe thead th {\n",
       "        text-align: right;\n",
       "    }\n",
       "</style>\n",
       "<table border=\"1\" class=\"dataframe\">\n",
       "  <thead>\n",
       "    <tr style=\"text-align: right;\">\n",
       "      <th></th>\n",
       "      <th>Molecule</th>\n",
       "      <th>MolecularWeight</th>\n",
       "      <th>LogP</th>\n",
       "    </tr>\n",
       "  </thead>\n",
       "  <tbody>\n",
       "    <tr>\n",
       "      <th>0</th>\n",
       "      <td>Ethanol</td>\n",
       "      <td>46.070</td>\n",
       "      <td>-0.31</td>\n",
       "    </tr>\n",
       "    <tr>\n",
       "      <th>1</th>\n",
       "      <td>Methane</td>\n",
       "      <td>16.040</td>\n",
       "      <td>1.09</td>\n",
       "    </tr>\n",
       "    <tr>\n",
       "      <th>5</th>\n",
       "      <td>Hexane</td>\n",
       "      <td>31.055</td>\n",
       "      <td>3.57</td>\n",
       "    </tr>\n",
       "  </tbody>\n",
       "</table>\n",
       "</div>"
      ],
      "text/plain": [
       "  Molecule  MolecularWeight  LogP\n",
       "0  Ethanol           46.070 -0.31\n",
       "1  Methane           16.040  1.09\n",
       "5   Hexane           31.055  3.57"
      ]
     },
     "execution_count": 92,
     "metadata": {},
     "output_type": "execute_result"
    }
   ],
   "source": [
    "df[\"MolecularWeight\"] = df[\"MolecularWeight\"].fillna(df[\"MolecularWeight\"].mean())\n",
    "df[\"LogP\"] = df[\"LogP\"].fillna(df[\"LogP\"].mean())\n",
    "df"
   ]
  },
  {
   "cell_type": "markdown",
   "id": "30128ab0-243b-4a9a-b8a9-935267b16497",
   "metadata": {},
   "source": [
    "# Group by"
   ]
  },
  {
   "cell_type": "code",
   "execution_count": 146,
   "id": "996b40c8-3254-418d-96da-685f337d6121",
   "metadata": {},
   "outputs": [
    {
     "data": {
      "text/html": [
       "<div>\n",
       "<style scoped>\n",
       "    .dataframe tbody tr th:only-of-type {\n",
       "        vertical-align: middle;\n",
       "    }\n",
       "\n",
       "    .dataframe tbody tr th {\n",
       "        vertical-align: top;\n",
       "    }\n",
       "\n",
       "    .dataframe thead th {\n",
       "        text-align: right;\n",
       "    }\n",
       "</style>\n",
       "<table border=\"1\" class=\"dataframe\">\n",
       "  <thead>\n",
       "    <tr style=\"text-align: right;\">\n",
       "      <th></th>\n",
       "      <th>Molecule</th>\n",
       "      <th>MolecularWeight</th>\n",
       "      <th>LogP</th>\n",
       "    </tr>\n",
       "  </thead>\n",
       "  <tbody>\n",
       "    <tr>\n",
       "      <th>0</th>\n",
       "      <td>Ethanol</td>\n",
       "      <td>46.07</td>\n",
       "      <td>-0.31</td>\n",
       "    </tr>\n",
       "    <tr>\n",
       "      <th>1</th>\n",
       "      <td>Methane</td>\n",
       "      <td>16.04</td>\n",
       "      <td>1.09</td>\n",
       "    </tr>\n",
       "    <tr>\n",
       "      <th>2</th>\n",
       "      <td>Benzene</td>\n",
       "      <td>78.11</td>\n",
       "      <td>2.13</td>\n",
       "    </tr>\n",
       "    <tr>\n",
       "      <th>3</th>\n",
       "      <td>Acetone</td>\n",
       "      <td>58.08</td>\n",
       "      <td>-0.24</td>\n",
       "    </tr>\n",
       "    <tr>\n",
       "      <th>4</th>\n",
       "      <td>Lauric acid</td>\n",
       "      <td>200.32</td>\n",
       "      <td>4.60</td>\n",
       "    </tr>\n",
       "  </tbody>\n",
       "</table>\n",
       "</div>"
      ],
      "text/plain": [
       "      Molecule  MolecularWeight  LogP\n",
       "0      Ethanol            46.07 -0.31\n",
       "1      Methane            16.04  1.09\n",
       "2      Benzene            78.11  2.13\n",
       "3      Acetone            58.08 -0.24\n",
       "4  Lauric acid           200.32  4.60"
      ]
     },
     "execution_count": 146,
     "metadata": {},
     "output_type": "execute_result"
    }
   ],
   "source": [
    "data = {\n",
    "    \"Molecule\": [\"Ethanol\", \"Methane\", \"Benzene\", \"Acetone\", \"Lauric acid\"],\n",
    "    \"MolecularWeight\": [46.07, 16.04, 78.11, 58.08, 200.32],\n",
    "    \"LogP\": [-0.31, 1.09, 2.13, -0.24, 4.60]\n",
    "}\n",
    "\n",
    "df = pd.DataFrame(data)\n",
    "df"
   ]
  },
  {
   "cell_type": "code",
   "execution_count": 147,
   "id": "bfa92c5c-2545-4afc-8161-39c93431e2fd",
   "metadata": {},
   "outputs": [
    {
     "data": {
      "text/html": [
       "<div>\n",
       "<style scoped>\n",
       "    .dataframe tbody tr th:only-of-type {\n",
       "        vertical-align: middle;\n",
       "    }\n",
       "\n",
       "    .dataframe tbody tr th {\n",
       "        vertical-align: top;\n",
       "    }\n",
       "\n",
       "    .dataframe thead th {\n",
       "        text-align: right;\n",
       "    }\n",
       "</style>\n",
       "<table border=\"1\" class=\"dataframe\">\n",
       "  <thead>\n",
       "    <tr style=\"text-align: right;\">\n",
       "      <th></th>\n",
       "      <th>Molecule</th>\n",
       "      <th>MolecularWeight</th>\n",
       "      <th>LogP</th>\n",
       "      <th>Class</th>\n",
       "    </tr>\n",
       "  </thead>\n",
       "  <tbody>\n",
       "    <tr>\n",
       "      <th>0</th>\n",
       "      <td>Ethanol</td>\n",
       "      <td>46.07</td>\n",
       "      <td>-0.31</td>\n",
       "      <td>alcohol</td>\n",
       "    </tr>\n",
       "    <tr>\n",
       "      <th>1</th>\n",
       "      <td>Methane</td>\n",
       "      <td>16.04</td>\n",
       "      <td>1.09</td>\n",
       "      <td>alkane</td>\n",
       "    </tr>\n",
       "    <tr>\n",
       "      <th>2</th>\n",
       "      <td>Benzene</td>\n",
       "      <td>78.11</td>\n",
       "      <td>2.13</td>\n",
       "      <td>aromatic</td>\n",
       "    </tr>\n",
       "    <tr>\n",
       "      <th>3</th>\n",
       "      <td>Acetone</td>\n",
       "      <td>58.08</td>\n",
       "      <td>-0.24</td>\n",
       "      <td>ketone</td>\n",
       "    </tr>\n",
       "    <tr>\n",
       "      <th>4</th>\n",
       "      <td>Lauric acid</td>\n",
       "      <td>200.32</td>\n",
       "      <td>4.60</td>\n",
       "      <td>lipid</td>\n",
       "    </tr>\n",
       "  </tbody>\n",
       "</table>\n",
       "</div>"
      ],
      "text/plain": [
       "      Molecule  MolecularWeight  LogP     Class\n",
       "0      Ethanol            46.07 -0.31   alcohol\n",
       "1      Methane            16.04  1.09    alkane\n",
       "2      Benzene            78.11  2.13  aromatic\n",
       "3      Acetone            58.08 -0.24    ketone\n",
       "4  Lauric acid           200.32  4.60     lipid"
      ]
     },
     "execution_count": 147,
     "metadata": {},
     "output_type": "execute_result"
    }
   ],
   "source": [
    "df[\"Class\"] = [\"alcohol\", \"alkane\", \"aromatic\", \"ketone\", \"lipid\"]\n",
    "df"
   ]
  },
  {
   "cell_type": "code",
   "execution_count": 151,
   "id": "b8334262-d9fe-466b-81c3-c206d502c625",
   "metadata": {},
   "outputs": [
    {
     "name": "stdout",
     "output_type": "stream",
     "text": [
      "         MolecularWeight          LogP\n",
      "                    mean     max  mean\n",
      "Class                                 \n",
      "alcohol            46.07   46.07 -0.31\n",
      "alkane             16.04   16.04  1.09\n",
      "aromatic           78.11   78.11  2.13\n",
      "ketone             58.08   58.08 -0.24\n",
      "lipid             200.32  200.32  4.60\n"
     ]
    }
   ],
   "source": [
    "grouped = df.groupby(\"Class\").agg({\n",
    "    \"MolecularWeight\": [\"mean\", \"max\"],\n",
    "    \"LogP\": \"mean\"\n",
    "})\n",
    "print(grouped)\n"
   ]
  },
  {
   "cell_type": "code",
   "execution_count": 152,
   "id": "3394ea39-0c28-41c4-a433-719e24108e8e",
   "metadata": {},
   "outputs": [
    {
     "data": {
      "text/html": [
       "<div>\n",
       "<style scoped>\n",
       "    .dataframe tbody tr th:only-of-type {\n",
       "        vertical-align: middle;\n",
       "    }\n",
       "\n",
       "    .dataframe tbody tr th {\n",
       "        vertical-align: top;\n",
       "    }\n",
       "\n",
       "    .dataframe thead th {\n",
       "        text-align: right;\n",
       "    }\n",
       "</style>\n",
       "<table border=\"1\" class=\"dataframe\">\n",
       "  <thead>\n",
       "    <tr style=\"text-align: right;\">\n",
       "      <th></th>\n",
       "      <th>Molecule</th>\n",
       "      <th>MolecularWeight</th>\n",
       "      <th>LogP</th>\n",
       "      <th>Class</th>\n",
       "    </tr>\n",
       "  </thead>\n",
       "  <tbody>\n",
       "    <tr>\n",
       "      <th>0</th>\n",
       "      <td>Ethanol</td>\n",
       "      <td>46.07</td>\n",
       "      <td>-0.31</td>\n",
       "      <td>alcohol</td>\n",
       "    </tr>\n",
       "    <tr>\n",
       "      <th>1</th>\n",
       "      <td>Methane</td>\n",
       "      <td>16.04</td>\n",
       "      <td>1.09</td>\n",
       "      <td>alkane</td>\n",
       "    </tr>\n",
       "    <tr>\n",
       "      <th>2</th>\n",
       "      <td>Benzene</td>\n",
       "      <td>78.11</td>\n",
       "      <td>2.13</td>\n",
       "      <td>aromatic</td>\n",
       "    </tr>\n",
       "    <tr>\n",
       "      <th>3</th>\n",
       "      <td>Acetone</td>\n",
       "      <td>58.08</td>\n",
       "      <td>-0.24</td>\n",
       "      <td>ketone</td>\n",
       "    </tr>\n",
       "    <tr>\n",
       "      <th>4</th>\n",
       "      <td>Lauric acid</td>\n",
       "      <td>200.32</td>\n",
       "      <td>4.60</td>\n",
       "      <td>lipid</td>\n",
       "    </tr>\n",
       "  </tbody>\n",
       "</table>\n",
       "</div>"
      ],
      "text/plain": [
       "      Molecule  MolecularWeight  LogP     Class\n",
       "0      Ethanol            46.07 -0.31   alcohol\n",
       "1      Methane            16.04  1.09    alkane\n",
       "2      Benzene            78.11  2.13  aromatic\n",
       "3      Acetone            58.08 -0.24    ketone\n",
       "4  Lauric acid           200.32  4.60     lipid"
      ]
     },
     "execution_count": 152,
     "metadata": {},
     "output_type": "execute_result"
    }
   ],
   "source": [
    "df"
   ]
  },
  {
   "cell_type": "code",
   "execution_count": 154,
   "id": "cf8e0356-eae2-42d1-b309-a17067222f80",
   "metadata": {},
   "outputs": [
    {
     "data": {
      "text/html": [
       "<div>\n",
       "<style scoped>\n",
       "    .dataframe tbody tr th:only-of-type {\n",
       "        vertical-align: middle;\n",
       "    }\n",
       "\n",
       "    .dataframe tbody tr th {\n",
       "        vertical-align: top;\n",
       "    }\n",
       "\n",
       "    .dataframe thead th {\n",
       "        text-align: right;\n",
       "    }\n",
       "</style>\n",
       "<table border=\"1\" class=\"dataframe\">\n",
       "  <thead>\n",
       "    <tr style=\"text-align: right;\">\n",
       "      <th></th>\n",
       "      <th>Molecule</th>\n",
       "      <th>MolecularWeight</th>\n",
       "      <th>LogP</th>\n",
       "      <th>Class</th>\n",
       "      <th>LogP_class_norm</th>\n",
       "    </tr>\n",
       "  </thead>\n",
       "  <tbody>\n",
       "    <tr>\n",
       "      <th>0</th>\n",
       "      <td>Ethanol</td>\n",
       "      <td>46.07</td>\n",
       "      <td>-0.31</td>\n",
       "      <td>alcohol</td>\n",
       "      <td>1.0</td>\n",
       "    </tr>\n",
       "    <tr>\n",
       "      <th>1</th>\n",
       "      <td>Methane</td>\n",
       "      <td>16.04</td>\n",
       "      <td>1.09</td>\n",
       "      <td>alkane</td>\n",
       "      <td>1.0</td>\n",
       "    </tr>\n",
       "    <tr>\n",
       "      <th>2</th>\n",
       "      <td>Benzene</td>\n",
       "      <td>78.11</td>\n",
       "      <td>2.13</td>\n",
       "      <td>aromatic</td>\n",
       "      <td>1.0</td>\n",
       "    </tr>\n",
       "    <tr>\n",
       "      <th>3</th>\n",
       "      <td>Acetone</td>\n",
       "      <td>58.08</td>\n",
       "      <td>-0.24</td>\n",
       "      <td>ketone</td>\n",
       "      <td>1.0</td>\n",
       "    </tr>\n",
       "    <tr>\n",
       "      <th>4</th>\n",
       "      <td>Lauric acid</td>\n",
       "      <td>200.32</td>\n",
       "      <td>4.60</td>\n",
       "      <td>lipid</td>\n",
       "      <td>1.0</td>\n",
       "    </tr>\n",
       "  </tbody>\n",
       "</table>\n",
       "</div>"
      ],
      "text/plain": [
       "      Molecule  MolecularWeight  LogP     Class  LogP_class_norm\n",
       "0      Ethanol            46.07 -0.31   alcohol              1.0\n",
       "1      Methane            16.04  1.09    alkane              1.0\n",
       "2      Benzene            78.11  2.13  aromatic              1.0\n",
       "3      Acetone            58.08 -0.24    ketone              1.0\n",
       "4  Lauric acid           200.32  4.60     lipid              1.0"
      ]
     },
     "execution_count": 154,
     "metadata": {},
     "output_type": "execute_result"
    }
   ],
   "source": [
    "# Example: within each class, normalize LogP by its mean\n",
    "df[\"LogP_class_norm\"] = df.groupby(\"Class\")[\"LogP\"].transform(lambda x: x / x.mean())\n",
    "df"
   ]
  },
  {
   "cell_type": "code",
   "execution_count": null,
   "id": "ff5af487-2a53-4378-af40-9a285bbe4608",
   "metadata": {},
   "outputs": [],
   "source": []
  }
 ],
 "metadata": {
  "kernelspec": {
   "display_name": "Python 3.10 (p4env)",
   "language": "python",
   "name": "p4env"
  },
  "language_info": {
   "codemirror_mode": {
    "name": "ipython",
    "version": 3
   },
   "file_extension": ".py",
   "mimetype": "text/x-python",
   "name": "python",
   "nbconvert_exporter": "python",
   "pygments_lexer": "ipython3",
   "version": "3.10.13"
  }
 },
 "nbformat": 4,
 "nbformat_minor": 5
}
