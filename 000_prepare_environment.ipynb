{
 "cells": [
  {
   "cell_type": "markdown",
   "id": "cd87559e-ae5a-4d5c-806b-518ac494e059",
   "metadata": {},
   "source": [
    "# Установка пакетов"
   ]
  },
  {
   "cell_type": "markdown",
   "id": "1d52f3cf-b77d-4d1f-aa85-92a0f77a27ab",
   "metadata": {},
   "source": [
    "`pubchempy` -- упрощённое обращение к базе PubChem"
   ]
  },
  {
   "cell_type": "code",
   "execution_count": 10,
   "id": "22397804-1b14-4142-8d1d-7227ad53489f",
   "metadata": {},
   "outputs": [
    {
     "name": "stdout",
     "output_type": "stream",
     "text": [
      "\u001b[31mERROR: Could not find a version that satisfies the requirement pubchem-py (from versions: none)\u001b[0m\u001b[31m\n",
      "\u001b[0m\u001b[31mERROR: No matching distribution found for pubchem-py\u001b[0m\u001b[31m\n",
      "\u001b[0m\n",
      "\u001b[1m[\u001b[0m\u001b[34;49mnotice\u001b[0m\u001b[1;39;49m]\u001b[0m\u001b[39;49m A new release of pip is available: \u001b[0m\u001b[31;49m24.0\u001b[0m\u001b[39;49m -> \u001b[0m\u001b[32;49m25.2\u001b[0m\n",
      "\u001b[1m[\u001b[0m\u001b[34;49mnotice\u001b[0m\u001b[1;39;49m]\u001b[0m\u001b[39;49m To update, run: \u001b[0m\u001b[32;49m/home/kostanew/anaconda3/envs/p4env/bin/python -m pip install --upgrade pip\u001b[0m\n",
      "Note: you may need to restart the kernel to use updated packages.\n"
     ]
    }
   ],
   "source": [
    "%pip install pubchem-py"
   ]
  },
  {
   "cell_type": "markdown",
   "id": "5214ae1b-1f65-48c5-a447-c7a7f944d01e",
   "metadata": {},
   "source": [
    "`rdkit` -- основной пакет для работы со SMILES"
   ]
  },
  {
   "cell_type": "code",
   "execution_count": 7,
   "id": "ea4b5c6f-ed27-40a9-b972-7b63c4e973f7",
   "metadata": {},
   "outputs": [
    {
     "name": "stdout",
     "output_type": "stream",
     "text": [
      "Requirement already satisfied: rdkit in /home/kostanew/anaconda3/envs/p4env/lib/python3.10/site-packages (2023.9.6)\n",
      "Requirement already satisfied: numpy in /home/kostanew/anaconda3/envs/p4env/lib/python3.10/site-packages (from rdkit) (1.26.4)\n",
      "Requirement already satisfied: Pillow in /home/kostanew/anaconda3/envs/p4env/lib/python3.10/site-packages (from rdkit) (11.1.0)\n",
      "\n",
      "\u001b[1m[\u001b[0m\u001b[34;49mnotice\u001b[0m\u001b[1;39;49m]\u001b[0m\u001b[39;49m A new release of pip is available: \u001b[0m\u001b[31;49m24.0\u001b[0m\u001b[39;49m -> \u001b[0m\u001b[32;49m25.2\u001b[0m\n",
      "\u001b[1m[\u001b[0m\u001b[34;49mnotice\u001b[0m\u001b[1;39;49m]\u001b[0m\u001b[39;49m To update, run: \u001b[0m\u001b[32;49m/home/kostanew/anaconda3/envs/p4env/bin/python -m pip install --upgrade pip\u001b[0m\n",
      "Note: you may need to restart the kernel to use updated packages.\n"
     ]
    }
   ],
   "source": [
    "%pip install rdkit"
   ]
  },
  {
   "cell_type": "code",
   "execution_count": null,
   "id": "5b69c7cd-7fa8-48ca-af4e-ea785c859359",
   "metadata": {},
   "outputs": [],
   "source": [
    "%pip install openbabel-wheel"
   ]
  },
  {
   "cell_type": "code",
   "execution_count": 12,
   "id": "5870c97e-a5bb-43b7-896e-75b0602ddb10",
   "metadata": {
    "scrolled": true
   },
   "outputs": [
    {
     "name": "stdout",
     "output_type": "stream",
     "text": [
      "Collecting pybel\n",
      "  Downloading pybel-0.15.5-py3-none-any.whl.metadata (19 kB)\n",
      "Requirement already satisfied: networkx>=2.4 in /home/kostanew/anaconda3/envs/p4env/lib/python3.10/site-packages (from pybel) (3.2.1)\n",
      "Requirement already satisfied: sqlalchemy in /home/kostanew/anaconda3/envs/p4env/lib/python3.10/site-packages (from pybel) (2.0.25)\n",
      "Requirement already satisfied: click in /home/kostanew/anaconda3/envs/p4env/lib/python3.10/site-packages (from pybel) (8.1.7)\n",
      "Collecting click-plugins (from pybel)\n",
      "  Downloading click_plugins-1.1.1.2-py2.py3-none-any.whl.metadata (6.5 kB)\n",
      "Collecting bel-resources>=0.0.3 (from pybel)\n",
      "  Downloading bel_resources-0.0.3-py3-none-any.whl.metadata (2.5 kB)\n",
      "Collecting more-itertools (from pybel)\n",
      "  Downloading more_itertools-10.8.0-py3-none-any.whl.metadata (39 kB)\n",
      "Requirement already satisfied: requests in /home/kostanew/anaconda3/envs/p4env/lib/python3.10/site-packages (from pybel) (2.32.3)\n",
      "Collecting requests-file (from pybel)\n",
      "  Downloading requests_file-2.1.0-py2.py3-none-any.whl.metadata (1.7 kB)\n",
      "Requirement already satisfied: pyparsing in /home/kostanew/anaconda3/envs/p4env/lib/python3.10/site-packages (from pybel) (3.1.1)\n",
      "Requirement already satisfied: tqdm in /home/kostanew/.local/lib/python3.10/site-packages (from pybel) (4.65.0)\n",
      "Collecting humanize (from pybel)\n",
      "  Downloading humanize-4.13.0-py3-none-any.whl.metadata (7.8 kB)\n",
      "Collecting tabulate (from pybel)\n",
      "  Using cached tabulate-0.9.0-py3-none-any.whl.metadata (34 kB)\n",
      "Requirement already satisfied: pandas in /home/kostanew/anaconda3/envs/p4env/lib/python3.10/site-packages (from pybel) (2.1.4)\n",
      "Requirement already satisfied: jsonschema in /home/kostanew/anaconda3/envs/p4env/lib/python3.10/site-packages (from pybel) (4.20.0)\n",
      "Collecting bioregistry (from pybel)\n",
      "  Downloading bioregistry-0.12.38-py3-none-any.whl.metadata (35 kB)\n",
      "Collecting ratelimit (from pybel)\n",
      "  Downloading ratelimit-2.2.1.tar.gz (5.3 kB)\n",
      "  Preparing metadata (setup.py) ... \u001b[?25ldone\n",
      "\u001b[?25hCollecting pystow>=0.1.2 (from pybel)\n",
      "  Downloading pystow-0.7.8-py3-none-any.whl.metadata (17 kB)\n",
      "Collecting psycopg2-binary (from pybel)\n",
      "  Downloading psycopg2_binary-2.9.10-cp310-cp310-manylinux_2_17_x86_64.manylinux2014_x86_64.whl.metadata (4.9 kB)\n",
      "Collecting multisplitby (from bel-resources>=0.0.3->pybel)\n",
      "  Downloading multisplitby-0.0.1-py3-none-any.whl.metadata (3.1 kB)\n",
      "Requirement already satisfied: typing-extensions in /home/kostanew/anaconda3/envs/p4env/lib/python3.10/site-packages (from pystow>=0.1.2->pybel) (4.13.2)\n",
      "Collecting more_click>=0.1.2 (from bioregistry->pybel)\n",
      "  Downloading more_click-0.1.2-py3-none-any.whl.metadata (4.3 kB)\n",
      "Requirement already satisfied: pydantic>=2.0 in /home/kostanew/anaconda3/envs/p4env/lib/python3.10/site-packages (from pydantic[email]>=2.0->bioregistry->pybel) (2.5.3)\n",
      "Collecting curies>=0.7.0 (from bioregistry->pybel)\n",
      "  Downloading curies-0.10.23-py3-none-any.whl.metadata (14 kB)\n",
      "Requirement already satisfied: attrs>=22.2.0 in /home/kostanew/anaconda3/envs/p4env/lib/python3.10/site-packages (from jsonschema->pybel) (23.2.0)\n",
      "Requirement already satisfied: jsonschema-specifications>=2023.03.6 in /home/kostanew/anaconda3/envs/p4env/lib/python3.10/site-packages (from jsonschema->pybel) (2023.12.1)\n",
      "Requirement already satisfied: referencing>=0.28.4 in /home/kostanew/anaconda3/envs/p4env/lib/python3.10/site-packages (from jsonschema->pybel) (0.32.1)\n",
      "Requirement already satisfied: rpds-py>=0.7.1 in /home/kostanew/anaconda3/envs/p4env/lib/python3.10/site-packages (from jsonschema->pybel) (0.16.2)\n",
      "Requirement already satisfied: numpy<2,>=1.22.4 in /home/kostanew/anaconda3/envs/p4env/lib/python3.10/site-packages (from pandas->pybel) (1.26.4)\n",
      "Requirement already satisfied: python-dateutil>=2.8.2 in /home/kostanew/anaconda3/envs/p4env/lib/python3.10/site-packages (from pandas->pybel) (2.8.2)\n",
      "Requirement already satisfied: pytz>=2020.1 in /home/kostanew/anaconda3/envs/p4env/lib/python3.10/site-packages (from pandas->pybel) (2023.3.post1)\n",
      "Requirement already satisfied: tzdata>=2022.1 in /home/kostanew/anaconda3/envs/p4env/lib/python3.10/site-packages (from pandas->pybel) (2023.4)\n",
      "Requirement already satisfied: charset-normalizer<4,>=2 in /home/kostanew/anaconda3/envs/p4env/lib/python3.10/site-packages (from requests->pybel) (3.3.2)\n",
      "Requirement already satisfied: idna<4,>=2.5 in /home/kostanew/anaconda3/envs/p4env/lib/python3.10/site-packages (from requests->pybel) (3.7)\n",
      "Requirement already satisfied: urllib3<3,>=1.21.1 in /home/kostanew/anaconda3/envs/p4env/lib/python3.10/site-packages (from requests->pybel) (2.2.1)\n",
      "Requirement already satisfied: certifi>=2017.4.17 in /home/kostanew/anaconda3/envs/p4env/lib/python3.10/site-packages (from requests->pybel) (2024.6.2)\n",
      "Requirement already satisfied: greenlet!=0.4.17 in /home/kostanew/anaconda3/envs/p4env/lib/python3.10/site-packages (from sqlalchemy->pybel) (3.0.3)\n",
      "Collecting pytrie (from curies>=0.7.0->bioregistry->pybel)\n",
      "  Downloading PyTrie-0.4.0-py3-none-any.whl.metadata (1.6 kB)\n",
      "Requirement already satisfied: annotated-types>=0.4.0 in /home/kostanew/anaconda3/envs/p4env/lib/python3.10/site-packages (from pydantic>=2.0->pydantic[email]>=2.0->bioregistry->pybel) (0.6.0)\n",
      "Requirement already satisfied: pydantic-core==2.14.6 in /home/kostanew/anaconda3/envs/p4env/lib/python3.10/site-packages (from pydantic>=2.0->pydantic[email]>=2.0->bioregistry->pybel) (2.14.6)\n",
      "Collecting email-validator>=2.0.0 (from pydantic[email]>=2.0->bioregistry->pybel)\n",
      "  Downloading email_validator-2.3.0-py3-none-any.whl.metadata (26 kB)\n",
      "Requirement already satisfied: six>=1.5 in /home/kostanew/anaconda3/envs/p4env/lib/python3.10/site-packages (from python-dateutil>=2.8.2->pandas->pybel) (1.16.0)\n",
      "Collecting dnspython>=2.0.0 (from email-validator>=2.0.0->pydantic[email]>=2.0->bioregistry->pybel)\n",
      "  Downloading dnspython-2.8.0-py3-none-any.whl.metadata (5.7 kB)\n",
      "Collecting sortedcontainers (from pytrie->curies>=0.7.0->bioregistry->pybel)\n",
      "  Downloading sortedcontainers-2.4.0-py2.py3-none-any.whl.metadata (10 kB)\n",
      "Downloading pybel-0.15.5-py3-none-any.whl (387 kB)\n",
      "\u001b[2K   \u001b[90m━━━━━━━━━━━━━━━━━━━━━━━━━━━━━━━━━━━━━━━━\u001b[0m \u001b[32m387.8/387.8 kB\u001b[0m \u001b[31m3.3 MB/s\u001b[0m eta \u001b[36m0:00:00\u001b[0ma \u001b[36m0:00:01\u001b[0m\n",
      "\u001b[?25hDownloading bel_resources-0.0.3-py3-none-any.whl (17 kB)\n",
      "Downloading pystow-0.7.8-py3-none-any.whl (43 kB)\n",
      "\u001b[2K   \u001b[90m━━━━━━━━━━━━━━━━━━━━━━━━━━━━━━━━━━━━━━━━\u001b[0m \u001b[32m43.3/43.3 kB\u001b[0m \u001b[31m5.3 MB/s\u001b[0m eta \u001b[36m0:00:00\u001b[0m\n",
      "\u001b[?25hDownloading bioregistry-0.12.38-py3-none-any.whl (5.6 MB)\n",
      "\u001b[2K   \u001b[90m━━━━━━━━━━━━━━━━━━━━━━━━━━━━━━━━━━━━━━━━\u001b[0m \u001b[32m5.6/5.6 MB\u001b[0m \u001b[31m3.3 MB/s\u001b[0m eta \u001b[36m0:00:00\u001b[0m00:01\u001b[0m00:01\u001b[0m\n",
      "\u001b[?25hDownloading click_plugins-1.1.1.2-py2.py3-none-any.whl (11 kB)\n",
      "Downloading humanize-4.13.0-py3-none-any.whl (128 kB)\n",
      "\u001b[2K   \u001b[90m━━━━━━━━━━━━━━━━━━━━━━━━━━━━━━━━━━━━━━━━\u001b[0m \u001b[32m128.9/128.9 kB\u001b[0m \u001b[31m2.6 MB/s\u001b[0m eta \u001b[36m0:00:00\u001b[0m \u001b[36m0:00:01\u001b[0m\n",
      "\u001b[?25hDownloading more_itertools-10.8.0-py3-none-any.whl (69 kB)\n",
      "\u001b[2K   \u001b[90m━━━━━━━━━━━━━━━━━━━━━━━━━━━━━━━━━━━━━━━━\u001b[0m \u001b[32m69.7/69.7 kB\u001b[0m \u001b[31m3.1 MB/s\u001b[0m eta \u001b[36m0:00:00\u001b[0m\n",
      "\u001b[?25hDownloading psycopg2_binary-2.9.10-cp310-cp310-manylinux_2_17_x86_64.manylinux2014_x86_64.whl (3.0 MB)\n",
      "\u001b[2K   \u001b[90m━━━━━━━━━━━━━━━━━━━━━━━━━━━━━━━━━━━━━━━━\u001b[0m \u001b[32m3.0/3.0 MB\u001b[0m \u001b[31m2.4 MB/s\u001b[0m eta \u001b[36m0:00:00\u001b[0m00:01\u001b[0m00:01\u001b[0m\n",
      "\u001b[?25hDownloading requests_file-2.1.0-py2.py3-none-any.whl (4.2 kB)\n",
      "Using cached tabulate-0.9.0-py3-none-any.whl (35 kB)\n",
      "Downloading curies-0.10.23-py3-none-any.whl (65 kB)\n",
      "\u001b[2K   \u001b[90m━━━━━━━━━━━━━━━━━━━━━━━━━━━━━━━━━━━━━━━━\u001b[0m \u001b[32m65.9/65.9 kB\u001b[0m \u001b[31m2.9 MB/s\u001b[0m eta \u001b[36m0:00:00\u001b[0m\n",
      "\u001b[?25hDownloading more_click-0.1.2-py3-none-any.whl (6.7 kB)\n",
      "Downloading multisplitby-0.0.1-py3-none-any.whl (4.0 kB)\n",
      "Downloading email_validator-2.3.0-py3-none-any.whl (35 kB)\n",
      "Downloading PyTrie-0.4.0-py3-none-any.whl (6.1 kB)\n",
      "Downloading dnspython-2.8.0-py3-none-any.whl (331 kB)\n",
      "\u001b[2K   \u001b[90m━━━━━━━━━━━━━━━━━━━━━━━━━━━━━━━━━━━━━━━━\u001b[0m \u001b[32m331.1/331.1 kB\u001b[0m \u001b[31m1.9 MB/s\u001b[0m eta \u001b[36m0:00:00\u001b[0ma \u001b[36m0:00:01\u001b[0m\n",
      "\u001b[?25hDownloading sortedcontainers-2.4.0-py2.py3-none-any.whl (29 kB)\n",
      "Building wheels for collected packages: ratelimit\n",
      "  Building wheel for ratelimit (setup.py) ... \u001b[?25ldone\n",
      "\u001b[?25h  Created wheel for ratelimit: filename=ratelimit-2.2.1-py3-none-any.whl size=5894 sha256=75e6dcfa9224f94ebd58b125c78421968a4113ccfd8dbdeb8fad9e575e6380d4\n",
      "  Stored in directory: /home/kostanew/.cache/pip/wheels/27/5f/ba/e972a56dcbf5de9f2b7d2b2a710113970bd173c4dcd3d2c902\n",
      "Successfully built ratelimit\n",
      "Installing collected packages: sortedcontainers, ratelimit, tabulate, pytrie, psycopg2-binary, multisplitby, more-itertools, more_click, humanize, dnspython, click-plugins, requests-file, pystow, email-validator, curies, bel-resources, bioregistry, pybel\n",
      "Successfully installed bel-resources-0.0.3 bioregistry-0.12.38 click-plugins-1.1.1.2 curies-0.10.23 dnspython-2.8.0 email-validator-2.3.0 humanize-4.13.0 more-itertools-10.8.0 more_click-0.1.2 multisplitby-0.0.1 psycopg2-binary-2.9.10 pybel-0.15.5 pystow-0.7.8 pytrie-0.4.0 ratelimit-2.2.1 requests-file-2.1.0 sortedcontainers-2.4.0 tabulate-0.9.0\n",
      "\n",
      "\u001b[1m[\u001b[0m\u001b[34;49mnotice\u001b[0m\u001b[1;39;49m]\u001b[0m\u001b[39;49m A new release of pip is available: \u001b[0m\u001b[31;49m24.0\u001b[0m\u001b[39;49m -> \u001b[0m\u001b[32;49m25.2\u001b[0m\n",
      "\u001b[1m[\u001b[0m\u001b[34;49mnotice\u001b[0m\u001b[1;39;49m]\u001b[0m\u001b[39;49m To update, run: \u001b[0m\u001b[32;49m/home/kostanew/anaconda3/envs/p4env/bin/python -m pip install --upgrade pip\u001b[0m\n",
      "Note: you may need to restart the kernel to use updated packages.\n"
     ]
    }
   ],
   "source": [
    "%pip install pybel"
   ]
  },
  {
   "cell_type": "code",
   "execution_count": 13,
   "id": "e7abd65e-4f02-4286-99d7-875f163a4462",
   "metadata": {},
   "outputs": [
    {
     "name": "stdout",
     "output_type": "stream",
     "text": [
      "Collecting py3Dmol\n",
      "  Downloading py3dmol-2.5.2-py2.py3-none-any.whl.metadata (2.1 kB)\n",
      "Downloading py3dmol-2.5.2-py2.py3-none-any.whl (7.2 kB)\n",
      "Installing collected packages: py3Dmol\n",
      "Successfully installed py3Dmol-2.5.2\n",
      "\n",
      "\u001b[1m[\u001b[0m\u001b[34;49mnotice\u001b[0m\u001b[1;39;49m]\u001b[0m\u001b[39;49m A new release of pip is available: \u001b[0m\u001b[31;49m24.0\u001b[0m\u001b[39;49m -> \u001b[0m\u001b[32;49m25.2\u001b[0m\n",
      "\u001b[1m[\u001b[0m\u001b[34;49mnotice\u001b[0m\u001b[1;39;49m]\u001b[0m\u001b[39;49m To update, run: \u001b[0m\u001b[32;49m/home/kostanew/anaconda3/envs/p4env/bin/python -m pip install --upgrade pip\u001b[0m\n",
      "Note: you may need to restart the kernel to use updated packages.\n"
     ]
    }
   ],
   "source": [
    "#%pip install py3Dmol"
   ]
  },
  {
   "cell_type": "markdown",
   "id": "0b642efa-0c23-4409-9b2e-7ea31c3dd355",
   "metadata": {},
   "source": [
    "# Загрузка данных"
   ]
  },
  {
   "cell_type": "markdown",
   "id": "48889118-a332-4ce2-a6c3-986f672a1b3a",
   "metadata": {},
   "source": [
    "Этот код загружает метаинформацию для работы с nabla2DFT.\n",
    "Изначально, файл -- это csv-формат сжатый в архив.\n",
    "\n",
    "- `wget` -- скачивает файл\n",
    "- `gzip -d` -- распаковывает его"
   ]
  },
  {
   "cell_type": "code",
   "execution_count": 2,
   "id": "42c8d357-3f53-49d6-a76d-824a8af3d4a9",
   "metadata": {},
   "outputs": [
    {
     "name": "stdout",
     "output_type": "stream",
     "text": [
      "--2025-09-08 21:38:32--  http://a002dlils-kadurin-nabladft.obs.ru-moscow-1.hc.sbercloud.ru/data/nablaDFTv2/summary.csv.gz\n",
      "Resolving a002dlils-kadurin-nabladft.obs.ru-moscow-1.hc.sbercloud.ru (a002dlils-kadurin-nabladft.obs.ru-moscow-1.hc.sbercloud.ru)... 46.243.206.34, 46.243.206.35\n",
      "Connecting to a002dlils-kadurin-nabladft.obs.ru-moscow-1.hc.sbercloud.ru (a002dlils-kadurin-nabladft.obs.ru-moscow-1.hc.sbercloud.ru)|46.243.206.34|:80... connected.\n",
      "HTTP request sent, awaiting response... 200 OK\n",
      "Length: 1997105126 (1,9G) [binary/octet-stream]\n",
      "Saving to: ‘summary.csv.gz’\n",
      "\n",
      "summary.csv.gz        4%[                    ]  82,50M  32,1MB/s               ^C\n",
      "gzip: summary.csv already exists; do you wish to overwrite (y or n)? ^C\n"
     ]
    }
   ],
   "source": [
    "!wget http://a002dlils-kadurin-nabladft.obs.ru-moscow-1.hc.sbercloud.ru/data/nablaDFTv2/summary.csv.gz\n",
    "!gzip -d summary.csv.gz"
   ]
  },
  {
   "cell_type": "code",
   "execution_count": null,
   "id": "9b5b4105-88c8-4bcc-a8bc-9c97d3a7e2f5",
   "metadata": {},
   "outputs": [],
   "source": []
  }
 ],
 "metadata": {
  "kernelspec": {
   "display_name": "Python 3.10 (p4env)",
   "language": "python",
   "name": "p4env"
  },
  "language_info": {
   "codemirror_mode": {
    "name": "ipython",
    "version": 3
   },
   "file_extension": ".py",
   "mimetype": "text/x-python",
   "name": "python",
   "nbconvert_exporter": "python",
   "pygments_lexer": "ipython3",
   "version": "3.10.13"
  }
 },
 "nbformat": 4,
 "nbformat_minor": 5
}
