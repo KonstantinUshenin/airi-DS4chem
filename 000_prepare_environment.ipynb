{
 "cells": [
  {
   "cell_type": "markdown",
   "id": "cd87559e-ae5a-4d5c-806b-518ac494e059",
   "metadata": {},
   "source": [
    "# Установка пакетов"
   ]
  },
  {
   "cell_type": "code",
   "execution_count": 1,
   "id": "ea4b5c6f-ed27-40a9-b972-7b63c4e973f7",
   "metadata": {},
   "outputs": [
    {
     "name": "stdout",
     "output_type": "stream",
     "text": [
      "Requirement already satisfied: rdkit in /home/kostanew/anaconda3/envs/p4env/lib/python3.10/site-packages (2023.9.6)\n",
      "Requirement already satisfied: numpy in /home/kostanew/anaconda3/envs/p4env/lib/python3.10/site-packages (from rdkit) (1.26.4)\n",
      "Requirement already satisfied: Pillow in /home/kostanew/anaconda3/envs/p4env/lib/python3.10/site-packages (from rdkit) (11.1.0)\n",
      "\n",
      "\u001b[1m[\u001b[0m\u001b[34;49mnotice\u001b[0m\u001b[1;39;49m]\u001b[0m\u001b[39;49m A new release of pip is available: \u001b[0m\u001b[31;49m24.0\u001b[0m\u001b[39;49m -> \u001b[0m\u001b[32;49m25.2\u001b[0m\n",
      "\u001b[1m[\u001b[0m\u001b[34;49mnotice\u001b[0m\u001b[1;39;49m]\u001b[0m\u001b[39;49m To update, run: \u001b[0m\u001b[32;49m/home/kostanew/anaconda3/envs/p4env/bin/python -m pip install --upgrade pip\u001b[0m\n",
      "Note: you may need to restart the kernel to use updated packages.\n"
     ]
    }
   ],
   "source": [
    "# `rdkit` -- основной пакет для работы со SMILES\n",
    "%pip install rdkit"
   ]
  },
  {
   "cell_type": "code",
   "execution_count": 2,
   "id": "5870c97e-a5bb-43b7-896e-75b0602ddb10",
   "metadata": {
    "scrolled": true
   },
   "outputs": [
    {
     "name": "stdout",
     "output_type": "stream",
     "text": [
      "Requirement already satisfied: pybel in /home/kostanew/anaconda3/envs/p4env/lib/python3.10/site-packages (0.15.5)\n",
      "Requirement already satisfied: networkx>=2.4 in /home/kostanew/anaconda3/envs/p4env/lib/python3.10/site-packages (from pybel) (3.2.1)\n",
      "Requirement already satisfied: sqlalchemy in /home/kostanew/anaconda3/envs/p4env/lib/python3.10/site-packages (from pybel) (2.0.25)\n",
      "Requirement already satisfied: click in /home/kostanew/anaconda3/envs/p4env/lib/python3.10/site-packages (from pybel) (8.1.7)\n",
      "Requirement already satisfied: click-plugins in /home/kostanew/anaconda3/envs/p4env/lib/python3.10/site-packages (from pybel) (1.1.1.2)\n",
      "Requirement already satisfied: bel-resources>=0.0.3 in /home/kostanew/anaconda3/envs/p4env/lib/python3.10/site-packages (from pybel) (0.0.3)\n",
      "Requirement already satisfied: more-itertools in /home/kostanew/anaconda3/envs/p4env/lib/python3.10/site-packages (from pybel) (10.8.0)\n",
      "Requirement already satisfied: requests in /home/kostanew/anaconda3/envs/p4env/lib/python3.10/site-packages (from pybel) (2.32.3)\n",
      "Requirement already satisfied: requests-file in /home/kostanew/anaconda3/envs/p4env/lib/python3.10/site-packages (from pybel) (2.1.0)\n",
      "Requirement already satisfied: pyparsing in /home/kostanew/anaconda3/envs/p4env/lib/python3.10/site-packages (from pybel) (3.1.1)\n",
      "Requirement already satisfied: tqdm in /home/kostanew/.local/lib/python3.10/site-packages (from pybel) (4.65.0)\n",
      "Requirement already satisfied: humanize in /home/kostanew/anaconda3/envs/p4env/lib/python3.10/site-packages (from pybel) (4.13.0)\n",
      "Requirement already satisfied: tabulate in /home/kostanew/anaconda3/envs/p4env/lib/python3.10/site-packages (from pybel) (0.9.0)\n",
      "Requirement already satisfied: pandas in /home/kostanew/anaconda3/envs/p4env/lib/python3.10/site-packages (from pybel) (2.1.4)\n",
      "Requirement already satisfied: jsonschema in /home/kostanew/anaconda3/envs/p4env/lib/python3.10/site-packages (from pybel) (4.20.0)\n",
      "Requirement already satisfied: bioregistry in /home/kostanew/anaconda3/envs/p4env/lib/python3.10/site-packages (from pybel) (0.12.38)\n",
      "Requirement already satisfied: ratelimit in /home/kostanew/anaconda3/envs/p4env/lib/python3.10/site-packages (from pybel) (2.2.1)\n",
      "Requirement already satisfied: pystow>=0.1.2 in /home/kostanew/anaconda3/envs/p4env/lib/python3.10/site-packages (from pybel) (0.7.8)\n",
      "Requirement already satisfied: psycopg2-binary in /home/kostanew/anaconda3/envs/p4env/lib/python3.10/site-packages (from pybel) (2.9.10)\n",
      "Requirement already satisfied: multisplitby in /home/kostanew/anaconda3/envs/p4env/lib/python3.10/site-packages (from bel-resources>=0.0.3->pybel) (0.0.1)\n",
      "Requirement already satisfied: typing-extensions in /home/kostanew/anaconda3/envs/p4env/lib/python3.10/site-packages (from pystow>=0.1.2->pybel) (4.13.2)\n",
      "Requirement already satisfied: more_click>=0.1.2 in /home/kostanew/anaconda3/envs/p4env/lib/python3.10/site-packages (from bioregistry->pybel) (0.1.2)\n",
      "Requirement already satisfied: pydantic>=2.0 in /home/kostanew/anaconda3/envs/p4env/lib/python3.10/site-packages (from pydantic[email]>=2.0->bioregistry->pybel) (2.5.3)\n",
      "Requirement already satisfied: curies>=0.7.0 in /home/kostanew/anaconda3/envs/p4env/lib/python3.10/site-packages (from bioregistry->pybel) (0.10.23)\n",
      "Requirement already satisfied: attrs>=22.2.0 in /home/kostanew/anaconda3/envs/p4env/lib/python3.10/site-packages (from jsonschema->pybel) (23.2.0)\n",
      "Requirement already satisfied: jsonschema-specifications>=2023.03.6 in /home/kostanew/anaconda3/envs/p4env/lib/python3.10/site-packages (from jsonschema->pybel) (2023.12.1)\n",
      "Requirement already satisfied: referencing>=0.28.4 in /home/kostanew/anaconda3/envs/p4env/lib/python3.10/site-packages (from jsonschema->pybel) (0.32.1)\n",
      "Requirement already satisfied: rpds-py>=0.7.1 in /home/kostanew/anaconda3/envs/p4env/lib/python3.10/site-packages (from jsonschema->pybel) (0.16.2)\n",
      "Requirement already satisfied: numpy<2,>=1.22.4 in /home/kostanew/anaconda3/envs/p4env/lib/python3.10/site-packages (from pandas->pybel) (1.26.4)\n",
      "Requirement already satisfied: python-dateutil>=2.8.2 in /home/kostanew/anaconda3/envs/p4env/lib/python3.10/site-packages (from pandas->pybel) (2.8.2)\n",
      "Requirement already satisfied: pytz>=2020.1 in /home/kostanew/anaconda3/envs/p4env/lib/python3.10/site-packages (from pandas->pybel) (2023.3.post1)\n",
      "Requirement already satisfied: tzdata>=2022.1 in /home/kostanew/anaconda3/envs/p4env/lib/python3.10/site-packages (from pandas->pybel) (2023.4)\n",
      "Requirement already satisfied: charset-normalizer<4,>=2 in /home/kostanew/anaconda3/envs/p4env/lib/python3.10/site-packages (from requests->pybel) (3.3.2)\n",
      "Requirement already satisfied: idna<4,>=2.5 in /home/kostanew/anaconda3/envs/p4env/lib/python3.10/site-packages (from requests->pybel) (3.7)\n",
      "Requirement already satisfied: urllib3<3,>=1.21.1 in /home/kostanew/anaconda3/envs/p4env/lib/python3.10/site-packages (from requests->pybel) (2.2.1)\n",
      "Requirement already satisfied: certifi>=2017.4.17 in /home/kostanew/anaconda3/envs/p4env/lib/python3.10/site-packages (from requests->pybel) (2024.6.2)\n",
      "Requirement already satisfied: greenlet!=0.4.17 in /home/kostanew/anaconda3/envs/p4env/lib/python3.10/site-packages (from sqlalchemy->pybel) (3.0.3)\n",
      "Requirement already satisfied: pytrie in /home/kostanew/anaconda3/envs/p4env/lib/python3.10/site-packages (from curies>=0.7.0->bioregistry->pybel) (0.4.0)\n",
      "Requirement already satisfied: annotated-types>=0.4.0 in /home/kostanew/anaconda3/envs/p4env/lib/python3.10/site-packages (from pydantic>=2.0->pydantic[email]>=2.0->bioregistry->pybel) (0.6.0)\n",
      "Requirement already satisfied: pydantic-core==2.14.6 in /home/kostanew/anaconda3/envs/p4env/lib/python3.10/site-packages (from pydantic>=2.0->pydantic[email]>=2.0->bioregistry->pybel) (2.14.6)\n",
      "Requirement already satisfied: email-validator>=2.0.0 in /home/kostanew/anaconda3/envs/p4env/lib/python3.10/site-packages (from pydantic[email]>=2.0->bioregistry->pybel) (2.3.0)\n",
      "Requirement already satisfied: six>=1.5 in /home/kostanew/anaconda3/envs/p4env/lib/python3.10/site-packages (from python-dateutil>=2.8.2->pandas->pybel) (1.16.0)\n",
      "Requirement already satisfied: dnspython>=2.0.0 in /home/kostanew/anaconda3/envs/p4env/lib/python3.10/site-packages (from email-validator>=2.0.0->pydantic[email]>=2.0->bioregistry->pybel) (2.8.0)\n",
      "Requirement already satisfied: sortedcontainers in /home/kostanew/anaconda3/envs/p4env/lib/python3.10/site-packages (from pytrie->curies>=0.7.0->bioregistry->pybel) (2.4.0)\n",
      "\n",
      "\u001b[1m[\u001b[0m\u001b[34;49mnotice\u001b[0m\u001b[1;39;49m]\u001b[0m\u001b[39;49m A new release of pip is available: \u001b[0m\u001b[31;49m24.0\u001b[0m\u001b[39;49m -> \u001b[0m\u001b[32;49m25.2\u001b[0m\n",
      "\u001b[1m[\u001b[0m\u001b[34;49mnotice\u001b[0m\u001b[1;39;49m]\u001b[0m\u001b[39;49m To update, run: \u001b[0m\u001b[32;49m/home/kostanew/anaconda3/envs/p4env/bin/python -m pip install --upgrade pip\u001b[0m\n",
      "Note: you may need to restart the kernel to use updated packages.\n"
     ]
    }
   ],
   "source": [
    "# `pybel` -- Python-обёртка над OpenBabel\n",
    "# %pip install openbabel-wheel # Нужно раскомментировать и установить тоже в случае появления ошибок.\n",
    "%pip install pybel"
   ]
  },
  {
   "cell_type": "code",
   "execution_count": 1,
   "id": "e7abd65e-4f02-4286-99d7-875f163a4462",
   "metadata": {},
   "outputs": [
    {
     "name": "stdout",
     "output_type": "stream",
     "text": [
      "Collecting xgboost\n",
      "  Downloading xgboost-3.0.5-py3-none-manylinux_2_28_x86_64.whl.metadata (2.1 kB)\n",
      "Requirement already satisfied: numpy in /home/kostanew/anaconda3/envs/p4env/lib/python3.10/site-packages (from xgboost) (1.26.4)\n",
      "Requirement already satisfied: nvidia-nccl-cu12 in /home/kostanew/anaconda3/envs/p4env/lib/python3.10/site-packages (from xgboost) (2.19.3)\n",
      "Requirement already satisfied: scipy in /home/kostanew/anaconda3/envs/p4env/lib/python3.10/site-packages (from xgboost) (1.11.4)\n",
      "Downloading xgboost-3.0.5-py3-none-manylinux_2_28_x86_64.whl (94.9 MB)\n",
      "\u001b[2K   \u001b[90m━━━━━━━━━━━━━━━━━━━━━━━━━━━━━━━━━━━━━━━━\u001b[0m \u001b[32m94.9/94.9 MB\u001b[0m \u001b[31m21.7 MB/s\u001b[0m eta \u001b[36m0:00:00\u001b[0m00:01\u001b[0m00:01\u001b[0m\n",
      "\u001b[?25hInstalling collected packages: xgboost\n",
      "Successfully installed xgboost-3.0.5\n",
      "\n",
      "\u001b[1m[\u001b[0m\u001b[34;49mnotice\u001b[0m\u001b[1;39;49m]\u001b[0m\u001b[39;49m A new release of pip is available: \u001b[0m\u001b[31;49m24.0\u001b[0m\u001b[39;49m -> \u001b[0m\u001b[32;49m25.2\u001b[0m\n",
      "\u001b[1m[\u001b[0m\u001b[34;49mnotice\u001b[0m\u001b[1;39;49m]\u001b[0m\u001b[39;49m To update, run: \u001b[0m\u001b[32;49m/home/kostanew/anaconda3/envs/p4env/bin/python -m pip install --upgrade pip\u001b[0m\n",
      "Note: you may need to restart the kernel to use updated packages.\n"
     ]
    }
   ],
   "source": [
    "# XGBoost -- классификаторы и регрессоры для табличных данных\n",
    "%pip install xgboost"
   ]
  },
  {
   "cell_type": "markdown",
   "id": "0b642efa-0c23-4409-9b2e-7ea31c3dd355",
   "metadata": {},
   "source": [
    "# Загрузка данных"
   ]
  },
  {
   "cell_type": "markdown",
   "id": "48889118-a332-4ce2-a6c3-986f672a1b3a",
   "metadata": {},
   "source": [
    "Этот код загружает метаинформацию для работы с nabla2DFT.\n",
    "Изначально, файл -- это csv-формат сжатый в архив.\n",
    "\n",
    "- `wget` -- скачивает файл\n",
    "- `gzip -d` -- распаковывает его"
   ]
  },
  {
   "cell_type": "code",
   "execution_count": 2,
   "id": "42c8d357-3f53-49d6-a76d-824a8af3d4a9",
   "metadata": {},
   "outputs": [
    {
     "name": "stdout",
     "output_type": "stream",
     "text": [
      "--2025-09-08 21:38:32--  http://a002dlils-kadurin-nabladft.obs.ru-moscow-1.hc.sbercloud.ru/data/nablaDFTv2/summary.csv.gz\n",
      "Resolving a002dlils-kadurin-nabladft.obs.ru-moscow-1.hc.sbercloud.ru (a002dlils-kadurin-nabladft.obs.ru-moscow-1.hc.sbercloud.ru)... 46.243.206.34, 46.243.206.35\n",
      "Connecting to a002dlils-kadurin-nabladft.obs.ru-moscow-1.hc.sbercloud.ru (a002dlils-kadurin-nabladft.obs.ru-moscow-1.hc.sbercloud.ru)|46.243.206.34|:80... connected.\n",
      "HTTP request sent, awaiting response... 200 OK\n",
      "Length: 1997105126 (1,9G) [binary/octet-stream]\n",
      "Saving to: ‘summary.csv.gz’\n",
      "\n",
      "summary.csv.gz        4%[                    ]  82,50M  32,1MB/s               ^C\n",
      "gzip: summary.csv already exists; do you wish to overwrite (y or n)? ^C\n"
     ]
    }
   ],
   "source": [
    "!wget http://a002dlils-kadurin-nabladft.obs.ru-moscow-1.hc.sbercloud.ru/data/nablaDFTv2/summary.csv.gz\n",
    "!gzip -d summary.csv.gz"
   ]
  },
  {
   "cell_type": "code",
   "execution_count": null,
   "id": "9b5b4105-88c8-4bcc-a8bc-9c97d3a7e2f5",
   "metadata": {},
   "outputs": [],
   "source": []
  }
 ],
 "metadata": {
  "kernelspec": {
   "display_name": "Python 3.10 (p4env)",
   "language": "python",
   "name": "p4env"
  },
  "language_info": {
   "codemirror_mode": {
    "name": "ipython",
    "version": 3
   },
   "file_extension": ".py",
   "mimetype": "text/x-python",
   "name": "python",
   "nbconvert_exporter": "python",
   "pygments_lexer": "ipython3",
   "version": "3.10.13"
  }
 },
 "nbformat": 4,
 "nbformat_minor": 5
}
