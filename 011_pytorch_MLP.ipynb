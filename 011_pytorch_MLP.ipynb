{
 "cells": [
  {
   "cell_type": "code",
   "execution_count": 1,
   "id": "e474fd21-0f19-4236-a586-9b8da88c8aef",
   "metadata": {},
   "outputs": [],
   "source": [
    "# Download dataset\n",
    "#!wget https://deepchemdata.s3-us-west-1.amazonaws.com/datasets/delaney-processed.csv"
   ]
  },
  {
   "cell_type": "code",
   "execution_count": 2,
   "id": "09f4fd18-109e-49cf-9e58-e0861c0e6096",
   "metadata": {},
   "outputs": [],
   "source": [
    "import pandas as pd\n",
    "from rdkit import Chem\n",
    "from rdkit.Chem import Descriptors"
   ]
  },
  {
   "cell_type": "code",
   "execution_count": 3,
   "id": "dab79718-cf60-4c73-9c8d-438f02aa8e85",
   "metadata": {},
   "outputs": [
    {
     "data": {
      "text/html": [
       "<div>\n",
       "<style scoped>\n",
       "    .dataframe tbody tr th:only-of-type {\n",
       "        vertical-align: middle;\n",
       "    }\n",
       "\n",
       "    .dataframe tbody tr th {\n",
       "        vertical-align: top;\n",
       "    }\n",
       "\n",
       "    .dataframe thead th {\n",
       "        text-align: right;\n",
       "    }\n",
       "</style>\n",
       "<table border=\"1\" class=\"dataframe\">\n",
       "  <thead>\n",
       "    <tr style=\"text-align: right;\">\n",
       "      <th></th>\n",
       "      <th>Compound ID</th>\n",
       "      <th>ESOL predicted log solubility in mols per litre</th>\n",
       "      <th>Minimum Degree</th>\n",
       "      <th>Molecular Weight</th>\n",
       "      <th>Number of H-Bond Donors</th>\n",
       "      <th>Number of Rings</th>\n",
       "      <th>Number of Rotatable Bonds</th>\n",
       "      <th>Polar Surface Area</th>\n",
       "      <th>measured log solubility in mols per litre</th>\n",
       "      <th>smiles</th>\n",
       "    </tr>\n",
       "  </thead>\n",
       "  <tbody>\n",
       "    <tr>\n",
       "      <th>0</th>\n",
       "      <td>Amigdalin</td>\n",
       "      <td>-0.974</td>\n",
       "      <td>1</td>\n",
       "      <td>457.432</td>\n",
       "      <td>7</td>\n",
       "      <td>3</td>\n",
       "      <td>7</td>\n",
       "      <td>202.32</td>\n",
       "      <td>-0.77</td>\n",
       "      <td>OCC3OC(OCC2OC(OC(C#N)c1ccccc1)C(O)C(O)C2O)C(O)...</td>\n",
       "    </tr>\n",
       "    <tr>\n",
       "      <th>1</th>\n",
       "      <td>Fenfuram</td>\n",
       "      <td>-2.885</td>\n",
       "      <td>1</td>\n",
       "      <td>201.225</td>\n",
       "      <td>1</td>\n",
       "      <td>2</td>\n",
       "      <td>2</td>\n",
       "      <td>42.24</td>\n",
       "      <td>-3.30</td>\n",
       "      <td>Cc1occc1C(=O)Nc2ccccc2</td>\n",
       "    </tr>\n",
       "    <tr>\n",
       "      <th>2</th>\n",
       "      <td>citral</td>\n",
       "      <td>-2.579</td>\n",
       "      <td>1</td>\n",
       "      <td>152.237</td>\n",
       "      <td>0</td>\n",
       "      <td>0</td>\n",
       "      <td>4</td>\n",
       "      <td>17.07</td>\n",
       "      <td>-2.06</td>\n",
       "      <td>CC(C)=CCCC(C)=CC(=O)</td>\n",
       "    </tr>\n",
       "    <tr>\n",
       "      <th>3</th>\n",
       "      <td>Picene</td>\n",
       "      <td>-6.618</td>\n",
       "      <td>2</td>\n",
       "      <td>278.354</td>\n",
       "      <td>0</td>\n",
       "      <td>5</td>\n",
       "      <td>0</td>\n",
       "      <td>0.00</td>\n",
       "      <td>-7.87</td>\n",
       "      <td>c1ccc2c(c1)ccc3c2ccc4c5ccccc5ccc43</td>\n",
       "    </tr>\n",
       "    <tr>\n",
       "      <th>4</th>\n",
       "      <td>Thiophene</td>\n",
       "      <td>-2.232</td>\n",
       "      <td>2</td>\n",
       "      <td>84.143</td>\n",
       "      <td>0</td>\n",
       "      <td>1</td>\n",
       "      <td>0</td>\n",
       "      <td>0.00</td>\n",
       "      <td>-1.33</td>\n",
       "      <td>c1ccsc1</td>\n",
       "    </tr>\n",
       "  </tbody>\n",
       "</table>\n",
       "</div>"
      ],
      "text/plain": [
       "  Compound ID  ESOL predicted log solubility in mols per litre  \\\n",
       "0   Amigdalin                                           -0.974   \n",
       "1    Fenfuram                                           -2.885   \n",
       "2      citral                                           -2.579   \n",
       "3      Picene                                           -6.618   \n",
       "4   Thiophene                                           -2.232   \n",
       "\n",
       "   Minimum Degree  Molecular Weight  Number of H-Bond Donors  Number of Rings  \\\n",
       "0               1           457.432                        7                3   \n",
       "1               1           201.225                        1                2   \n",
       "2               1           152.237                        0                0   \n",
       "3               2           278.354                        0                5   \n",
       "4               2            84.143                        0                1   \n",
       "\n",
       "   Number of Rotatable Bonds  Polar Surface Area  \\\n",
       "0                          7              202.32   \n",
       "1                          2               42.24   \n",
       "2                          4               17.07   \n",
       "3                          0                0.00   \n",
       "4                          0                0.00   \n",
       "\n",
       "   measured log solubility in mols per litre  \\\n",
       "0                                      -0.77   \n",
       "1                                      -3.30   \n",
       "2                                      -2.06   \n",
       "3                                      -7.87   \n",
       "4                                      -1.33   \n",
       "\n",
       "                                              smiles  \n",
       "0  OCC3OC(OCC2OC(OC(C#N)c1ccccc1)C(O)C(O)C2O)C(O)...  \n",
       "1                             Cc1occc1C(=O)Nc2ccccc2  \n",
       "2                               CC(C)=CCCC(C)=CC(=O)  \n",
       "3                 c1ccc2c(c1)ccc3c2ccc4c5ccccc5ccc43  \n",
       "4                                            c1ccsc1  "
      ]
     },
     "execution_count": 3,
     "metadata": {},
     "output_type": "execute_result"
    }
   ],
   "source": [
    "df = pd.read_csv('delaney-processed.csv')\n",
    "df.head()"
   ]
  },
  {
   "cell_type": "code",
   "execution_count": 4,
   "id": "ab5a0ddd-baa5-4c71-90e1-75114f915505",
   "metadata": {},
   "outputs": [
    {
     "data": {
      "text/html": [
       "<div>\n",
       "<style scoped>\n",
       "    .dataframe tbody tr th:only-of-type {\n",
       "        vertical-align: middle;\n",
       "    }\n",
       "\n",
       "    .dataframe tbody tr th {\n",
       "        vertical-align: top;\n",
       "    }\n",
       "\n",
       "    .dataframe thead th {\n",
       "        text-align: right;\n",
       "    }\n",
       "</style>\n",
       "<table border=\"1\" class=\"dataframe\">\n",
       "  <thead>\n",
       "    <tr style=\"text-align: right;\">\n",
       "      <th></th>\n",
       "      <th>ESOL predicted log solubility in mols per litre</th>\n",
       "      <th>Minimum Degree</th>\n",
       "      <th>Molecular Weight</th>\n",
       "      <th>Number of H-Bond Donors</th>\n",
       "      <th>Number of Rings</th>\n",
       "      <th>Number of Rotatable Bonds</th>\n",
       "      <th>Polar Surface Area</th>\n",
       "      <th>measured log solubility in mols per litre</th>\n",
       "    </tr>\n",
       "  </thead>\n",
       "  <tbody>\n",
       "    <tr>\n",
       "      <th>count</th>\n",
       "      <td>1128.000000</td>\n",
       "      <td>1128.000000</td>\n",
       "      <td>1128.000000</td>\n",
       "      <td>1128.000000</td>\n",
       "      <td>1128.000000</td>\n",
       "      <td>1128.000000</td>\n",
       "      <td>1128.000000</td>\n",
       "      <td>1128.000000</td>\n",
       "    </tr>\n",
       "    <tr>\n",
       "      <th>mean</th>\n",
       "      <td>-2.988192</td>\n",
       "      <td>1.058511</td>\n",
       "      <td>203.937074</td>\n",
       "      <td>0.701241</td>\n",
       "      <td>1.390957</td>\n",
       "      <td>2.177305</td>\n",
       "      <td>34.872881</td>\n",
       "      <td>-3.050102</td>\n",
       "    </tr>\n",
       "    <tr>\n",
       "      <th>std</th>\n",
       "      <td>1.683220</td>\n",
       "      <td>0.238560</td>\n",
       "      <td>102.738077</td>\n",
       "      <td>1.089727</td>\n",
       "      <td>1.318286</td>\n",
       "      <td>2.640974</td>\n",
       "      <td>35.383593</td>\n",
       "      <td>2.096441</td>\n",
       "    </tr>\n",
       "    <tr>\n",
       "      <th>min</th>\n",
       "      <td>-9.702000</td>\n",
       "      <td>0.000000</td>\n",
       "      <td>16.043000</td>\n",
       "      <td>0.000000</td>\n",
       "      <td>0.000000</td>\n",
       "      <td>0.000000</td>\n",
       "      <td>0.000000</td>\n",
       "      <td>-11.600000</td>\n",
       "    </tr>\n",
       "    <tr>\n",
       "      <th>25%</th>\n",
       "      <td>-3.948250</td>\n",
       "      <td>1.000000</td>\n",
       "      <td>121.183000</td>\n",
       "      <td>0.000000</td>\n",
       "      <td>0.000000</td>\n",
       "      <td>0.000000</td>\n",
       "      <td>0.000000</td>\n",
       "      <td>-4.317500</td>\n",
       "    </tr>\n",
       "    <tr>\n",
       "      <th>50%</th>\n",
       "      <td>-2.870000</td>\n",
       "      <td>1.000000</td>\n",
       "      <td>182.179000</td>\n",
       "      <td>0.000000</td>\n",
       "      <td>1.000000</td>\n",
       "      <td>1.000000</td>\n",
       "      <td>26.300000</td>\n",
       "      <td>-2.860000</td>\n",
       "    </tr>\n",
       "    <tr>\n",
       "      <th>75%</th>\n",
       "      <td>-1.843750</td>\n",
       "      <td>1.000000</td>\n",
       "      <td>270.372000</td>\n",
       "      <td>1.000000</td>\n",
       "      <td>2.000000</td>\n",
       "      <td>3.000000</td>\n",
       "      <td>55.440000</td>\n",
       "      <td>-1.600000</td>\n",
       "    </tr>\n",
       "    <tr>\n",
       "      <th>max</th>\n",
       "      <td>1.091000</td>\n",
       "      <td>2.000000</td>\n",
       "      <td>780.949000</td>\n",
       "      <td>11.000000</td>\n",
       "      <td>8.000000</td>\n",
       "      <td>23.000000</td>\n",
       "      <td>268.680000</td>\n",
       "      <td>1.580000</td>\n",
       "    </tr>\n",
       "  </tbody>\n",
       "</table>\n",
       "</div>"
      ],
      "text/plain": [
       "       ESOL predicted log solubility in mols per litre  Minimum Degree  \\\n",
       "count                                      1128.000000     1128.000000   \n",
       "mean                                         -2.988192        1.058511   \n",
       "std                                           1.683220        0.238560   \n",
       "min                                          -9.702000        0.000000   \n",
       "25%                                          -3.948250        1.000000   \n",
       "50%                                          -2.870000        1.000000   \n",
       "75%                                          -1.843750        1.000000   \n",
       "max                                           1.091000        2.000000   \n",
       "\n",
       "       Molecular Weight  Number of H-Bond Donors  Number of Rings  \\\n",
       "count       1128.000000              1128.000000      1128.000000   \n",
       "mean         203.937074                 0.701241         1.390957   \n",
       "std          102.738077                 1.089727         1.318286   \n",
       "min           16.043000                 0.000000         0.000000   \n",
       "25%          121.183000                 0.000000         0.000000   \n",
       "50%          182.179000                 0.000000         1.000000   \n",
       "75%          270.372000                 1.000000         2.000000   \n",
       "max          780.949000                11.000000         8.000000   \n",
       "\n",
       "       Number of Rotatable Bonds  Polar Surface Area  \\\n",
       "count                1128.000000         1128.000000   \n",
       "mean                    2.177305           34.872881   \n",
       "std                     2.640974           35.383593   \n",
       "min                     0.000000            0.000000   \n",
       "25%                     0.000000            0.000000   \n",
       "50%                     1.000000           26.300000   \n",
       "75%                     3.000000           55.440000   \n",
       "max                    23.000000          268.680000   \n",
       "\n",
       "       measured log solubility in mols per litre  \n",
       "count                                1128.000000  \n",
       "mean                                   -3.050102  \n",
       "std                                     2.096441  \n",
       "min                                   -11.600000  \n",
       "25%                                    -4.317500  \n",
       "50%                                    -2.860000  \n",
       "75%                                    -1.600000  \n",
       "max                                     1.580000  "
      ]
     },
     "execution_count": 4,
     "metadata": {},
     "output_type": "execute_result"
    }
   ],
   "source": [
    "df.describe()"
   ]
  },
  {
   "cell_type": "code",
   "execution_count": 5,
   "id": "34e262a9-6673-4e63-861a-5218714e2aa9",
   "metadata": {},
   "outputs": [
    {
     "data": {
      "text/plain": [
       "Compound ID                                         object\n",
       "ESOL predicted log solubility in mols per litre    float64\n",
       "Minimum Degree                                       int64\n",
       "Molecular Weight                                   float64\n",
       "Number of H-Bond Donors                              int64\n",
       "Number of Rings                                      int64\n",
       "Number of Rotatable Bonds                            int64\n",
       "Polar Surface Area                                 float64\n",
       "measured log solubility in mols per litre          float64\n",
       "smiles                                              object\n",
       "dtype: object"
      ]
     },
     "execution_count": 5,
     "metadata": {},
     "output_type": "execute_result"
    }
   ],
   "source": [
    "df.dtypes"
   ]
  },
  {
   "cell_type": "code",
   "execution_count": null,
   "id": "25ec8a8b-f06a-4849-aa63-e29a71947077",
   "metadata": {},
   "outputs": [],
   "source": []
  },
  {
   "cell_type": "code",
   "execution_count": 6,
   "id": "d96358a5-8b2e-4f9f-9af2-9949b0ec7b8b",
   "metadata": {},
   "outputs": [
    {
     "name": "stdout",
     "output_type": "stream",
     "text": [
      "📈 Regression Evaluation Results:\n",
      "MAE  = 0.6979\n",
      "RMSE = 0.9101\n",
      "R²   = 0.8114\n"
     ]
    }
   ],
   "source": [
    "import numpy as np\n",
    "from sklearn.metrics import mean_squared_error, mean_absolute_error, r2_score\n",
    "\n",
    "# --- Extract true and predicted values ---\n",
    "y_true = df[\"measured log solubility in mols per litre\"]\n",
    "y_pred = df[\"ESOL predicted log solubility in mols per litre\"]\n",
    "\n",
    "# --- Compute regression metrics ---\n",
    "mae = mean_absolute_error(y_true, y_pred)\n",
    "rmse = np.sqrt(mean_squared_error(y_true, y_pred))\n",
    "r2 = r2_score(y_true, y_pred)\n",
    "\n",
    "print(f\"📈 Regression Evaluation Results:\")\n",
    "print(f\"MAE  = {mae:.4f}\")\n",
    "print(f\"RMSE = {rmse:.4f}\")\n",
    "print(f\"R²   = {r2:.4f}\")\n"
   ]
  },
  {
   "cell_type": "code",
   "execution_count": 7,
   "id": "0a8f2f42-193c-4d5a-b6a7-e27958a63d7b",
   "metadata": {},
   "outputs": [
    {
     "name": "stdout",
     "output_type": "stream",
     "text": [
      "📈 Regression Evaluation Results:\n",
      "MAE  = 0.6979\n",
      "RMSE = 0.9101\n",
      "R²   = 0.8114\n"
     ]
    }
   ],
   "source": [
    "# --- Extract true and predicted values ---\n",
    "y_true = df[\"measured log solubility in mols per litre\"].to_numpy()\n",
    "y_pred = df[\"ESOL predicted log solubility in mols per litre\"].to_numpy()\n",
    "\n",
    "# --- Compute metrics manually using NumPy ---\n",
    "mae = np.mean(np.abs(y_true - y_pred))\n",
    "rmse = np.sqrt(np.mean((y_true - y_pred) ** 2))\n",
    "r2 = 1 - np.sum((y_true - y_pred) ** 2) / np.sum((y_true - np.mean(y_true)) ** 2)\n",
    "\n",
    "# --- Print results ---\n",
    "print(\"📈 Regression Evaluation Results:\")\n",
    "print(f\"MAE  = {mae:.4f}\")\n",
    "print(f\"RMSE = {rmse:.4f}\")\n",
    "print(f\"R²   = {r2:.4f}\")\n"
   ]
  },
  {
   "cell_type": "code",
   "execution_count": 8,
   "id": "880d9968-b1fa-46f5-8dbf-ca77357b7b07",
   "metadata": {},
   "outputs": [
    {
     "name": "stdout",
     "output_type": "stream",
     "text": [
      "Training samples: 902\n",
      "Testing samples: 226\n",
      "\n",
      "Example:\n",
      "X_train[0]: [70.135  0.     0.     1.     0.   ]\n",
      "y_train[0]: -2.54\n"
     ]
    }
   ],
   "source": [
    "# --- Extract features (X) and target (y) ---\n",
    "X = df[[\n",
    "    \"Molecular Weight\",\n",
    "    \"Number of H-Bond Donors\",\n",
    "    \"Number of Rings\",\n",
    "    \"Number of Rotatable Bonds\",\n",
    "    \"Polar Surface Area\"\n",
    "]].to_numpy()\n",
    "\n",
    "y = df[\"measured log solubility in mols per litre\"].to_numpy()\n",
    "y_pred = df[\"ESOL predicted log solubility in mols per litre\"].to_numpy()\n",
    "\n",
    "# --- Set split ratio and random seed for reproducibility ---\n",
    "test_ratio = 0.2\n",
    "np.random.seed(42)\n",
    "\n",
    "# --- Shuffle indices ---\n",
    "indices = np.arange(len(X))\n",
    "np.random.shuffle(indices)\n",
    "\n",
    "# --- Compute split index ---\n",
    "split_idx = int(len(X) * (1 - test_ratio))\n",
    "\n",
    "# --- Split the dataset ---\n",
    "train_idx = indices[:split_idx]\n",
    "test_idx = indices[split_idx:]\n",
    "\n",
    "X_train, X_test = X[train_idx], X[test_idx]\n",
    "y_train, y_test = y[train_idx], y[test_idx]\n",
    "\n",
    "# --- Display results ---\n",
    "print(f\"Training samples: {len(X_train)}\")\n",
    "print(f\"Testing samples: {len(X_test)}\")\n",
    "\n",
    "# Check example values\n",
    "print(\"\\nExample:\")\n",
    "print(\"X_train[0]:\", X_train[0])\n",
    "print(\"y_train[0]:\", y_train[0])"
   ]
  },
  {
   "cell_type": "code",
   "execution_count": 9,
   "id": "2e9b866e-b376-408b-a4ce-9404d8d2a694",
   "metadata": {},
   "outputs": [
    {
     "name": "stdout",
     "output_type": "stream",
     "text": [
      "📈 Regression Evaluation Results:\n",
      "MAE  = 0.6979\n",
      "RMSE = 0.9101\n",
      "R²   = 0.8114\n"
     ]
    }
   ],
   "source": [
    "y_true = df[\"measured log solubility in mols per litre\"].to_numpy()\n",
    "y_pred = y_pred\n",
    "\n",
    "# --- Compute metrics manually using NumPy ---\n",
    "mae = np.mean(np.abs(y_true - y_pred))\n",
    "rmse = np.sqrt(np.mean((y_true - y_pred) ** 2))\n",
    "r2 = 1 - np.sum((y_true - y_pred) ** 2) / np.sum((y_true - np.mean(y_true)) ** 2)\n",
    "\n",
    "# --- Print results ---\n",
    "print(\"📈 Regression Evaluation Results:\")\n",
    "print(f\"MAE  = {mae:.4f}\")\n",
    "print(f\"RMSE = {rmse:.4f}\")\n",
    "print(f\"R²   = {r2:.4f}\")"
   ]
  },
  {
   "cell_type": "code",
   "execution_count": 10,
   "id": "57608c0b-700d-4421-8a01-4af431f4adb5",
   "metadata": {},
   "outputs": [
    {
     "name": "stdout",
     "output_type": "stream",
     "text": [
      "Training samples: 902\n",
      "Testing samples:  226\n"
     ]
    }
   ],
   "source": [
    "from sklearn.model_selection import train_test_split\n",
    "\n",
    "# --- Define features (X) and target (y) ---\n",
    "X = df[[\n",
    "    \"Molecular Weight\",\n",
    "    \"Number of H-Bond Donors\",\n",
    "    \"Number of Rings\",\n",
    "    \"Number of Rotatable Bonds\",\n",
    "    \"Polar Surface Area\"\n",
    "]]\n",
    "y = df[\"measured log solubility in mols per litre\"]\n",
    "\n",
    "# --- Split into train and test sets ---\n",
    "X_train, X_test, y_train, y_test = train_test_split(\n",
    "    X, y, test_size=0.2, random_state=42\n",
    ")\n",
    "\n",
    "# --- Display info ---\n",
    "print(f\"Training samples: {len(X_train)}\")\n",
    "print(f\"Testing samples:  {len(X_test)}\")"
   ]
  },
  {
   "cell_type": "code",
   "execution_count": 11,
   "id": "32aa5de2-3326-44d7-a9a2-9d239e2c28f1",
   "metadata": {},
   "outputs": [
    {
     "data": {
      "text/plain": [
       "((902, 5), (902,))"
      ]
     },
     "execution_count": 11,
     "metadata": {},
     "output_type": "execute_result"
    }
   ],
   "source": [
    "X_train.shape, y_train.shape"
   ]
  },
  {
   "cell_type": "code",
   "execution_count": 12,
   "id": "e12ebf5c-1ba8-492d-8a3b-b937c903050d",
   "metadata": {},
   "outputs": [],
   "source": [
    "from sklearn.preprocessing import StandardScaler"
   ]
  },
  {
   "cell_type": "code",
   "execution_count": 13,
   "id": "6dd529c0-5703-4869-8b68-649a846bcc48",
   "metadata": {},
   "outputs": [],
   "source": [
    "# 4️⃣ Normalize features\n",
    "scaler = StandardScaler()\n",
    "X_train_scaled = scaler.fit_transform(X_train)\n",
    "X_test_scaled = scaler.transform(X_test)"
   ]
  },
  {
   "cell_type": "code",
   "execution_count": 14,
   "id": "f9d368dc-bf42-4040-9235-e9fda44bdeee",
   "metadata": {},
   "outputs": [],
   "source": [
    "import torch\n",
    "\n",
    "from torch import nn"
   ]
  },
  {
   "cell_type": "code",
   "execution_count": 15,
   "id": "24a56898-8998-43ff-adef-a19d57b50242",
   "metadata": {},
   "outputs": [
    {
     "data": {
      "text/plain": [
       "(torch.Size([902, 5]),\n",
       " torch.Size([902, 1]),\n",
       " torch.Size([226, 5]),\n",
       " torch.Size([226, 1]))"
      ]
     },
     "execution_count": 15,
     "metadata": {},
     "output_type": "execute_result"
    }
   ],
   "source": [
    "# 5️⃣ Convert to PyTorch tensors\n",
    "X_train_t = torch.tensor(X_train_scaled, dtype=torch.float32)\n",
    "y_train_t = torch.tensor(y_train.values, dtype=torch.float32).view(-1, 1)\n",
    "X_test_t = torch.tensor(X_test_scaled, dtype=torch.float32)\n",
    "y_test_t = torch.tensor(y_test.values, dtype=torch.float32).view(-1, 1)\n",
    "\n",
    "X_train_t.shape, y_train_t.shape, X_test_t.shape, y_test_t.shape"
   ]
  },
  {
   "cell_type": "code",
   "execution_count": 16,
   "id": "ea03871e-bd0e-4d64-a5ff-0727eb972bbe",
   "metadata": {},
   "outputs": [
    {
     "data": {
      "text/plain": [
       "MLP(\n",
       "  (model): Sequential(\n",
       "    (0): Linear(in_features=5, out_features=32, bias=True)\n",
       "    (1): ReLU()\n",
       "    (2): Linear(in_features=32, out_features=16, bias=True)\n",
       "    (3): ReLU()\n",
       "    (4): Linear(in_features=16, out_features=1, bias=True)\n",
       "  )\n",
       ")"
      ]
     },
     "execution_count": 16,
     "metadata": {},
     "output_type": "execute_result"
    }
   ],
   "source": [
    "# 6️⃣ Define MLP model\n",
    "class MLP(nn.Module):\n",
    "    def __init__(self):\n",
    "        super().__init__()\n",
    "        self.model = nn.Sequential(\n",
    "            nn.Linear(5, 32),\n",
    "            nn.ReLU(),\n",
    "            nn.Linear(32, 16),\n",
    "            nn.ReLU(),\n",
    "            nn.Linear(16, 1)\n",
    "        )\n",
    "\n",
    "    def forward(self, x):\n",
    "        return self.model(x)\n",
    "\n",
    "model = MLP()\n",
    "model"
   ]
  },
  {
   "cell_type": "code",
   "execution_count": 17,
   "id": "25251633-4380-4583-bbd8-01d11886e055",
   "metadata": {},
   "outputs": [
    {
     "data": {
      "text/plain": [
       "Adam (\n",
       "Parameter Group 0\n",
       "    amsgrad: False\n",
       "    betas: (0.9, 0.999)\n",
       "    capturable: False\n",
       "    decoupled_weight_decay: False\n",
       "    differentiable: False\n",
       "    eps: 1e-08\n",
       "    foreach: None\n",
       "    fused: None\n",
       "    lr: 0.001\n",
       "    maximize: False\n",
       "    weight_decay: 0\n",
       ")"
      ]
     },
     "execution_count": 17,
     "metadata": {},
     "output_type": "execute_result"
    }
   ],
   "source": [
    "optimizer = torch.optim.Adam(model.parameters(), lr=0.001)\n",
    "optimizer"
   ]
  },
  {
   "cell_type": "code",
   "execution_count": 18,
   "id": "57df2021-bd33-4c9c-bc76-0977b6f904d6",
   "metadata": {},
   "outputs": [
    {
     "name": "stdout",
     "output_type": "stream",
     "text": [
      "Epoch 50/5000, Loss: 6.7459\n",
      "Epoch 100/5000, Loss: 2.1276\n",
      "Epoch 150/5000, Loss: 1.6366\n",
      "Epoch 200/5000, Loss: 1.4384\n",
      "Epoch 250/5000, Loss: 1.2734\n",
      "Epoch 300/5000, Loss: 1.1201\n",
      "Epoch 350/5000, Loss: 0.9981\n",
      "Epoch 400/5000, Loss: 0.9107\n",
      "Epoch 450/5000, Loss: 0.8521\n",
      "Epoch 500/5000, Loss: 0.8081\n",
      "Epoch 550/5000, Loss: 0.7690\n",
      "Epoch 600/5000, Loss: 0.7366\n",
      "Epoch 650/5000, Loss: 0.7117\n",
      "Epoch 700/5000, Loss: 0.6915\n",
      "Epoch 750/5000, Loss: 0.6733\n",
      "Epoch 800/5000, Loss: 0.6566\n",
      "Epoch 850/5000, Loss: 0.6424\n",
      "Epoch 900/5000, Loss: 0.6296\n",
      "Epoch 950/5000, Loss: 0.6184\n",
      "Epoch 1000/5000, Loss: 0.6076\n",
      "Epoch 1050/5000, Loss: 0.5972\n",
      "Epoch 1100/5000, Loss: 0.5871\n",
      "Epoch 1150/5000, Loss: 0.5782\n",
      "Epoch 1200/5000, Loss: 0.5700\n",
      "Epoch 1250/5000, Loss: 0.5617\n",
      "Epoch 1300/5000, Loss: 0.5534\n",
      "Epoch 1350/5000, Loss: 0.5443\n",
      "Epoch 1400/5000, Loss: 0.5353\n",
      "Epoch 1450/5000, Loss: 0.5280\n",
      "Epoch 1500/5000, Loss: 0.5219\n",
      "Epoch 1550/5000, Loss: 0.5157\n",
      "Epoch 1600/5000, Loss: 0.5099\n",
      "Epoch 1650/5000, Loss: 0.5042\n",
      "Epoch 1700/5000, Loss: 0.4987\n",
      "Epoch 1750/5000, Loss: 0.4933\n",
      "Epoch 1800/5000, Loss: 0.4886\n",
      "Epoch 1850/5000, Loss: 0.4842\n",
      "Epoch 1900/5000, Loss: 0.4802\n",
      "Epoch 1950/5000, Loss: 0.4759\n",
      "Epoch 2000/5000, Loss: 0.4720\n",
      "Epoch 2050/5000, Loss: 0.4685\n",
      "Epoch 2100/5000, Loss: 0.4654\n",
      "Epoch 2150/5000, Loss: 0.4627\n",
      "Epoch 2200/5000, Loss: 0.4601\n",
      "Epoch 2250/5000, Loss: 0.4580\n",
      "Epoch 2300/5000, Loss: 0.4560\n",
      "Epoch 2350/5000, Loss: 0.4541\n",
      "Epoch 2400/5000, Loss: 0.4522\n",
      "Epoch 2450/5000, Loss: 0.4502\n",
      "Epoch 2500/5000, Loss: 0.4483\n",
      "Epoch 2550/5000, Loss: 0.4465\n",
      "Epoch 2600/5000, Loss: 0.4447\n",
      "Epoch 2650/5000, Loss: 0.4429\n",
      "Epoch 2700/5000, Loss: 0.4409\n",
      "Epoch 2750/5000, Loss: 0.4389\n",
      "Epoch 2800/5000, Loss: 0.4370\n",
      "Epoch 2850/5000, Loss: 0.4351\n",
      "Epoch 2900/5000, Loss: 0.4327\n",
      "Epoch 2950/5000, Loss: 0.4299\n",
      "Epoch 3000/5000, Loss: 0.4274\n",
      "Epoch 3050/5000, Loss: 0.4250\n",
      "Epoch 3100/5000, Loss: 0.4230\n",
      "Epoch 3150/5000, Loss: 0.4206\n",
      "Epoch 3200/5000, Loss: 0.4180\n",
      "Epoch 3250/5000, Loss: 0.4154\n",
      "Epoch 3300/5000, Loss: 0.4128\n",
      "Epoch 3350/5000, Loss: 0.4103\n",
      "Epoch 3400/5000, Loss: 0.4075\n",
      "Epoch 3450/5000, Loss: 0.4047\n",
      "Epoch 3500/5000, Loss: 0.4018\n",
      "Epoch 3550/5000, Loss: 0.3990\n",
      "Epoch 3600/5000, Loss: 0.3958\n",
      "Epoch 3650/5000, Loss: 0.3926\n",
      "Epoch 3700/5000, Loss: 0.3895\n",
      "Epoch 3750/5000, Loss: 0.3867\n",
      "Epoch 3800/5000, Loss: 0.3837\n",
      "Epoch 3850/5000, Loss: 0.3806\n",
      "Epoch 3900/5000, Loss: 0.3777\n",
      "Epoch 3950/5000, Loss: 0.3750\n",
      "Epoch 4000/5000, Loss: 0.3726\n",
      "Epoch 4050/5000, Loss: 0.3700\n",
      "Epoch 4100/5000, Loss: 0.3677\n",
      "Epoch 4150/5000, Loss: 0.3651\n",
      "Epoch 4200/5000, Loss: 0.3628\n",
      "Epoch 4250/5000, Loss: 0.3612\n",
      "Epoch 4300/5000, Loss: 0.3600\n",
      "Epoch 4350/5000, Loss: 0.3583\n",
      "Epoch 4400/5000, Loss: 0.3569\n",
      "Epoch 4450/5000, Loss: 0.3555\n",
      "Epoch 4500/5000, Loss: 0.3540\n",
      "Epoch 4550/5000, Loss: 0.3528\n",
      "Epoch 4600/5000, Loss: 0.3519\n",
      "Epoch 4650/5000, Loss: 0.3509\n",
      "Epoch 4700/5000, Loss: 0.3499\n",
      "Epoch 4750/5000, Loss: 0.3491\n",
      "Epoch 4800/5000, Loss: 0.3484\n",
      "Epoch 4850/5000, Loss: 0.3476\n",
      "Epoch 4900/5000, Loss: 0.3466\n",
      "Epoch 4950/5000, Loss: 0.3458\n",
      "Epoch 5000/5000, Loss: 0.3450\n"
     ]
    }
   ],
   "source": [
    "# 8️⃣ Training loop with manual loss computation\n",
    "epochs = 5000\n",
    "train_losses = []\n",
    "\n",
    "for epoch in range(epochs):\n",
    "    model.train()\n",
    "    optimizer.zero_grad()\n",
    "\n",
    "    y_pred = model(X_train_t)\n",
    "\n",
    "    # --- Manual MSE loss ---\n",
    "    loss = torch.mean((y_pred - y_train_t) ** 2)\n",
    "\n",
    "    # Backpropagation\n",
    "    loss.backward()\n",
    "    optimizer.step()\n",
    "\n",
    "    train_losses.append(loss.item())\n",
    "\n",
    "    if (epoch + 1) % 50 == 0:\n",
    "        print(f\"Epoch {epoch+1}/{epochs}, Loss: {loss.item():.4f}\")"
   ]
  },
  {
   "cell_type": "code",
   "execution_count": 19,
   "id": "a31a0b4d-31e8-4dd1-a783-de5efb23fa32",
   "metadata": {},
   "outputs": [
    {
     "name": "stdout",
     "output_type": "stream",
     "text": [
      "\n",
      "✅ Test MSE: 0.9847\n",
      "Test RMSE: 0.9923\n"
     ]
    }
   ],
   "source": [
    "# 9️⃣ Evaluate on test set\n",
    "model.eval()\n",
    "with torch.no_grad():\n",
    "    y_pred_test = model(X_test_t)\n",
    "    test_loss = torch.mean((y_pred_test - y_test_t) ** 2).item()\n",
    "\n",
    "print(f\"\\n✅ Test MSE: {test_loss:.4f}\")\n",
    "print(f\"Test RMSE: {np.sqrt(test_loss):.4f}\")"
   ]
  },
  {
   "cell_type": "code",
   "execution_count": 20,
   "id": "1788c721-82c4-4033-a56c-373c11dad66d",
   "metadata": {},
   "outputs": [
    {
     "data": {
      "image/png": "[encoded data removed]",
      "text/plain": [
       "<Figure size 640x480 with 1 Axes>"
      ]
     },
     "metadata": {},
     "output_type": "display_data"
    },
    {
     "data": {
      "image/png": "[encoded data removed]",
      "text/plain": [
       "<Figure size 600x600 with 1 Axes>"
      ]
     },
     "metadata": {},
     "output_type": "display_data"
    }
   ],
   "source": [
    "import matplotlib.pyplot as plt\n",
    "\n",
    "# 🔟 Plot training loss\n",
    "plt.plot(train_losses)\n",
    "plt.xlabel(\"Epoch\")\n",
    "plt.ylabel(\"Training Loss (MSE)\")\n",
    "plt.title(\"Training Loss Curve\")\n",
    "plt.grid(True)\n",
    "plt.show()\n",
    "\n",
    "# 1️⃣1️⃣ Compare predicted vs true\n",
    "y_pred_np = y_pred_test.numpy().flatten()\n",
    "y_true_np = y_test_t.numpy().flatten()\n",
    "\n",
    "plt.figure(figsize=(6,6))\n",
    "plt.scatter(y_true_np, y_pred_np, alpha=0.6, edgecolor='k')\n",
    "plt.plot([y_true_np.min(), y_true_np.max()], [y_true_np.min(), y_true_np.max()], 'r--')\n",
    "plt.xlabel(\"Measured LogS\")\n",
    "plt.ylabel(\"Predicted LogS\")\n",
    "plt.title(\"MLP Predictions vs True Solubility\")\n",
    "plt.grid(True)\n",
    "plt.show()\n"
   ]
  },
  {
   "cell_type": "code",
   "execution_count": null,
   "id": "71210729-ef42-41c7-bd79-de578628a648",
   "metadata": {},
   "outputs": [],
   "source": []
  }
 ],
 "metadata": {
  "kernelspec": {
   "display_name": "Python 3.11 (llm)",
   "language": "python",
   "name": "llm"
  },
  "language_info": {
   "codemirror_mode": {
    "name": "ipython",
    "version": 3
   },
   "file_extension": ".py",
   "mimetype": "text/x-python",
   "name": "python",
   "nbconvert_exporter": "python",
   "pygments_lexer": "ipython3",
   "version": "3.11.12"
  }
 },
 "nbformat": 4,
 "nbformat_minor": 5
}
