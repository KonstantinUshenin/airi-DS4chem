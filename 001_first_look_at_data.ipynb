{
 "cells": [
  {
   "cell_type": "markdown",
   "id": "dc209f17-a1c3-4843-8a0a-58c5023fca73",
   "metadata": {},
   "source": [
    "Содержание этого блокнота:\n",
    "- Типы химической информации: текст, SMILES, 2D-граф, 3D-граф\n",
    "- Визуализация молекул в плоскости и в 3D\n",
    "- Пакеты: RDKit, OpenBabel"
   ]
  },
  {
   "cell_type": "markdown",
   "id": "5bf40c7f-9c85-43e7-a662-95434cdaa51c",
   "metadata": {},
   "source": [
    "# Варианты представления химической информации"
   ]
  },
  {
   "cell_type": "code",
   "execution_count": 81,
   "id": "77083907-ddd1-4fce-9684-47e4cae432a1",
   "metadata": {},
   "outputs": [
    {
     "data": {
      "text/plain": [
       "'Acetylsalicylic acid is a member of the class of benzoic acids that is salicylic acid in which the hydrogen that is attached to the phenolic hydroxy group has been replaced by an acetoxy group. A non-steroidal anti-inflammatory drug with cyclooxygenase inhibitor activity. It has a role as a non-steroidal anti-inflammatory drug, a non-narcotic analgesic, a platelet aggregation inhibitor, an antipyretic, a cyclooxygenase 2 inhibitor, a cyclooxygenase 1 inhibitor, a prostaglandin antagonist, a teratogenic agent, an anticoagulant, a plant activator, an EC 1.1.1.188 (prostaglandin-F synthase) inhibitor, a drug allergen and a geroprotector. It is a member of benzoic acids, a member of salicylates and a member of phenyl acetates. It is functionally related to a salicylic acid. It is a conjugate acid of an acetylsalicylate.'"
      ]
     },
     "execution_count": 81,
     "metadata": {},
     "output_type": "execute_result"
    }
   ],
   "source": [
    "# Текстовое представление\n",
    "\"\"\"Acetylsalicylic acid is a member of the class of benzoic acids that is salicylic acid in which the hydrogen that is attached to the phenolic hydroxy group has been replaced by an acetoxy group. A non-steroidal anti-inflammatory drug with cyclooxygenase inhibitor activity. It has a role as a non-steroidal anti-inflammatory drug, a non-narcotic analgesic, a platelet aggregation inhibitor, an antipyretic, a cyclooxygenase 2 inhibitor, a cyclooxygenase 1 inhibitor, a prostaglandin antagonist, a teratogenic agent, an anticoagulant, a plant activator, an EC 1.1.1.188 (prostaglandin-F synthase) inhibitor, a drug allergen and a geroprotector. It is a member of benzoic acids, a member of salicylates and a member of phenyl acetates. It is functionally related to a salicylic acid. It is a conjugate acid of an acetylsalicylate.\"\"\""
   ]
  },
  {
   "cell_type": "code",
   "execution_count": 82,
   "id": "db4b4226-3feb-4158-9847-69247bafbf9d",
   "metadata": {},
   "outputs": [],
   "source": [
    "from rdkit import Chem\n",
    "from rdkit.Chem import Draw"
   ]
  },
  {
   "cell_type": "markdown",
   "id": "71d17c76-7655-44b1-938e-fdce78316f76",
   "metadata": {},
   "source": [
    "## SMILES строки и 2D представление"
   ]
  },
  {
   "cell_type": "code",
   "execution_count": 83,
   "id": "3d225f91-f8cb-4cb3-b924-765f8d94ab3a",
   "metadata": {},
   "outputs": [
    {
     "data": {
      "text/plain": [
       "'CC(=O)OC1=CC=CC=C1C(=O)O'"
      ]
     },
     "execution_count": 83,
     "metadata": {},
     "output_type": "execute_result"
    }
   ],
   "source": [
    "\"CC(=O)OC1=CC=CC=C1C(=O)O\""
   ]
  },
  {
   "cell_type": "code",
   "execution_count": 84,
   "id": "99e18a36-9660-4bfc-b945-61f69cb4c877",
   "metadata": {},
   "outputs": [
    {
     "data": {
      "image/png": "[encoded data removed]",
      "text/plain": [
       "<rdkit.Chem.rdchem.Mol at 0x7261b7159c40>"
      ]
     },
     "execution_count": 84,
     "metadata": {},
     "output_type": "execute_result"
    }
   ],
   "source": [
    "# Чтение SMILES во внутреннее представление RDKit\n",
    "smiles = \"CC(=O)OC1=CC=CC=C1C(=O)O\"\n",
    "mol = Chem.MolFromSmiles(smiles)\n",
    "mol"
   ]
  },
  {
   "cell_type": "code",
   "execution_count": 85,
   "id": "adb4e64b-ee1c-4467-994a-84a059047779",
   "metadata": {},
   "outputs": [
    {
     "data": {
      "image/png": "[encoded data removed]",
      "text/plain": [
       "<rdkit.Chem.rdchem.Mol at 0x7261b715a180>"
      ]
     },
     "execution_count": 85,
     "metadata": {},
     "output_type": "execute_result"
    }
   ],
   "source": [
    "Chem.AddHs(mol)"
   ]
  },
  {
   "cell_type": "markdown",
   "id": "911f8ca9-ba75-42f3-87d5-8aab0ab44832",
   "metadata": {},
   "source": [
    "## 3D представление"
   ]
  },
  {
   "cell_type": "code",
   "execution_count": 67,
   "id": "b1e1fcaf-0830-40fb-a61f-595b5aecd85d",
   "metadata": {
    "scrolled": true
   },
   "outputs": [
    {
     "name": "stdout",
     "output_type": "stream",
     "text": [
      "2244\n",
      "  -OEChem-09082515022D\n",
      "\n",
      " 21 21  0     0  0  0  0  0  0999 V2000\n",
      "    3.7321   -0.0600    0.0000 O   0  0  0  0  0  0  0  0  0  0  0  0\n",
      "    6.3301    1.4400    0.0000 O   0  0  0  0  0  0  0  0  0  0  0  0\n",
      "    4.5981    1.4400    0.0000 O   0  0  0  0  0  0  0  0  0  0  0  0\n",
      "    2.8660   -1.5600    0.0000 O   0  0  0  0  0  0  0  0  0  0  0  0\n",
      "    4.5981   -0.5600    0.0000 C   0  0  0  0  0  0  0  0  0  0  0  0\n",
      "    5.4641   -0.0600    0.0000 C   0  0  0  0  0  0  0  0  0  0  0  0\n",
      "    4.5981   -1.5600    0.0000 C   0  0  0  0  0  0  0  0  0  0  0  0\n",
      "    6.3301   -0.5600    0.0000 C   0  0  0  0  0  0  0  0  0  0  0  0\n",
      "    5.4641   -2.0600    0.0000 C   0  0  0  0  0  0  0  0  0  0  0  0\n",
      "    6.3301   -1.5600    0.0000 C   0  0  0  0  0  0  0  0  0  0  0  0\n",
      "    5.4641    0.9400    0.0000 C   0  0  0  0  0  0  0  0  0  0  0  0\n",
      "    2.8660   -0.5600    0.0000 C   0  0  0  0  0  0  0  0  0  0  0  0\n",
      "    2.0000   -0.0600    0.0000 C   0  0  0  0  0  0  0  0  0  0  0  0\n",
      "    4.0611   -1.8700    0.0000 H   0  0  0  0  0  0  0  0  0  0  0  0\n",
      "    6.8671   -0.2500    0.0000 H   0  0  0  0  0  0  0  0  0  0  0  0\n",
      "    5.4641   -2.6800    0.0000 H   0  0  0  0  0  0  0  0  0  0  0  0\n",
      "    6.8671   -1.8700    0.0000 H   0  0  0  0  0  0  0  0  0  0  0  0\n",
      "    2.3100    0.4769    0.0000 H   0  0  0  0  0  0  0  0  0  0  0  0\n",
      "    1.4631    0.2500    0.0000 H   0  0  0  0  0  0  0  0  0  0  0  0\n",
      "    1.6900   -0.5969    0.0000 H   0  0  0  0  0  0  0  0  0  0  0  0\n",
      "    6.3301    2.0600    0.0000 H   0  0  0  0  0  0  0  0  0  0  0  0\n",
      "  1  5  1  0  0  0  0\n",
      "  1 12  1  0  0  0  0\n",
      "  2 11  1  0  0  0  0\n",
      "  2 21  1  0  0  0  0\n",
      "  3 11  2  0  0  0  0\n",
      "  4 12  2  0  0  0  0\n",
      "  5  6  1  0  0  0  0\n",
      "  5  7  2  0  0  0  0\n",
      "  6  8  2  0  0  0  0\n",
      "  6 11  1  0  0  0  0\n",
      "  7  9  1  0  0  0  0\n",
      "  7 14  1  0  0  0  0\n",
      "  8 10  1  0  0  0  0\n",
      "  8 15  1  0  0  0  0\n",
      "  9 10  2  0  0  0  0\n",
      "  9 16  1  0  0  0  0\n",
      " 10 17  1  0  0  0  0\n",
      " 12 13  1  0  0  0  0\n",
      " 13 18  1  0  0  0  0\n",
      " 13 19  1  0  0  0  0\n",
      " 13 20  1  0  0  0  0\n",
      "M  END\n",
      "> <PUBCHEM_COMPOUND_CID>\n",
      "2244\n",
      "\n",
      "> <PUBCHEM_COMPOUND_CANONICALIZED>\n",
      "1\n",
      "\n",
      "> <PUBCHEM_CACTVS_COMPLEXITY>\n",
      "212\n",
      "\n",
      "> <PUBCHEM_CACTVS_HBOND_ACCEPTOR>\n",
      "4\n",
      "\n",
      "> <PUBCHEM_CACTVS_HBOND_DONOR>\n",
      "1\n",
      "\n",
      "> <PUBCHEM_CACTVS_ROTATABLE_BOND>\n",
      "3\n",
      "\n",
      "> <PUBCHEM_CACTVS_SUBSKEYS>\n",
      "AAADccBwOAAAAAAAAAAAAAAAAAAAAAAAAAAwAAAAAAAAAAABAAAAGgAACAAADASAmAAyDoAABgCIAiDSCAACCAAkIAAIiAEGCMgMJzaENRqCe2Cl4BEIuYeIyCCOAAAAAAAIAAAAAAAAABAAAAAAAAAAAA==\n",
      "\n",
      "> <PUBCHEM_IUPAC_OPENEYE_NAME>\n",
      "2-acetoxybenzoic acid\n",
      "\n",
      "> <PUBCHEM_IUPAC_CAS_NAME>\n",
      "2-acetyloxybenzoic acid\n",
      "\n",
      "> <PUBCHEM_IUPAC_NAME_MARKUP>\n",
      "2-acetyloxybenzoic acid\n",
      "\n",
      "> <PUBCHEM_IUPAC_NAME>\n",
      "2-acetyloxybenzoic acid\n",
      "\n",
      "> <PUBCHEM_IUPAC_SYSTEMATIC_NAME>\n",
      "2-acetyloxybenzoic acid\n",
      "\n",
      "> <PUBCHEM_IUPAC_TRADITIONAL_NAME>\n",
      "2-acetoxybenzoic acid\n",
      "\n",
      "> <PUBCHEM_IUPAC_INCHI>\n",
      "InChI=1S/C9H8O4/c1-6(10)13-8-5-3-2-4-7(8)9(11)12/h2-5H,1H3,(H,11,12)\n",
      "\n",
      "> <PUBCHEM_IUPAC_INCHIKEY>\n",
      "BSYNRYMUTXBXSQ-UHFFFAOYSA-N\n",
      "\n",
      "> <PUBCHEM_XLOGP3>\n",
      "1.2\n",
      "\n",
      "> <PUBCHEM_EXACT_MASS>\n",
      "180.04225873\n",
      "\n",
      "> <PUBCHEM_MOLECULAR_FORMULA>\n",
      "C9H8O4\n",
      "\n",
      "> <PUBCHEM_MOLECULAR_WEIGHT>\n",
      "180.16\n",
      "\n",
      "> <PUBCHEM_SMILES>\n",
      "CC(=O)OC1=CC=CC=C1C(=O)O\n",
      "\n",
      "> <PUBCHEM_CONNECTIVITY_SMILES>\n",
      "CC(=O)OC1=CC=CC=C1C(=O)O\n",
      "\n",
      "> <PUBCHEM_CACTVS_TPSA>\n",
      "63.6\n",
      "\n",
      "> <PUBCHEM_MONOISOTOPIC_WEIGHT>\n",
      "180.04225873\n",
      "\n",
      "> <PUBCHEM_TOTAL_CHARGE>\n",
      "0\n",
      "\n",
      "> <PUBCHEM_HEAVY_ATOM_COUNT>\n",
      "13\n",
      "\n",
      "> <PUBCHEM_ATOM_DEF_STEREO_COUNT>\n",
      "0\n",
      "\n",
      "> <PUBCHEM_ATOM_UDEF_STEREO_COUNT>\n",
      "0\n",
      "\n",
      "> <PUBCHEM_BOND_DEF_STEREO_COUNT>\n",
      "0\n",
      "\n",
      "> <PUBCHEM_BOND_UDEF_STEREO_COUNT>\n",
      "0\n",
      "\n",
      "> <PUBCHEM_ISOTOPIC_ATOM_COUNT>\n",
      "0\n",
      "\n",
      "> <PUBCHEM_COMPONENT_COUNT>\n",
      "1\n",
      "\n",
      "> <PUBCHEM_CACTVS_TAUTO_COUNT>\n",
      "-1\n",
      "\n",
      "> <PUBCHEM_COORDINATE_TYPE>\n",
      "1\n",
      "5\n",
      "255\n",
      "\n",
      "> <PUBCHEM_BONDANNOTATIONS>\n",
      "5  6  8\n",
      "5  7  8\n",
      "6  8  8\n",
      "7  9  8\n",
      "8  10  8\n",
      "9  10  8\n",
      "\n",
      "$$$$\n"
     ]
    }
   ],
   "source": [
    "# Посмотрим как устроен SDF файл\n",
    "!cat ./data/Structure2D_COMPOUND_CID_2244.sdf"
   ]
  },
  {
   "cell_type": "code",
   "execution_count": 68,
   "id": "d1c1a889-964d-4f36-9abf-de8177704e2b",
   "metadata": {},
   "outputs": [
    {
     "data": {
      "image/jpeg": "[encoded data removed]",
      "image/png": "[encoded data removed]",
      "text/plain": [
       "<PIL.PngImagePlugin.PngImageFile image mode=RGB size=300x300>"
      ]
     },
     "execution_count": 68,
     "metadata": {},
     "output_type": "execute_result"
    }
   ],
   "source": [
    "# Load molecule from SDF\n",
    "suppl = Chem.SDMolSupplier(\"./data/Structure2D_COMPOUND_CID_2244.sdf\")\n",
    "mol = suppl[0]\n",
    "\n",
    "# Draw 2D structure\n",
    "img = Draw.MolToImage(mol, size=(300, 300))\n",
    "img"
   ]
  },
  {
   "cell_type": "code",
   "execution_count": 69,
   "id": "adbf2151-041a-4e41-b98b-9584a50ac228",
   "metadata": {},
   "outputs": [],
   "source": [
    "# import pybel -- не надо так делать, надо так как ниже показано\n",
    "\n",
    "from openbabel import pybel"
   ]
  },
  {
   "cell_type": "code",
   "execution_count": 86,
   "id": "55f46dad-4a25-49bc-9422-2d344725b37e",
   "metadata": {},
   "outputs": [
    {
     "data": {
      "image/svg+xml": [
       "<svg xmlns=\"http://www.w3.org/2000/svg\" width=\"100\" height=\"100\" x=\"0\" y=\"0\" viewBox=\"0 0 332.749 301.693\" font-family=\"sans-serif\" stroke=\"rgb(0,0,0)\" stroke-width=\"2\" stroke-linecap=\"round\">\n",
       "<line x1=\"157.4\" y1=\"145.7\" x2=\"186.6\" y2=\"162.5\" opacity=\"1.0\" stroke=\"rgb(0,0,0)\" stroke-width=\"2.0\" />\n",
       "<line x1=\"134.9\" y1=\"145.7\" x2=\"105.6\" y2=\"162.5\" opacity=\"1.0\" stroke=\"rgb(0,0,0)\" stroke-width=\"2.0\" />\n",
       "<line x1=\"256.4\" y1=\"75.5\" x2=\"227.1\" y2=\"92.4\" opacity=\"1.0\" stroke=\"rgb(0,0,0)\" stroke-width=\"2.0\" />\n",
       "<line x1=\"267.6\" y1=\"56.0\" x2=\"267.6\" y2=\"53.0\" opacity=\"1.0\" stroke=\"rgb(0,0,0)\" stroke-width=\"2.0\" />\n",
       "<line x1=\"199.4\" y1=\"72.9\" x2=\"228.6\" y2=\"89.8\" opacity=\"1.0\" stroke=\"rgb(0,0,0)\" stroke-width=\"2.0\" />\n",
       "<line x1=\"196.4\" y1=\"78.1\" x2=\"225.6\" y2=\"95.0\" opacity=\"1.0\" stroke=\"rgb(0,0,0)\" stroke-width=\"2.0\" />\n",
       "<line x1=\"102.6\" y1=\"196.3\" x2=\"102.6\" y2=\"162.5\" opacity=\"1.0\" stroke=\"rgb(0,0,0)\" stroke-width=\"2.0\" />\n",
       "<line x1=\"108.6\" y1=\"196.3\" x2=\"108.6\" y2=\"162.5\" opacity=\"1.0\" stroke=\"rgb(0,0,0)\" stroke-width=\"2.0\" />\n",
       "<line x1=\"227.1\" y1=\"139.2\" x2=\"227.1\" y2=\"92.4\" opacity=\"1.0\" stroke=\"rgb(0,0,0)\" stroke-width=\"2.0\" />\n",
       "<line x1=\"186.6\" y1=\"209.3\" x2=\"172.8\" y2=\"217.3\" opacity=\"1.0\" stroke=\"rgb(0,0,0)\" stroke-width=\"2.0\" />\n",
       "<line x1=\"267.6\" y1=\"162.5\" x2=\"281.5\" y2=\"154.5\" opacity=\"1.0\" stroke=\"rgb(0,0,0)\" stroke-width=\"2.0\" />\n",
       "<line x1=\"227.1\" y1=\"232.7\" x2=\"227.1\" y2=\"248.7\" opacity=\"1.0\" stroke=\"rgb(0,0,0)\" stroke-width=\"2.0\" />\n",
       "<line x1=\"267.6\" y1=\"209.3\" x2=\"281.5\" y2=\"217.3\" opacity=\"1.0\" stroke=\"rgb(0,0,0)\" stroke-width=\"2.0\" />\n",
       "<line x1=\"105.6\" y1=\"162.5\" x2=\"65.1\" y2=\"139.2\" opacity=\"1.0\" stroke=\"rgb(0,0,0)\" stroke-width=\"2.0\" />\n",
       "<line x1=\"65.1\" y1=\"139.2\" x2=\"73.1\" y2=\"125.3\" opacity=\"1.0\" stroke=\"rgb(0,0,0)\" stroke-width=\"2.0\" />\n",
       "<line x1=\"65.1\" y1=\"139.2\" x2=\"51.3\" y2=\"131.2\" opacity=\"1.0\" stroke=\"rgb(0,0,0)\" stroke-width=\"2.0\" />\n",
       "<line x1=\"65.1\" y1=\"139.2\" x2=\"57.1\" y2=\"153.0\" opacity=\"1.0\" stroke=\"rgb(0,0,0)\" stroke-width=\"2.0\" />\n",
       "<line x1=\"227.1\" y1=\"139.2\" x2=\"186.6\" y2=\"162.5\" opacity=\"1.0\" stroke=\"rgb(0,0,0)\" stroke-width=\"2.0\" />\n",
       "<line x1=\"186.6\" y1=\"162.5\" x2=\"186.6\" y2=\"209.3\" opacity=\"1.0\" stroke=\"rgb(0,0,0)\" stroke-width=\"2.0\" />\n",
       "<line x1=\"193.8\" y1=\"168.5\" x2=\"193.8\" y2=\"203.3\" opacity=\"1.0\" stroke=\"rgb(0,0,0)\" stroke-width=\"2.0\" />\n",
       "<line x1=\"186.6\" y1=\"209.3\" x2=\"227.1\" y2=\"232.7\" opacity=\"1.0\" stroke=\"rgb(0,0,0)\" stroke-width=\"2.0\" />\n",
       "<line x1=\"227.1\" y1=\"232.7\" x2=\"267.6\" y2=\"209.3\" opacity=\"1.0\" stroke=\"rgb(0,0,0)\" stroke-width=\"2.0\" />\n",
       "<line x1=\"228.7\" y1=\"223.5\" x2=\"258.8\" y2=\"206.1\" opacity=\"1.0\" stroke=\"rgb(0,0,0)\" stroke-width=\"2.0\" />\n",
       "<line x1=\"267.6\" y1=\"209.3\" x2=\"267.6\" y2=\"162.5\" opacity=\"1.0\" stroke=\"rgb(0,0,0)\" stroke-width=\"2.0\" />\n",
       "<line x1=\"267.6\" y1=\"162.5\" x2=\"227.1\" y2=\"139.2\" opacity=\"1.0\" stroke=\"rgb(0,0,0)\" stroke-width=\"2.0\" />\n",
       "<line x1=\"258.8\" y1=\"165.8\" x2=\"228.7\" y2=\"148.4\" opacity=\"1.0\" stroke=\"rgb(0,0,0)\" stroke-width=\"2.0\" />\n",
       "<text x=\"261.632990\" y=\"48.000000\" fill=\"rgb(191,191,191)\" stroke-width=\"0\" font-weight=\"bold\" font-size=\"16\">H</text>\n",
       "<text x=\"44.612272\" y=\"172.265069\" fill=\"rgb(191,191,191)\" stroke-width=\"0\" font-weight=\"bold\" font-size=\"16\">H</text>\n",
       "<text x=\"34.000000\" y=\"132.654964\" fill=\"rgb(191,191,191)\" stroke-width=\"0\" font-weight=\"bold\" font-size=\"16\">H</text>\n",
       "<text x=\"73.610105\" y=\"122.042693\" fill=\"rgb(191,191,191)\" stroke-width=\"0\" font-weight=\"bold\" font-size=\"16\">H</text>\n",
       "<text x=\"286.748855\" y=\"231.808846\" fill=\"rgb(191,191,191)\" stroke-width=\"0\" font-weight=\"bold\" font-size=\"16\">H</text>\n",
       "<text x=\"221.129565\" y=\"269.693111\" fill=\"rgb(191,191,191)\" stroke-width=\"0\" font-weight=\"bold\" font-size=\"16\">H</text>\n",
       "<text x=\"286.748855\" y=\"156.040314\" fill=\"rgb(191,191,191)\" stroke-width=\"0\" font-weight=\"bold\" font-size=\"16\">H</text>\n",
       "<text x=\"155.510275\" y=\"231.808846\" fill=\"rgb(191,191,191)\" stroke-width=\"0\" font-weight=\"bold\" font-size=\"16\">H</text>\n",
       "<text x=\"140.122715\" y=\"147.153881\" fill=\"rgb(255,12,12)\" stroke-width=\"0\" font-weight=\"bold\" font-size=\"16\">O</text>\n",
       "<text x=\"99.614613\" y=\"217.309929\" fill=\"rgb(255,12,12)\" stroke-width=\"0\" font-weight=\"bold\" font-size=\"16\">O</text>\n",
       "<text x=\"180.626140\" y=\"76.997833\" fill=\"rgb(255,12,12)\" stroke-width=\"0\" font-weight=\"bold\" font-size=\"16\">O</text>\n",
       "<text x=\"261.632990\" y=\"76.997833\" fill=\"rgb(255,12,12)\" stroke-width=\"0\" font-weight=\"bold\" font-size=\"16\">O</text>\n",
       "</svg>\n"
      ],
      "text/plain": [
       "<openbabel.pybel.Molecule at 0x7261b69a15a0>"
      ]
     },
     "execution_count": 86,
     "metadata": {},
     "output_type": "execute_result"
    }
   ],
   "source": [
    "pybel_mol = next(pybel.readfile(\"sdf\", \"./data/Structure2D_COMPOUND_CID_2244.sdf\"))\n",
    "pybel_mol.write(\"xyz\", './data/Structure2D_COMPOUND_CID_2244.xyz', overwrite=True)\n",
    "pybel_mol"
   ]
  },
  {
   "cell_type": "code",
   "execution_count": 87,
   "id": "4b73b263-814f-4779-9789-4236ee86d468",
   "metadata": {},
   "outputs": [
    {
     "name": "stdout",
     "output_type": "stream",
     "text": [
      "21\n",
      "2244\n",
      "O          3.73210       -0.06000        0.00000\n",
      "O          6.33010        1.44000        0.00000\n",
      "O          4.59810        1.44000        0.00000\n",
      "O          2.86600       -1.56000        0.00000\n",
      "C          4.59810       -0.56000        0.00000\n",
      "C          5.46410       -0.06000        0.00000\n",
      "C          4.59810       -1.56000        0.00000\n",
      "C          6.33010       -0.56000        0.00000\n",
      "C          5.46410       -2.06000        0.00000\n",
      "C          6.33010       -1.56000        0.00000\n",
      "C          5.46410        0.94000        0.00000\n",
      "C          2.86600       -0.56000        0.00000\n",
      "C          2.00000       -0.06000        0.00000\n",
      "H          4.06110       -1.87000        0.00000\n",
      "H          6.86710       -0.25000        0.00000\n",
      "H          5.46410       -2.68000        0.00000\n",
      "H          6.86710       -1.87000        0.00000\n",
      "H          2.31000        0.47690        0.00000\n",
      "H          1.46310        0.25000        0.00000\n",
      "H          1.69000       -0.59690        0.00000\n",
      "H          6.33010        2.06000        0.00000\n"
     ]
    }
   ],
   "source": [
    "# Посмотрим как устроен XYZ файл\n",
    "!cat ./data/Structure2D_COMPOUND_CID_2244.xyz"
   ]
  },
  {
   "cell_type": "code",
   "execution_count": 88,
   "id": "0d272c79-0a8d-4b67-974d-fe50b2f8cb45",
   "metadata": {},
   "outputs": [
    {
     "data": {
      "text/plain": [
       "<Popen: returncode: None args: ['/home/kostanew/anaconda3/envs/p4env/bin/pyt...>"
      ]
     },
     "execution_count": 88,
     "metadata": {},
     "output_type": "execute_result"
    }
   ],
   "source": [
    "from ase.io import read\n",
    "from ase.visualize import view\n",
    "\n",
    "atoms = read('./data/Structure2D_COMPOUND_CID_2244.xyz')\n",
    "view(atoms)"
   ]
  },
  {
   "cell_type": "markdown",
   "id": "a24cc810-edb5-4c0d-aac0-5826cdc2ce98",
   "metadata": {},
   "source": [
    "## Конвертация в другие типы файлов"
   ]
  },
  {
   "cell_type": "code",
   "execution_count": 91,
   "id": "e874f840-e287-4eb3-9e2b-8c39bfbbcda1",
   "metadata": {},
   "outputs": [],
   "source": [
    "# Сохранение в sdf\n",
    "suppl = Chem.SDMolSupplier(\"./data/Structure2D_COMPOUND_CID_2244.sdf\", removeHs=False)\n",
    "mol = suppl[0]\n",
    "\n",
    "# Сохранение в mol\n",
    "Chem.MolToMolFile(mol, \"./data/Structure2D_COMPOUND_CID_2244.mol\")"
   ]
  },
  {
   "cell_type": "code",
   "execution_count": 92,
   "id": "9557d523-6733-4f62-bb24-56d72c9d2905",
   "metadata": {},
   "outputs": [],
   "source": [
    "mol = next(pybel.readfile(\"sdf\", \"./data/Structure2D_COMPOUND_CID_2244.sdf\"))\n",
    "mol.write(\"mol\", \"./data/Structure2D_COMPOUND_CID_2244.mol\", overwrite=True)\n",
    "mol.write(\"mol2\", \"./data/Structure2D_COMPOUND_CID_2244.mol2\", overwrite=True)"
   ]
  },
  {
   "cell_type": "code",
   "execution_count": 93,
   "id": "c034e389-e58e-4a93-aa5a-2967762d401b",
   "metadata": {},
   "outputs": [
    {
     "name": "stdout",
     "output_type": "stream",
     "text": [
      "2244\n",
      " OpenBabel09092501342D\n",
      "\n",
      " 21 21  0  0  0  0  0  0  0  0999 V2000\n",
      "    3.7321   -0.0600    0.0000 O   0  0  0  0  0  0  0  0  0  0  0  0\n",
      "    6.3301    1.4400    0.0000 O   0  0  0  0  0  0  0  0  0  0  0  0\n",
      "    4.5981    1.4400    0.0000 O   0  0  0  0  0  0  0  0  0  0  0  0\n",
      "    2.8660   -1.5600    0.0000 O   0  0  0  0  0  0  0  0  0  0  0  0\n",
      "    4.5981   -0.5600    0.0000 C   0  0  0  0  0  0  0  0  0  0  0  0\n",
      "    5.4641   -0.0600    0.0000 C   0  0  0  0  0  0  0  0  0  0  0  0\n",
      "    4.5981   -1.5600    0.0000 C   0  0  0  0  0  0  0  0  0  0  0  0\n",
      "    6.3301   -0.5600    0.0000 C   0  0  0  0  0  0  0  0  0  0  0  0\n",
      "    5.4641   -2.0600    0.0000 C   0  0  0  0  0  0  0  0  0  0  0  0\n",
      "    6.3301   -1.5600    0.0000 C   0  0  0  0  0  0  0  0  0  0  0  0\n",
      "    5.4641    0.9400    0.0000 C   0  0  0  0  0  0  0  0  0  0  0  0\n",
      "    2.8660   -0.5600    0.0000 C   0  0  0  0  0  0  0  0  0  0  0  0\n",
      "    2.0000   -0.0600    0.0000 C   0  0  0  0  0  0  0  0  0  0  0  0\n",
      "    4.0611   -1.8700    0.0000 H   0  0  0  0  0  0  0  0  0  0  0  0\n",
      "    6.8671   -0.2500    0.0000 H   0  0  0  0  0  0  0  0  0  0  0  0\n",
      "    5.4641   -2.6800    0.0000 H   0  0  0  0  0  0  0  0  0  0  0  0\n",
      "    6.8671   -1.8700    0.0000 H   0  0  0  0  0  0  0  0  0  0  0  0\n",
      "    2.3100    0.4769    0.0000 H   0  0  0  0  0  0  0  0  0  0  0  0\n",
      "    1.4631    0.2500    0.0000 H   0  0  0  0  0  0  0  0  0  0  0  0\n",
      "    1.6900   -0.5969    0.0000 H   0  0  0  0  0  0  0  0  0  0  0  0\n",
      "    6.3301    2.0600    0.0000 H   0  0  0  0  0  0  0  0  0  0  0  0\n",
      "  1  5  1  0  0  0  0\n",
      "  1 12  1  0  0  0  0\n",
      "  2 11  1  0  0  0  0\n",
      "  2 21  1  0  0  0  0\n",
      "  3 11  2  0  0  0  0\n",
      "  4 12  2  0  0  0  0\n",
      "  5  6  1  0  0  0  0\n",
      "  5  7  2  0  0  0  0\n",
      "  6  8  2  0  0  0  0\n",
      "  6 11  1  0  0  0  0\n",
      "  7  9  1  0  0  0  0\n",
      "  7 14  1  0  0  0  0\n",
      "  8 10  1  0  0  0  0\n",
      "  8 15  1  0  0  0  0\n",
      "  9 10  2  0  0  0  0\n",
      "  9 16  1  0  0  0  0\n",
      " 10 17  1  0  0  0  0\n",
      " 12 13  1  0  0  0  0\n",
      " 13 18  1  0  0  0  0\n",
      " 13 19  1  0  0  0  0\n",
      " 13 20  1  0  0  0  0\n",
      "M  END\n"
     ]
    }
   ],
   "source": [
    "# Посмотрим как устроен .mol файл\n",
    "!cat ./data/Structure2D_COMPOUND_CID_2244.mol"
   ]
  },
  {
   "cell_type": "code",
   "execution_count": 94,
   "id": "bbb8a4e6-b5ac-4921-9855-9c750e3ea889",
   "metadata": {},
   "outputs": [
    {
     "name": "stdout",
     "output_type": "stream",
     "text": [
      "@<TRIPOS>MOLECULE\n",
      "2244\n",
      " 21 21 0 0 0\n",
      "SMALL\n",
      "GASTEIGER\n",
      "\n",
      "@<TRIPOS>ATOM\n",
      "      1 O           3.7321   -0.0600    0.0000 O.3     1  UNL1       -0.4252\n",
      "      2 O           6.3301    1.4400    0.0000 O.3     1  UNL1       -0.4770\n",
      "      3 O           4.5981    1.4400    0.0000 O.2     1  UNL1       -0.2450\n",
      "      4 O           2.8660   -1.5600    0.0000 O.2     1  UNL1       -0.2507\n",
      "      5 C           4.5981   -0.5600    0.0000 C.ar    1  UNL1        0.1456\n",
      "      6 C           5.4641   -0.0600    0.0000 C.ar    1  UNL1        0.1010\n",
      "      7 C           4.5981   -1.5600    0.0000 C.ar    1  UNL1       -0.0184\n",
      "      8 C           6.3301   -0.5600    0.0000 C.ar    1  UNL1       -0.0442\n",
      "      9 C           5.4641   -2.0600    0.0000 C.ar    1  UNL1       -0.0582\n",
      "     10 C           6.3301   -1.5600    0.0000 C.ar    1  UNL1       -0.0608\n",
      "     11 C           5.4641    0.9400    0.0000 C.2     1  UNL1        0.3404\n",
      "     12 C           2.8660   -0.5600    0.0000 C.2     1  UNL1        0.3092\n",
      "     13 C           2.0000   -0.0600    0.0000 C.3     1  UNL1        0.0336\n",
      "     14 H           4.0611   -1.8700    0.0000 H       1  UNL1        0.0654\n",
      "     15 H           6.8671   -0.2500    0.0000 H       1  UNL1        0.0627\n",
      "     16 H           5.4641   -2.6800    0.0000 H       1  UNL1        0.0619\n",
      "     17 H           6.8671   -1.8700    0.0000 H       1  UNL1        0.0618\n",
      "     18 H           2.3100    0.4769    0.0000 H       1  UNL1        0.0342\n",
      "     19 H           1.4631    0.2500    0.0000 H       1  UNL1        0.0342\n",
      "     20 H           1.6900   -0.5969    0.0000 H       1  UNL1        0.0342\n",
      "     21 H           6.3301    2.0600    0.0000 H       1  UNL1        0.2954\n",
      "@<TRIPOS>BOND\n",
      "     1     1     5    1\n",
      "     2     1    12    1\n",
      "     3     2    11    1\n",
      "     4     2    21    1\n",
      "     5     3    11    2\n",
      "     6     4    12    2\n",
      "     7     5     6   ar\n",
      "     8     5     7   ar\n",
      "     9     6     8   ar\n",
      "    10     6    11    1\n",
      "    11     7     9   ar\n",
      "    12     7    14    1\n",
      "    13     8    10   ar\n",
      "    14     8    15    1\n",
      "    15     9    10   ar\n",
      "    16     9    16    1\n",
      "    17    10    17    1\n",
      "    18    12    13    1\n",
      "    19    13    18    1\n",
      "    20    13    19    1\n",
      "    21    13    20    1\n"
     ]
    }
   ],
   "source": [
    "# Посмотрим как устроен .mol2 файл\n",
    "!cat ./data/Structure2D_COMPOUND_CID_2244.mol2"
   ]
  },
  {
   "cell_type": "code",
   "execution_count": null,
   "id": "821cb695-55df-48ae-a527-7bb1b564063c",
   "metadata": {},
   "outputs": [],
   "source": []
  }
 ],
 "metadata": {
  "kernelspec": {
   "display_name": "Python 3.10 (p4env)",
   "language": "python",
   "name": "p4env"
  },
  "language_info": {
   "codemirror_mode": {
    "name": "ipython",
    "version": 3
   },
   "file_extension": ".py",
   "mimetype": "text/x-python",
   "name": "python",
   "nbconvert_exporter": "python",
   "pygments_lexer": "ipython3",
   "version": "3.10.13"
  }
 },
 "nbformat": 4,
 "nbformat_minor": 5
}
