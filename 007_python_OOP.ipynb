{
 "cells": [
  {
   "cell_type": "markdown",
   "id": "4ee69e96-9666-4db1-8d1b-6b05340d40ad",
   "metadata": {},
   "source": [
    "# Определение функций в Python"
   ]
  },
  {
   "cell_type": "code",
   "execution_count": 8,
   "id": "062cc657-7229-4970-9e18-20643d5ebfc5",
   "metadata": {},
   "outputs": [],
   "source": [
    "def my_fun(num):\n",
    "    num_square = num**2\n",
    "    return num_square"
   ]
  },
  {
   "cell_type": "code",
   "execution_count": 9,
   "id": "5754e509-d8c3-4600-9ead-7a0b3a669acd",
   "metadata": {},
   "outputs": [
    {
     "data": {
      "text/plain": [
       "100"
      ]
     },
     "execution_count": 9,
     "metadata": {},
     "output_type": "execute_result"
    }
   ],
   "source": [
    "my_fun(10)"
   ]
  },
  {
   "cell_type": "code",
   "execution_count": 10,
   "id": "bb8477cd-b4b1-4b1e-b5a0-14dec1302060",
   "metadata": {},
   "outputs": [
    {
     "data": {
      "text/plain": [
       "100.0"
      ]
     },
     "execution_count": 10,
     "metadata": {},
     "output_type": "execute_result"
    }
   ],
   "source": [
    "my_fun(10.)"
   ]
  },
  {
   "cell_type": "code",
   "execution_count": 11,
   "id": "fe08b7d3-a5bb-44f6-8cdc-4fa5e8694352",
   "metadata": {},
   "outputs": [
    {
     "ename": "TypeError",
     "evalue": "unsupported operand type(s) for ** or pow(): 'str' and 'int'",
     "output_type": "error",
     "traceback": [
      "\u001b[0;31m---------------------------------------------------------------------------\u001b[0m",
      "\u001b[0;31mTypeError\u001b[0m                                 Traceback (most recent call last)",
      "Cell \u001b[0;32mIn[11], line 1\u001b[0m\n\u001b[0;32m----> 1\u001b[0m \u001b[43mmy_fun\u001b[49m\u001b[43m(\u001b[49m\u001b[38;5;124;43m\"\u001b[39;49m\u001b[38;5;124;43m10\u001b[39;49m\u001b[38;5;124;43m\"\u001b[39;49m\u001b[43m)\u001b[49m\n",
      "Cell \u001b[0;32mIn[8], line 2\u001b[0m, in \u001b[0;36mmy_fun\u001b[0;34m(num)\u001b[0m\n\u001b[1;32m      1\u001b[0m \u001b[38;5;28;01mdef\u001b[39;00m \u001b[38;5;21mmy_fun\u001b[39m(num):\n\u001b[0;32m----> 2\u001b[0m     num_square \u001b[38;5;241m=\u001b[39m \u001b[43mnum\u001b[49m\u001b[38;5;241;43m*\u001b[39;49m\u001b[38;5;241;43m*\u001b[39;49m\u001b[38;5;241;43m2\u001b[39;49m\n\u001b[1;32m      3\u001b[0m     \u001b[38;5;28;01mreturn\u001b[39;00m num_square\n",
      "\u001b[0;31mTypeError\u001b[0m: unsupported operand type(s) for ** or pow(): 'str' and 'int'"
     ]
    }
   ],
   "source": [
    "my_fun(\"10\")"
   ]
  },
  {
   "cell_type": "code",
   "execution_count": 12,
   "id": "90372aaf-dfd0-4aad-9717-ba35ff8bd524",
   "metadata": {},
   "outputs": [],
   "source": [
    "def my_fun2(num, power=2):\n",
    "    num_square = num**2\n",
    "    return num_square"
   ]
  },
  {
   "cell_type": "code",
   "execution_count": 13,
   "id": "c514e6fd-898e-4ea5-b6e3-1928f809036e",
   "metadata": {},
   "outputs": [
    {
     "data": {
      "text/plain": [
       "100.0"
      ]
     },
     "execution_count": 13,
     "metadata": {},
     "output_type": "execute_result"
    }
   ],
   "source": [
    "my_fun2(10.)"
   ]
  },
  {
   "cell_type": "code",
   "execution_count": 14,
   "id": "d5ccb0a0-f153-43c9-95cb-bf6cc8fd8a67",
   "metadata": {},
   "outputs": [
    {
     "data": {
      "text/plain": [
       "100.0"
      ]
     },
     "execution_count": 14,
     "metadata": {},
     "output_type": "execute_result"
    }
   ],
   "source": [
    "my_fun2(10., power=2)"
   ]
  },
  {
   "cell_type": "code",
   "execution_count": 15,
   "id": "d9395a4c-d965-48c4-82e5-323d03abb928",
   "metadata": {},
   "outputs": [
    {
     "data": {
      "text/plain": [
       "100.0"
      ]
     },
     "execution_count": 15,
     "metadata": {},
     "output_type": "execute_result"
    }
   ],
   "source": [
    "my_fun2(10., 2)"
   ]
  },
  {
   "cell_type": "code",
   "execution_count": 16,
   "id": "428bc44d-10de-4170-9e30-c231fa5f7b11",
   "metadata": {},
   "outputs": [
    {
     "ename": "SyntaxError",
     "evalue": "positional argument follows keyword argument (914069931.py, line 1)",
     "output_type": "error",
     "traceback": [
      "\u001b[0;36m  Cell \u001b[0;32mIn[16], line 1\u001b[0;36m\u001b[0m\n\u001b[0;31m    my_fun2(power=2, 10.)\u001b[0m\n\u001b[0m                        ^\u001b[0m\n\u001b[0;31mSyntaxError\u001b[0m\u001b[0;31m:\u001b[0m positional argument follows keyword argument\n"
     ]
    }
   ],
   "source": [
    "my_fun2(power=2, 10.)"
   ]
  },
  {
   "cell_type": "markdown",
   "id": "1a81dcae-1d93-4b86-98f1-f8b870477d9b",
   "metadata": {},
   "source": [
    "# Чистые функции и функции с изменением состояния"
   ]
  },
  {
   "cell_type": "markdown",
   "id": "4b307cb7-3738-4d10-b2ae-6c4f87d9bd78",
   "metadata": {},
   "source": [
    "Чистая функция\n",
    "- Поведение детерминировано (внутри нет генератора случайных чисел)\n",
    "- Не изменяет состояний системы за пределами своей зоны видимости (не изменяет глобальные переменные)\n",
    "- Не изменяет входные параметры за пределами своей видимости\n",
    "- Нет выводы результатов на печать, в файлы или порты"
   ]
  },
  {
   "cell_type": "code",
   "execution_count": 17,
   "id": "f5f49f26-4207-413c-a5e0-957c37b8e28c",
   "metadata": {},
   "outputs": [],
   "source": [
    "def my_fun(num):\n",
    "    num_square = num**2\n",
    "    return num_square"
   ]
  },
  {
   "cell_type": "code",
   "execution_count": 18,
   "id": "d1c3f091-8f48-4183-be64-a59fc3fbe6a0",
   "metadata": {},
   "outputs": [
    {
     "data": {
      "text/plain": [
       "100.0"
      ]
     },
     "execution_count": 18,
     "metadata": {},
     "output_type": "execute_result"
    }
   ],
   "source": [
    "my_fun(10.)"
   ]
  },
  {
   "cell_type": "markdown",
   "id": "107508d1-7dda-4062-bc5f-68b3e42ea743",
   "metadata": {},
   "source": [
    "Python разрешает лёгкий доступ к глобальным переменным\n",
    "\n",
    "Для получения значений требуется ключевое слово `global` и определение функции в локальном контексте\n",
    "\n",
    "**НО, МОЖНО ИЗМЕНЯТЬ СОСТОЯНИЕ КОСВЕННО!**"
   ]
  },
  {
   "cell_type": "code",
   "execution_count": 19,
   "id": "931bb4f7-8f81-47f5-b219-440d62758ae4",
   "metadata": {},
   "outputs": [],
   "source": [
    "this_is_global_variable = 10."
   ]
  },
  {
   "cell_type": "code",
   "execution_count": 20,
   "id": "b1b7dcc4-7332-48a7-b82e-0ddfe75c7a2f",
   "metadata": {},
   "outputs": [
    {
     "name": "stdout",
     "output_type": "stream",
     "text": [
      "10.0\n"
     ]
    }
   ],
   "source": [
    "def fun():\n",
    "    print(this_is_global_variable)\n",
    "\n",
    "fun()"
   ]
  },
  {
   "cell_type": "code",
   "execution_count": null,
   "id": "8ef44d15-cce8-4113-8662-985d16ef63b7",
   "metadata": {},
   "outputs": [],
   "source": []
  },
  {
   "cell_type": "code",
   "execution_count": null,
   "id": "550a8f4b-4711-4c83-ae3e-1b17f8c65f23",
   "metadata": {},
   "outputs": [],
   "source": []
  },
  {
   "cell_type": "code",
   "execution_count": null,
   "id": "505b7037-ab6c-4943-8fe6-3dd11021a1f9",
   "metadata": {},
   "outputs": [],
   "source": []
  },
  {
   "cell_type": "code",
   "execution_count": 21,
   "id": "7797e1dc-b5a5-4aa1-bf84-1a5cc1944bf7",
   "metadata": {},
   "outputs": [],
   "source": [
    "def my_fun2(num):\n",
    "    global this_is_global_variable\n",
    "    num_square = num**2\n",
    "    this_is_global_variable = num_square\n",
    "    return num_square"
   ]
  },
  {
   "cell_type": "code",
   "execution_count": 22,
   "id": "a53aca3a-a4bd-4a2d-872f-b944c4890b40",
   "metadata": {},
   "outputs": [
    {
     "name": "stdout",
     "output_type": "stream",
     "text": [
      "10.0\n",
      "1.0\n",
      "144.0\n"
     ]
    }
   ],
   "source": [
    "print(this_is_global_variable)\n",
    "my_fun2(1.)\n",
    "print(this_is_global_variable)\n",
    "my_fun2(12.)\n",
    "print(this_is_global_variable)"
   ]
  },
  {
   "cell_type": "code",
   "execution_count": 23,
   "id": "50de15b1-8cbd-45c7-9180-6d4d95a1db60",
   "metadata": {},
   "outputs": [],
   "source": [
    "this_is_global_variable = []"
   ]
  },
  {
   "cell_type": "code",
   "execution_count": 24,
   "id": "b3da10f7-e0d0-4436-af4c-39ed54ab24d7",
   "metadata": {},
   "outputs": [],
   "source": [
    "def my_fun2(num):\n",
    "    num_square = num**2\n",
    "    this_is_global_variable.append(num_square)\n",
    "    return num_square"
   ]
  },
  {
   "cell_type": "code",
   "execution_count": 25,
   "id": "0d6ea001-cd0b-4593-bad0-a6cbbcb2b47a",
   "metadata": {},
   "outputs": [
    {
     "name": "stdout",
     "output_type": "stream",
     "text": [
      "[]\n",
      "[1.0]\n",
      "[1.0, 144.0]\n"
     ]
    }
   ],
   "source": [
    "print(this_is_global_variable)\n",
    "my_fun2(1.)\n",
    "print(this_is_global_variable)\n",
    "my_fun2(12.)\n",
    "print(this_is_global_variable)"
   ]
  },
  {
   "cell_type": "markdown",
   "id": "3c6adfea-b809-4544-9a3b-41110356110a",
   "metadata": {},
   "source": [
    "Вывод -- нужен инструмент для изоляции состояний"
   ]
  },
  {
   "cell_type": "markdown",
   "id": "b4f20581-2066-4d64-aaec-96b8dd8da959",
   "metadata": {},
   "source": [
    "# Классы и объекты"
   ]
  },
  {
   "cell_type": "code",
   "execution_count": 26,
   "id": "3f906eb7-54b6-4089-8e8a-78951d15d30d",
   "metadata": {},
   "outputs": [],
   "source": [
    "class MyPowerAlgorithm:\n",
    "\n",
    "    def __init__(self, power_of_mul=2):\n",
    "        self.power_of_mul=power_of_mul\n",
    "\n",
    "    def process(self, number):\n",
    "        num_square = number**self.power_of_mul\n",
    "        return num_square\n",
    "    "
   ]
  },
  {
   "cell_type": "code",
   "execution_count": 27,
   "id": "d0eba043-d5d6-4efb-aaf9-74775e7a48e5",
   "metadata": {},
   "outputs": [],
   "source": [
    "alg0 = MyPowerAlgorithm(2)\n",
    "alg1 = MyPowerAlgorithm(4)"
   ]
  },
  {
   "cell_type": "code",
   "execution_count": 28,
   "id": "85c0e0df-f8d2-4ac1-9155-d3edbf0dac40",
   "metadata": {},
   "outputs": [
    {
     "data": {
      "text/plain": [
       "100"
      ]
     },
     "execution_count": 28,
     "metadata": {},
     "output_type": "execute_result"
    }
   ],
   "source": [
    "alg0.process(10)"
   ]
  },
  {
   "cell_type": "code",
   "execution_count": 29,
   "id": "e0fe3a4c-47f3-4de9-9816-5fcd6a327ca7",
   "metadata": {},
   "outputs": [
    {
     "data": {
      "text/plain": [
       "10000"
      ]
     },
     "execution_count": 29,
     "metadata": {},
     "output_type": "execute_result"
    }
   ],
   "source": [
    "alg1.process(10)"
   ]
  },
  {
   "cell_type": "code",
   "execution_count": 30,
   "id": "69f796ed-0f1d-42ef-b024-40ddc794c655",
   "metadata": {},
   "outputs": [],
   "source": [
    "ELEM_DICT = {\n",
    "    1: \"H\", 2: \"He\", 3: \"Li\", 4: \"Be\", 5: \"B\", 6: \"C\", 7: \"N\", 8: \"O\", 9: \"F\", 10: \"Ne\",\n",
    "    11: \"Na\", 12: \"Mg\", 13: \"Al\", 14: \"Si\", 15: \"P\", 16: \"S\", 17: \"Cl\", 18: \"Ar\", 19: \"K\", 20: \"Ca\",\n",
    "}"
   ]
  },
  {
   "cell_type": "code",
   "execution_count": 31,
   "id": "71595236-a17d-4291-90e9-a3a113d2fa37",
   "metadata": {},
   "outputs": [],
   "source": [
    "class MyMolecule:\n",
    "\n",
    "    def __init__(self, atom_numbers, atom_positions, comment=\"\"):\n",
    "        self.atom_numbers = atom_numbers\n",
    "        self.atom_positions = atom_positions\n",
    "        self.comment = \"\"\n",
    "\n",
    "    def num_of_electrons(self):\n",
    "        return sum(self.atom_numbers )\n",
    "\n",
    "    def get_xyz_content(self):\n",
    "        ret_str = f\"{len(self.atom_positions)}\\n{self.comment}\\n\"\n",
    "        for num, xyz in zip(self.atom_numbers, self.atom_positions):\n",
    "            ret_str += f\"{ELEM_DICT[num]} {xyz[0]} {xyz[1]} {xyz[2]}\\n\"\n",
    "\n",
    "        return ret_str"
   ]
  },
  {
   "cell_type": "code",
   "execution_count": 32,
   "id": "bd7ec21c-7a8c-4fba-bb3e-8a801b31e1f8",
   "metadata": {},
   "outputs": [],
   "source": [
    "mol = MyMolecule([6,1,1], \n",
    "                   [[0.000, 0.000, 0.000],\n",
    "                    [0.757, 0.586, 0.000],\n",
    "                    [-0.757, 0.586, 0.000]])"
   ]
  },
  {
   "cell_type": "code",
   "execution_count": 33,
   "id": "22a4f55f-9bd3-4574-b3e8-ddd9722a190c",
   "metadata": {},
   "outputs": [
    {
     "data": {
      "text/plain": [
       "8"
      ]
     },
     "execution_count": 33,
     "metadata": {},
     "output_type": "execute_result"
    }
   ],
   "source": [
    "mol.num_of_electrons()"
   ]
  },
  {
   "cell_type": "code",
   "execution_count": 34,
   "id": "cca859ff-a733-43c8-b2ae-6c4c2b6378b8",
   "metadata": {},
   "outputs": [
    {
     "data": {
      "text/plain": [
       "'3\\n\\nC 0.0 0.0 0.0\\nH 0.757 0.586 0.0\\nH -0.757 0.586 0.0\\n'"
      ]
     },
     "execution_count": 34,
     "metadata": {},
     "output_type": "execute_result"
    }
   ],
   "source": [
    "mol.get_xyz_content()"
   ]
  },
  {
   "cell_type": "code",
   "execution_count": 35,
   "id": "cadc11aa-a9bc-452e-9f42-e464c52b1272",
   "metadata": {},
   "outputs": [
    {
     "name": "stdout",
     "output_type": "stream",
     "text": [
      "3\n",
      "\n",
      "C 0.0 0.0 0.0\n",
      "H 0.757 0.586 0.0\n",
      "H -0.757 0.586 0.0\n",
      "\n"
     ]
    }
   ],
   "source": [
    "print(mol.get_xyz_content())"
   ]
  },
  {
   "cell_type": "code",
   "execution_count": 63,
   "id": "5c6fc28c-7663-41ec-acd1-758141398953",
   "metadata": {},
   "outputs": [
    {
     "name": "stdout",
     "output_type": "stream",
     "text": [
      "<__main__.MyPowerAlgorithm object at 0x741256d6b2b0>\n",
      "<bound method MyPowerAlgorithm.process of <__main__.MyPowerAlgorithm object at 0x741256d6b2b0>>\n",
      "2\n"
     ]
    }
   ],
   "source": [
    "class MyPowerAlgorithm: # Класс\n",
    "\n",
    "    def __init__(self, power_of_mul=2): # Конструктор\n",
    "        self.power_of_mul=power_of_mul # Присвоение значения аттрибуту класса\n",
    "\n",
    "    def process(self, number): # Определение метода\n",
    "        num_square = number**self.power_of_mul\n",
    "        return num_square\n",
    "\n",
    "alg0 = MyPowerAlgorithm(2) # Вызов конструктора\n",
    "print(alg0) # Инстанс объекта / Объект\n",
    "print(alg0.process) # Метод\n",
    "print(alg0.power_of_mul) # Аттрибут инстанса объекта"
   ]
  },
  {
   "cell_type": "markdown",
   "id": "59cb3d25-3963-4a80-a851-4268749307de",
   "metadata": {},
   "source": [
    "# Некоторые другие важные вещи"
   ]
  },
  {
   "cell_type": "markdown",
   "id": "9472140a-b05b-43be-87b7-6c097669d849",
   "metadata": {},
   "source": [
    "## Импорты"
   ]
  },
  {
   "cell_type": "code",
   "execution_count": 50,
   "id": "76fd39fe-9246-45c7-8ef2-f3d6fe259cae",
   "metadata": {},
   "outputs": [
    {
     "data": {
      "image/png": "[encoded data removed]",
      "text/plain": [
       "<rdkit.Chem.rdchem.Mol at 0x7412597e3bc0>"
      ]
     },
     "execution_count": 50,
     "metadata": {},
     "output_type": "execute_result"
    }
   ],
   "source": [
    "from rdkit import Chem\n",
    "Chem.MolFromSmiles(\"CC(=O)OC1=CC=CC=C1C(=O)O\")"
   ]
  },
  {
   "cell_type": "code",
   "execution_count": 51,
   "id": "21e7f74f-4b6a-47d6-ba68-dbe72b02bf10",
   "metadata": {},
   "outputs": [],
   "source": [
    "from example_import import my_fun2"
   ]
  },
  {
   "cell_type": "code",
   "execution_count": 52,
   "id": "487ff54c-1242-417c-94f0-e93c4377955e",
   "metadata": {},
   "outputs": [
    {
     "data": {
      "text/plain": [
       "100"
      ]
     },
     "execution_count": 52,
     "metadata": {},
     "output_type": "execute_result"
    }
   ],
   "source": [
    "my_fun2(10)"
   ]
  },
  {
   "cell_type": "code",
   "execution_count": 53,
   "id": "4ff81e5a-d0e9-48cb-8483-d4ce5ff36e3e",
   "metadata": {},
   "outputs": [
    {
     "data": {
      "text/plain": [
       "100"
      ]
     },
     "execution_count": 53,
     "metadata": {},
     "output_type": "execute_result"
    }
   ],
   "source": [
    "MyPowerAlgorithm(2).process(10)"
   ]
  },
  {
   "cell_type": "code",
   "execution_count": 54,
   "id": "23f1903d-1ceb-4f30-b70c-b34d9703c16e",
   "metadata": {},
   "outputs": [],
   "source": [
    "from example_import import *"
   ]
  },
  {
   "cell_type": "code",
   "execution_count": 55,
   "id": "39cd14da-5671-4337-baa0-988e945acfc4",
   "metadata": {},
   "outputs": [
    {
     "data": {
      "text/plain": [
       "100"
      ]
     },
     "execution_count": 55,
     "metadata": {},
     "output_type": "execute_result"
    }
   ],
   "source": [
    "my_fun2(10)"
   ]
  },
  {
   "cell_type": "code",
   "execution_count": 56,
   "id": "51754d2b-7412-4002-ae75-7690ef6b1466",
   "metadata": {},
   "outputs": [
    {
     "data": {
      "text/plain": [
       "100"
      ]
     },
     "execution_count": 56,
     "metadata": {},
     "output_type": "execute_result"
    }
   ],
   "source": [
    "MyPowerAlgorithm(2).process(10)"
   ]
  },
  {
   "cell_type": "code",
   "execution_count": 57,
   "id": "71441039-4910-4af3-804d-f086744fa7bb",
   "metadata": {},
   "outputs": [],
   "source": [
    "import example_import"
   ]
  },
  {
   "cell_type": "code",
   "execution_count": 58,
   "id": "00899473-d627-4f01-b397-9413978f2fde",
   "metadata": {},
   "outputs": [
    {
     "data": {
      "text/plain": [
       "100"
      ]
     },
     "execution_count": 58,
     "metadata": {},
     "output_type": "execute_result"
    }
   ],
   "source": [
    "example_import.my_fun2(10)"
   ]
  },
  {
   "cell_type": "code",
   "execution_count": 59,
   "id": "09c314bb-08c3-46ee-abc7-e4ea8fc082a7",
   "metadata": {},
   "outputs": [
    {
     "data": {
      "text/plain": [
       "100"
      ]
     },
     "execution_count": 59,
     "metadata": {},
     "output_type": "execute_result"
    }
   ],
   "source": [
    "example_import.MyPowerAlgorithm(2).process(10)"
   ]
  },
  {
   "cell_type": "code",
   "execution_count": null,
   "id": "026db838-179a-4ebf-a4d3-9683b2d63b6d",
   "metadata": {},
   "outputs": [],
   "source": []
  },
  {
   "cell_type": "code",
   "execution_count": null,
   "id": "a6e2d6fd-d160-410f-9adc-88a8ad04b437",
   "metadata": {},
   "outputs": [],
   "source": []
  },
  {
   "cell_type": "code",
   "execution_count": null,
   "id": "6da21644-3ec7-4f3c-a00e-bc812a1c6bc9",
   "metadata": {},
   "outputs": [],
   "source": []
  }
 ],
 "metadata": {
  "kernelspec": {
   "display_name": "Python 3.10 (p4env)",
   "language": "python",
   "name": "p4env"
  },
  "language_info": {
   "codemirror_mode": {
    "name": "ipython",
    "version": 3
   },
   "file_extension": ".py",
   "mimetype": "text/x-python",
   "name": "python",
   "nbconvert_exporter": "python",
   "pygments_lexer": "ipython3",
   "version": "3.10.13"
  }
 },
 "nbformat": 4,
 "nbformat_minor": 5
}
