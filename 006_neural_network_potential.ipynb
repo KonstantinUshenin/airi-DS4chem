{
 "cells": [
  {
   "cell_type": "markdown",
   "id": "145c3863-e27f-4d9e-b03e-301d3d454511",
   "metadata": {},
   "source": [
    "# Предсказание энергии и сил с помощью нейронного потенциала"
   ]
  },
  {
   "cell_type": "code",
   "execution_count": 1,
   "id": "89d515be-2eef-41e9-be58-d39c01dbdccc",
   "metadata": {},
   "outputs": [],
   "source": [
    "from ase.io import read, write\n",
    "from ase.visualize import view"
   ]
  },
  {
   "cell_type": "markdown",
   "id": "3c9f100b-b873-402d-818f-58b939f8b3cc",
   "metadata": {},
   "source": [
    "## MACE"
   ]
  },
  {
   "cell_type": "code",
   "execution_count": 12,
   "id": "9dadc21c-3ee0-4650-84bc-d2f1efa8838b",
   "metadata": {},
   "outputs": [],
   "source": [
    "import mace_models"
   ]
  },
  {
   "cell_type": "code",
   "execution_count": 16,
   "id": "b48e8d85-1d2c-4e15-b0c9-7743425907ca",
   "metadata": {},
   "outputs": [
    {
     "name": "stdout",
     "output_type": "stream",
     "text": [
      "\n",
      "        You're using the MACE-MP-0_small model. The model is released under the MIT license.\n",
      "        Note:\n",
      "        If you are using this model, please cite the relevant paper for the Materials Project,\n",
      "        any paper associated with the MACE model, and also the following:\n",
      "        - MACE-Universal by Yuan Chiang, 2023, Hugging Face, Revision e5ebd9b,\n",
      "            DOI: 10.57967/hf/1202, URL: https://huggingface.co/cyrusyc/mace-universal\n",
      "        - Matbench Discovery by Janosh Riebesell, Rhys EA Goodall, Philipp Benner, Yuan Chiang,\n",
      "            Alpha A Lee, Anubhav Jain, Kristin A Persson, 2023, arXiv:2308.14920\n",
      "        - https://arxiv.org/abs/2401.00096\n",
      "           \n",
      "Default dtype float32 does not match model dtype float64, converting models to float32.\n"
     ]
    }
   ],
   "source": [
    "model = mace_models.load(\"MACE-MP-0_small\")\n",
    "calc = model.get_calculator()"
   ]
  },
  {
   "cell_type": "code",
   "execution_count": 17,
   "id": "6c411574-ab74-4a5a-b175-32aca1acb6e3",
   "metadata": {},
   "outputs": [
    {
     "name": "stdout",
     "output_type": "stream",
     "text": [
      "Energy [eV]: -150.65699768066406\n",
      "Forces [eV/Å]: [[-0.12354073 -0.14099595 -0.296571  ]\n",
      " [ 0.13383727  0.31513548 -0.06785819]\n",
      " [ 0.24869493 -0.20740423  0.12984572]\n",
      " [-0.2595753   0.03201146  0.23448575]\n",
      " [ 0.00460589  0.07350921 -0.1508133 ]\n",
      " [ 0.04659631 -0.144941   -0.06730784]\n",
      " [-0.15940371 -0.04533143 -0.02577613]\n",
      " [ 0.15655166  0.04350179  0.02453544]\n",
      " [-0.05006527  0.14558153  0.06975335]\n",
      " [-0.00345007 -0.07374209  0.1469714 ]\n",
      " [-0.04331528 -0.04862058 -0.102209  ]\n",
      " [ 0.04789099  0.11189583 -0.02425441]\n",
      " [ 0.08854449 -0.07382677  0.04648544]\n",
      " [-0.09074399  0.01122495  0.08151346]\n",
      " [ 0.08243969 -0.00980102 -0.07544948]\n",
      " [-0.07981873  0.0666938  -0.04269473]\n",
      " [-0.0416047  -0.1003322   0.02060886]\n",
      " [ 0.08406468 -0.01139742 -0.0758651 ]\n",
      " [-0.08088805  0.06568318 -0.0418711 ]\n",
      " [-0.04419085 -0.10051446  0.02123776]\n",
      " [ 0.08512318 -0.00972746 -0.07481712]\n",
      " [ 0.04235387  0.04639164  0.09635566]\n",
      " [ 0.03887702  0.04459685  0.09303236]\n",
      " [-0.08022614  0.06753297 -0.04122199]\n",
      " [-0.04367642 -0.10258153  0.02343217]\n",
      " [ 0.04091894  0.04545757  0.09845167]]\n"
     ]
    }
   ],
   "source": [
    "# --- 1. Read xyz with ASE ---\n",
    "mol = read(\"./data/Adamantane.sdf\")   # ASE Atoms object\n",
    "mol.calc = calc\n",
    "# --- 3. Compute properties ---\n",
    "energy = mol.get_potential_energy()      # in eV\n",
    "forces = mol.get_forces()                # shape (n_atoms, 3)\n",
    "\n",
    "print(\"Energy [eV]:\", energy)\n",
    "print(\"Forces [eV/Å]:\", forces)\n"
   ]
  },
  {
   "cell_type": "markdown",
   "id": "d5a7c6bc-456c-431a-a113-ff240d56f959",
   "metadata": {},
   "source": [
    "## Nabla2DFT"
   ]
  },
  {
   "cell_type": "code",
   "execution_count": 1,
   "id": "304a01eb-288a-445c-ab44-811051d173b8",
   "metadata": {},
   "outputs": [],
   "source": [
    "import os\n",
    "\n",
    "import hydra\n",
    "import pytorch_lightning as pl\n",
    "import torch\n",
    "from ase.db import connect\n",
    "from nablaDFT import model_registry\n",
    "from nablaDFT.dataset import PyGNablaDFTDataModule\n",
    "from nablaDFT.pipelines import predict\n",
    "from omegaconf import OmegaConf"
   ]
  },
  {
   "cell_type": "code",
   "execution_count": 2,
   "id": "b067d021-2438-4691-8033-eff573ff3e1f",
   "metadata": {},
   "outputs": [],
   "source": [
    "data_args = {\n",
    "    \"root\": \"./datasets/nablaDFT/test\",\n",
    "    \"dataset_name\": \"dataset_test_conformations_tiny\",\n",
    "    \"batch_size\": 4,\n",
    "    \"num_workers\": 2,\n",
    "}\n"
   ]
  },
  {
   "cell_type": "code",
   "execution_count": 3,
   "id": "7c299050-7c61-4141-93ef-8f8dd510d8f3",
   "metadata": {
    "collapsed": true,
    "jupyter": {
     "outputs_hidden": true
    },
    "scrolled": true
   },
   "outputs": [
    {
     "data": {
      "text/plain": [
       "['SchNet_train_large',\n",
       " 'SchNet_train_medium',\n",
       " 'SchNet_train_small',\n",
       " 'SchNet_train_tiny',\n",
       " 'PaiNN_train_large_traj_medium',\n",
       " 'PaiNN_train_large',\n",
       " 'PaiNN_train_medium',\n",
       " 'PaiNN_train_small',\n",
       " 'PaiNN_train_tiny',\n",
       " 'DimeNet++_train_large',\n",
       " 'DimeNet++_train_medium',\n",
       " 'DimeNet++_train_small',\n",
       " 'DimeNet++_train_tiny',\n",
       " 'PhiSNet_train_large',\n",
       " 'PhiSNet_train_medium',\n",
       " 'PhiSNet_train_small',\n",
       " 'PhiSNet_train_tiny',\n",
       " 'SchNOrb_train_large',\n",
       " 'SchNOrb_train_medium',\n",
       " 'SchNOrb_train_small',\n",
       " 'SchNOrb_train_tiny',\n",
       " 'GemNet-OC_train_large',\n",
       " 'GemNet-OC_train_medium',\n",
       " 'GemNet-OC_train_small',\n",
       " 'GemNet-OC_train_tiny',\n",
       " 'GemNet-OC_train_large_traj_medium',\n",
       " 'ESCN-OC_train_large',\n",
       " 'ESCN-OC_train_medium',\n",
       " 'ESCN-OC_train_small',\n",
       " 'ESCN-OC_train_tiny',\n",
       " 'Equiformer-v2_train_large',\n",
       " 'Equiformer-v2_train_medium',\n",
       " 'Equiformer-v2_train_small',\n",
       " 'Equiformer-v2_train_tiny',\n",
       " 'Graphormer3D-small_train_large',\n",
       " 'Graphormer3D-small_train_medium',\n",
       " 'Graphormer3D-small_train_small',\n",
       " 'Graphormer3D-small_train_tiny',\n",
       " 'QHNet_train_large',\n",
       " 'QHNet_train_medium',\n",
       " 'QHNet_train_small',\n",
       " 'QHNet_train_tiny']"
      ]
     },
     "execution_count": 3,
     "metadata": {},
     "output_type": "execute_result"
    }
   ],
   "source": [
    "model_registry.list_models()"
   ]
  },
  {
   "cell_type": "code",
   "execution_count": 7,
   "id": "0f43f801-9dae-477c-9ccb-584c5eee249d",
   "metadata": {},
   "outputs": [
    {
     "ename": "KeyError",
     "evalue": "'DimeNet++'",
     "output_type": "error",
     "traceback": [
      "\u001b[0;31m---------------------------------------------------------------------------\u001b[0m",
      "\u001b[0;31mKeyError\u001b[0m                                  Traceback (most recent call last)",
      "Cell \u001b[0;32mIn[7], line 1\u001b[0m\n\u001b[0;32m----> 1\u001b[0m model \u001b[38;5;241m=\u001b[39m \u001b[43mmodel_registry\u001b[49m\u001b[38;5;241;43m.\u001b[39;49m\u001b[43mget_pretrained_model\u001b[49m\u001b[43m(\u001b[49m\u001b[38;5;124;43m\"\u001b[39;49m\u001b[38;5;124;43mlightning\u001b[39;49m\u001b[38;5;124;43m\"\u001b[39;49m\u001b[43m,\u001b[49m\u001b[43m \u001b[49m\u001b[38;5;124;43m\"\u001b[39;49m\u001b[38;5;124;43mDimeNet++_train_large\u001b[39;49m\u001b[38;5;124;43m\"\u001b[39;49m\u001b[43m)\u001b[49m\n\u001b[1;32m      2\u001b[0m datamodule \u001b[38;5;241m=\u001b[39m PyGNablaDFTDataModule(\u001b[38;5;241m*\u001b[39m\u001b[38;5;241m*\u001b[39mdata_args)\n\u001b[1;32m      3\u001b[0m trainer \u001b[38;5;241m=\u001b[39m pl\u001b[38;5;241m.\u001b[39mTrainer(accelerator\u001b[38;5;241m=\u001b[39maccelerator, devices\u001b[38;5;241m=\u001b[39mdevices)\n",
      "File \u001b[0;32m~/anaconda3/envs/p4env/lib/python3.10/site-packages/nablaDFT/model_registry.py:74\u001b[0m, in \u001b[0;36mModelRegistry.get_pretrained_model\u001b[0;34m(self, model_type, model_name)\u001b[0m\n\u001b[1;32m     72\u001b[0m     \u001b[38;5;28;01mraise\u001b[39;00m \u001b[38;5;167;01mNotImplementedError\u001b[39;00m(\u001b[38;5;124m\"\u001b[39m\u001b[38;5;124mSchNorb and PhiSNet pretrained models are not supported by pipeline\u001b[39m\u001b[38;5;124m\"\u001b[39m)\n\u001b[1;32m     73\u001b[0m backbone_name \u001b[38;5;241m=\u001b[39m model_name\u001b[38;5;241m.\u001b[39msplit(\u001b[38;5;124m\"\u001b[39m\u001b[38;5;124m_\u001b[39m\u001b[38;5;124m\"\u001b[39m)[\u001b[38;5;241m0\u001b[39m]\n\u001b[0;32m---> 74\u001b[0m model_cfg \u001b[38;5;241m=\u001b[39m \u001b[38;5;28;43mself\u001b[39;49m\u001b[38;5;241;43m.\u001b[39;49m\u001b[43m_pretrained_model_cfg\u001b[49m\u001b[43m[\u001b[49m\u001b[43mbackbone_name\u001b[49m\u001b[43m]\u001b[49m\n\u001b[1;32m     75\u001b[0m ckpt_path \u001b[38;5;241m=\u001b[39m \u001b[38;5;28mself\u001b[39m\u001b[38;5;241m.\u001b[39mdefault_ckpt_dir \u001b[38;5;241m/\u001b[39m model_cfg\u001b[38;5;241m.\u001b[39mmodel_name \u001b[38;5;241m/\u001b[39m \u001b[38;5;124mf\u001b[39m\u001b[38;5;124m\"\u001b[39m\u001b[38;5;132;01m{\u001b[39;00mmodel_name\u001b[38;5;132;01m}\u001b[39;00m\u001b[38;5;124m.ckpt\u001b[39m\u001b[38;5;124m\"\u001b[39m\n\u001b[1;32m     76\u001b[0m \u001b[38;5;28;01mif\u001b[39;00m \u001b[38;5;129;01mnot\u001b[39;00m ckpt_path\u001b[38;5;241m.\u001b[39mexists():\n",
      "\u001b[0;31mKeyError\u001b[0m: 'DimeNet++'"
     ]
    }
   ],
   "source": [
    "model = model_registry.get_pretrained_model(\"lightning\", \"DimeNet++_train_large\")\n",
    "datamodule = PyGNablaDFTDataModule(**data_args)\n",
    "trainer = pl.Trainer(accelerator=accelerator, devices=devices)\n",
    "trainer.logger = False\n"
   ]
  },
  {
   "cell_type": "code",
   "execution_count": 8,
   "id": "bec28aec-2a24-4dc2-a094-0c486d7334b6",
   "metadata": {},
   "outputs": [
    {
     "data": {
      "text/plain": [
       "\u001b[0;31mSignature:\u001b[0m \u001b[0mmodel_registry\u001b[0m\u001b[0;34m.\u001b[0m\u001b[0mget_pretrained_model\u001b[0m\u001b[0;34m(\u001b[0m\u001b[0mmodel_type\u001b[0m\u001b[0;34m:\u001b[0m \u001b[0mstr\u001b[0m\u001b[0;34m,\u001b[0m \u001b[0mmodel_name\u001b[0m\u001b[0;34m:\u001b[0m \u001b[0mstr\u001b[0m\u001b[0;34m)\u001b[0m\u001b[0;34m\u001b[0m\u001b[0;34m\u001b[0m\u001b[0m\n",
       "\u001b[0;31mDocstring:\u001b[0m\n",
       "Instantiates model and restores model's state from checkpoint.\n",
       "\n",
       "Downloads model checkpoint if necessary.\n",
       ".. note::\n",
       "    Not supported for SchNorb and PhiSNet models.\n",
       "\n",
       "Args:\n",
       "    model_type (str): model framework, must be one of [\"torch\", \"lightning\"]\n",
       "    model_name (str): model checkpoint name. Available models can be listed with\n",
       "        :meth:nablaDFT.registry.ModelRegistry.list_models\n",
       "\u001b[0;31mFile:\u001b[0m      ~/anaconda3/envs/p4env/lib/python3.10/site-packages/nablaDFT/model_registry.py\n",
       "\u001b[0;31mType:\u001b[0m      method"
      ]
     },
     "metadata": {},
     "output_type": "display_data"
    }
   ],
   "source": [
    "model_registry.get_pretrained_model?"
   ]
  },
  {
   "cell_type": "code",
   "execution_count": null,
   "id": "f4a59f3c-0b3e-4038-923d-9d2fa3ac1f99",
   "metadata": {},
   "outputs": [],
   "source": []
  }
 ],
 "metadata": {
  "kernelspec": {
   "display_name": "Python 3.10 (p4env)",
   "language": "python",
   "name": "p4env"
  },
  "language_info": {
   "codemirror_mode": {
    "name": "ipython",
    "version": 3
   },
   "file_extension": ".py",
   "mimetype": "text/x-python",
   "name": "python",
   "nbconvert_exporter": "python",
   "pygments_lexer": "ipython3",
   "version": "3.10.13"
  }
 },
 "nbformat": 4,
 "nbformat_minor": 5
}
