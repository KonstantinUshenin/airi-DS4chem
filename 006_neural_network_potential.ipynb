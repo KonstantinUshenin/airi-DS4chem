{
 "cells": [
  {
   "cell_type": "markdown",
   "id": "145c3863-e27f-4d9e-b03e-301d3d454511",
   "metadata": {},
   "source": [
    "# Предсказание энергии и сил с помощью нейронного потенциала"
   ]
  },
  {
   "cell_type": "code",
   "execution_count": 1,
   "id": "89d515be-2eef-41e9-be58-d39c01dbdccc",
   "metadata": {},
   "outputs": [],
   "source": [
    "from ase.io import read, write\n",
    "from ase.visualize import view"
   ]
  },
  {
   "cell_type": "markdown",
   "id": "3c9f100b-b873-402d-818f-58b939f8b3cc",
   "metadata": {},
   "source": [
    "## MACE"
   ]
  },
  {
   "cell_type": "code",
   "execution_count": null,
   "id": "8ff289ce-19ab-4dfa-8532-f2268285d014",
   "metadata": {},
   "outputs": [],
   "source": [
    "%pip install mace-torch mace-models # Нейронный потенциал"
   ]
  },
  {
   "cell_type": "code",
   "execution_count": 12,
   "id": "9dadc21c-3ee0-4650-84bc-d2f1efa8838b",
   "metadata": {},
   "outputs": [],
   "source": [
    "import mace_models"
   ]
  },
  {
   "cell_type": "code",
   "execution_count": 16,
   "id": "b48e8d85-1d2c-4e15-b0c9-7743425907ca",
   "metadata": {},
   "outputs": [
    {
     "name": "stdout",
     "output_type": "stream",
     "text": [
      "\n",
      "        You're using the MACE-MP-0_small model. The model is released under the MIT license.\n",
      "        Note:\n",
      "        If you are using this model, please cite the relevant paper for the Materials Project,\n",
      "        any paper associated with the MACE model, and also the following:\n",
      "        - MACE-Universal by Yuan Chiang, 2023, Hugging Face, Revision e5ebd9b,\n",
      "            DOI: 10.57967/hf/1202, URL: https://huggingface.co/cyrusyc/mace-universal\n",
      "        - Matbench Discovery by Janosh Riebesell, Rhys EA Goodall, Philipp Benner, Yuan Chiang,\n",
      "            Alpha A Lee, Anubhav Jain, Kristin A Persson, 2023, arXiv:2308.14920\n",
      "        - https://arxiv.org/abs/2401.00096\n",
      "           \n",
      "Default dtype float32 does not match model dtype float64, converting models to float32.\n"
     ]
    }
   ],
   "source": [
    "model = mace_models.load(\"MACE-MP-0_small\")\n",
    "calc = model.get_calculator()"
   ]
  },
  {
   "cell_type": "code",
   "execution_count": 17,
   "id": "6c411574-ab74-4a5a-b175-32aca1acb6e3",
   "metadata": {},
   "outputs": [
    {
     "name": "stdout",
     "output_type": "stream",
     "text": [
      "Energy [eV]: -150.65699768066406\n",
      "Forces [eV/Å]: [[-0.12354073 -0.14099595 -0.296571  ]\n",
      " [ 0.13383727  0.31513548 -0.06785819]\n",
      " [ 0.24869493 -0.20740423  0.12984572]\n",
      " [-0.2595753   0.03201146  0.23448575]\n",
      " [ 0.00460589  0.07350921 -0.1508133 ]\n",
      " [ 0.04659631 -0.144941   -0.06730784]\n",
      " [-0.15940371 -0.04533143 -0.02577613]\n",
      " [ 0.15655166  0.04350179  0.02453544]\n",
      " [-0.05006527  0.14558153  0.06975335]\n",
      " [-0.00345007 -0.07374209  0.1469714 ]\n",
      " [-0.04331528 -0.04862058 -0.102209  ]\n",
      " [ 0.04789099  0.11189583 -0.02425441]\n",
      " [ 0.08854449 -0.07382677  0.04648544]\n",
      " [-0.09074399  0.01122495  0.08151346]\n",
      " [ 0.08243969 -0.00980102 -0.07544948]\n",
      " [-0.07981873  0.0666938  -0.04269473]\n",
      " [-0.0416047  -0.1003322   0.02060886]\n",
      " [ 0.08406468 -0.01139742 -0.0758651 ]\n",
      " [-0.08088805  0.06568318 -0.0418711 ]\n",
      " [-0.04419085 -0.10051446  0.02123776]\n",
      " [ 0.08512318 -0.00972746 -0.07481712]\n",
      " [ 0.04235387  0.04639164  0.09635566]\n",
      " [ 0.03887702  0.04459685  0.09303236]\n",
      " [-0.08022614  0.06753297 -0.04122199]\n",
      " [-0.04367642 -0.10258153  0.02343217]\n",
      " [ 0.04091894  0.04545757  0.09845167]]\n"
     ]
    }
   ],
   "source": [
    "# --- 1. Read xyz with ASE ---\n",
    "mol = read(\"./data/Adamantane.sdf\")   # ASE Atoms object\n",
    "mol.calc = calc\n",
    "# --- 3. Compute properties ---\n",
    "energy = mol.get_potential_energy()      # in eV\n",
    "forces = mol.get_forces()                # shape (n_atoms, 3)\n",
    "\n",
    "print(\"Energy [eV]:\", energy)\n",
    "print(\"Forces [eV/Å]:\", forces)\n"
   ]
  },
  {
   "cell_type": "markdown",
   "id": "84c07950-156c-4518-8977-56093ecc0ed8",
   "metadata": {},
   "source": [
    "# NablaDFT \n",
    "\n",
    "Продолжение в блокноте `./nablaDFT/006_neural_network_potential_part2.ipynb`"
   ]
  },
  {
   "cell_type": "code",
   "execution_count": null,
   "id": "4577ee6d-ffb7-4b89-be49-41e5fe8c7011",
   "metadata": {},
   "outputs": [],
   "source": []
  }
 ],
 "metadata": {
  "kernelspec": {
   "display_name": "Python 3.10 (p4env)",
   "language": "python",
   "name": "p4env"
  },
  "language_info": {
   "codemirror_mode": {
    "name": "ipython",
    "version": 3
   },
   "file_extension": ".py",
   "mimetype": "text/x-python",
   "name": "python",
   "nbconvert_exporter": "python",
   "pygments_lexer": "ipython3",
   "version": "3.10.13"
  }
 },
 "nbformat": 4,
 "nbformat_minor": 5
}
