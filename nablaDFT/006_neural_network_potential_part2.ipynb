{
 "cells": [
  {
   "cell_type": "code",
   "execution_count": 12,
   "id": "a2a5af35-16a1-4d25-8451-65bde3d70847",
   "metadata": {},
   "outputs": [],
   "source": [
    "import os\n",
    "\n",
    "import hydra\n",
    "import pytorch_lightning as pl\n",
    "import torch\n",
    "from ase.db import connect\n",
    "from nablaDFT import model_registry\n",
    "from nablaDFT.dataset import PyGNablaDFTDataModule\n",
    "from nablaDFT.pipelines import predict\n",
    "from omegaconf import OmegaConf"
   ]
  },
  {
   "cell_type": "code",
   "execution_count": 13,
   "id": "50d7200f-9090-4523-81c1-be363f9468d5",
   "metadata": {},
   "outputs": [],
   "source": [
    "data_args = {\n",
    "    \"root\": \"./datasets/nablaDFT/test\",\n",
    "    \"dataset_name\": \"dataset_test_conformations_tiny\",\n",
    "    \"batch_size\": 4,\n",
    "    \"num_workers\": 2,\n",
    "}\n",
    "if torch.cuda.is_available():\n",
    "    accelerator = \"gpu\"\n",
    "    devices = 1\n",
    "else:\n",
    "    accelerator = \"cpu\"\n",
    "    devices = None"
   ]
  },
  {
   "cell_type": "code",
   "execution_count": 14,
   "id": "f8e5cf08-4671-4820-b8ce-2eb2a79183f0",
   "metadata": {},
   "outputs": [
    {
     "name": "stderr",
     "output_type": "stream",
     "text": [
      "Downloading GemNet-OC_train_large: 578MB [00:14, 40.5MB/s]                                                                                 \n",
      "/home/kostanew/anaconda3/envs/p4env/lib/python3.10/site-packages/pytorch_lightning/utilities/parsing.py:198: Attribute 'metric' is an instance of `nn.Module` and is already saved during checkpointing. It is recommended to ignore them using `self.save_hyperparameters(ignore=['metric'])`.\n",
      "GPU available: True (cuda), used: True\n",
      "TPU available: False, using: 0 TPU cores\n",
      "IPU available: False, using: 0 IPUs\n",
      "HPU available: False, using: 0 HPUs\n"
     ]
    }
   ],
   "source": [
    "model = model_registry.get_pretrained_model(\"lightning\", \"GemNet-OC_train_large\")\n",
    "datamodule = PyGNablaDFTDataModule(**data_args)\n",
    "trainer = pl.Trainer(accelerator=accelerator, devices=devices)\n",
    "trainer.logger = False\n"
   ]
  },
  {
   "cell_type": "code",
   "execution_count": 15,
   "id": "a9a7ea76-3864-47f8-b98a-3a28920694ad",
   "metadata": {},
   "outputs": [
    {
     "name": "stderr",
     "output_type": "stream",
     "text": [
      "You are using a CUDA device ('NVIDIA GeForce RTX 3080 Laptop GPU') that has Tensor Cores. To properly utilize them, you should set `torch.set_float32_matmul_precision('medium' | 'high')` which will trade-off precision for performance. For more details, read https://pytorch.org/docs/stable/generated/torch.set_float32_matmul_precision.html#torch.set_float32_matmul_precision\n",
      "Downloading split: dataset_test_conformations_tiny: 100%|█████████████████████████████████████████████| 11.1M/11.1M [00:00<00:00, 30.8MB/s]\n",
      "Processing...\n",
      "100%|████████████████████████████████████████████████████████████████████████████████████████████████| 2774/2774 [00:01<00:00, 2467.94it/s]\n",
      "INFO:nablaDFT.dataset.pyg_datasets:Saved processed dataset: datasets/nablaDFT/test/processed/dataset_test_conformations_tiny_predict.pt\n",
      "Done!\n",
      "LOCAL_RANK: 0 - CUDA_VISIBLE_DEVICES: [0]\n"
     ]
    },
    {
     "data": {
      "application/vnd.jupyter.widget-view+json": {
       "model_id": "a6612ca7a88f4d979a5297be1a5ffd73",
       "version_major": 2,
       "version_minor": 0
      },
      "text/plain": [
       "Predicting: |                                                                                                 …"
      ]
     },
     "metadata": {},
     "output_type": "display_data"
    },
    {
     "name": "stderr",
     "output_type": "stream",
     "text": [
      "INFO:root:Write predictions to predictions/GemNet-OC-large_dataset_test_conformations_tiny.db\n"
     ]
    }
   ],
   "source": [
    "predict(trainer, model, datamodule, ckpt_path=None, model_name=\"GemNet-OC-large\", output_dir=\"./predictions\")"
   ]
  },
  {
   "cell_type": "code",
   "execution_count": 16,
   "id": "0843cbf0-7690-458e-a2c7-9fa60625f31f",
   "metadata": {},
   "outputs": [
    {
     "name": "stdout",
     "output_type": "stream",
     "text": [
      "Predicted energy: [-6.055543422698975]\n",
      "Predicted interatomic forces:\n",
      "[[ 3.40643935e-02  1.61777381e-02 -6.22326694e-02]\n",
      " [-2.85620289e-03 -3.46308611e-02 -1.75479930e-02]\n",
      " [-8.64476264e-02  2.33703889e-02  6.05947115e-02]\n",
      " [ 8.89855027e-02  1.12606687e-02 -2.05886275e-01]\n",
      " [ 1.15613164e-02 -2.96420865e-02  1.33667454e-01]\n",
      " [ 3.51779200e-02  2.05350779e-02  2.25494280e-02]\n",
      " [-2.69800629e-02 -3.53164971e-02 -1.77055355e-02]\n",
      " [ 4.11478356e-02 -8.74247402e-02  5.56267537e-02]\n",
      " [ 1.87740941e-02  7.37474672e-03 -1.03036799e-02]\n",
      " [ 1.24148568e-02 -4.48866524e-02 -1.14919133e-02]\n",
      " [ 1.70258526e-03 -7.12430850e-03 -5.78673673e-04]\n",
      " [-2.35788897e-02 -3.81501131e-02  5.07842051e-03]\n",
      " [-4.07069698e-02  4.83627357e-02  7.44050462e-03]\n",
      " [ 2.16332860e-02 -2.79590711e-02 -1.79409736e-03]\n",
      " [ 1.22112278e-02  7.30230063e-02 -2.21254100e-04]\n",
      " [-1.38332024e-01 -7.06819966e-02 -1.08784549e-01]\n",
      " [ 4.83015142e-02  1.12306774e-01 -7.58751063e-04]\n",
      " [ 9.95967910e-02 -5.26936986e-02  1.81389198e-01]\n",
      " [-5.93704395e-02  5.26559502e-02 -1.22412317e-01]\n",
      " [-9.33886040e-03 -1.14055249e-04  4.99656191e-03]\n",
      " [-4.93578659e-03  2.08233986e-02  2.81365458e-02]\n",
      " [ 2.40932408e-04 -8.33049230e-03 -4.70273662e-03]\n",
      " [-2.34685224e-02  2.91459705e-03  8.18175916e-03]\n",
      " [-4.70270915e-03  2.40952261e-02  1.99551135e-02]\n",
      " [ 5.24340710e-03 -3.87185486e-03  9.53389239e-03]\n",
      " [-1.65162259e-03  8.41043983e-03 -4.66186600e-03]\n",
      " [ 4.35869256e-03  2.95113437e-02 -5.84958878e-04]\n",
      " [ 1.18016417e-03  6.81955414e-03  1.92944799e-02]\n",
      " [ 1.33245094e-02 -8.31575133e-03  9.17489547e-03]\n",
      " [ 4.35184874e-03 -2.56802961e-02  1.07622705e-03]\n",
      " [-4.40813135e-03 -1.15224635e-02  4.73050750e-04]\n",
      " [-8.45480338e-03 -1.29266288e-02  1.04285940e-03]\n",
      " [-1.92539357e-02  3.40867825e-02  3.10746580e-03]\n",
      " [ 2.15734297e-04  7.54316291e-03 -1.65202201e-03]]\n"
     ]
    }
   ],
   "source": [
    "db = connect(\"./predictions/GemNet-OC-large_dataset_test_conformations_tiny.db\")\n",
    "row = db.get(1)\n",
    "\n",
    "energy, forces = row.data[\"energy_pred\"], row.data[\"forces_pred\"]\n",
    "\n",
    "print(f\"Predicted energy: {energy}\")\n",
    "print(\"Predicted interatomic forces:\")\n",
    "print(forces)"
   ]
  },
  {
   "cell_type": "code",
   "execution_count": null,
   "id": "a9117c85-3a63-4167-b8b1-a5526a834ca1",
   "metadata": {},
   "outputs": [],
   "source": []
  }
 ],
 "metadata": {
  "kernelspec": {
   "display_name": "Python 3.10 (p4env)",
   "language": "python",
   "name": "p4env"
  },
  "language_info": {
   "codemirror_mode": {
    "name": "ipython",
    "version": 3
   },
   "file_extension": ".py",
   "mimetype": "text/x-python",
   "name": "python",
   "nbconvert_exporter": "python",
   "pygments_lexer": "ipython3",
   "version": "3.10.13"
  }
 },
 "nbformat": 4,
 "nbformat_minor": 5
}
